{
 "cells": [
  {
   "cell_type": "code",
   "execution_count": 63,
   "metadata": {},
   "outputs": [],
   "source": [
    "import os\n",
    "import shutil\n",
    "import sys\n",
    "import subprocess\n",
    "import requests\n",
    "import json\n",
    "import re\n",
    "import time\n",
    "import yt_dlp\n",
    "\n",
    "DEBUG = 1\n",
    "wallpaper_engine_appid = 431960\n",
    "BASE_DIR = '/Users/bebeal/Programs/ProjectionSorcery'\n",
    "LOCAL_WORKSHOP_DIR = './cache/workshop'\n",
    "YOUTUBE_DOWNLOAD_DIR = './cache/youtube'\n",
    "REDDIT_DOWNLOAD_DIR = './cache/reddit'\n",
    "IMGUR_DOWNLOAD_DIR = './cache/imgur'\n",
    "\n",
    "def debug_print(level, message):\n",
    "    if DEBUG >= level:\n",
    "        print(message)\n",
    "\n",
    "def ensure_directory_exists(directory):\n",
    "    if not os.path.exists(directory):\n",
    "        os.makedirs(directory)\n",
    "\n",
    "def check_cache(directory, filename):\n",
    "    file_path = os.path.join(directory, filename)\n",
    "    if os.path.exists(file_path):\n",
    "        debug_print(1, f'Cache hit at {directory}/{filename}')\n",
    "        return file_path\n",
    "    return None"
   ]
  },
  {
   "cell_type": "code",
   "execution_count": 64,
   "metadata": {},
   "outputs": [],
   "source": [
    "######################################\n",
    "#             Youtube                #\n",
    "######################################\n",
    "\n",
    "youtube_domain = 'youtube.com'\n",
    "def youtube_video(video_id): return f'https://www.{youtube_domain}/watch?v={video_id}'\n",
    "def youtube_playlist(playlist_id): return f'https://www.{youtube_domain}/playlist?list={playlist_id}'\n",
    "def youtube_channel(channel_id): return f'https://www.{youtube_domain}/channel/{channel_id}'\n",
    "def youtube_search(query): return f'https://www.{youtube_domain}/results?search_query={query}'\n",
    "def youtube_channel_videos(channel_id): return f'https://www.{youtube_domain}/channel/{channel_id}/videos'\n",
    "\n",
    "def download_youtube_video(video_id, dir=YOUTUBE_DOWNLOAD_DIR):\n",
    "  ensure_directory_exists(dir)\n",
    "  if not check_cache(dir, f'{video_id}.mp4'):\n",
    "    # https://github.com/ytdl-org/youtube-dl/blob/master/youtube_dl/YoutubeDL.py#L157\n",
    "    ydl_opts = {\n",
    "      'outtmpl': f'{dir}/{video_id}',\n",
    "      'format': \"bv*[ext=mp4]+ba[ext=m4a]/b[ext=mp4] / bv*+ba/b\" # Download the best mp4 video available, or the best video if no mp4 available\n",
    "    }\n",
    "    url = f'https://www.{youtube_domain}/watch?v={video_id}'\n",
    "    yt_dlp.YoutubeDL(ydl_opts).download([url])\n",
    "  return f'{dir}/{video_id}.mp4'\n",
    "# download_youtube_video('YAgjfMR9R_M')"
   ]
  },
  {
   "cell_type": "code",
   "execution_count": 65,
   "metadata": {},
   "outputs": [],
   "source": [
    "######################################\n",
    "#             Reddit                 #\n",
    "######################################\n",
    "\n",
    "reddit_domain = 'reddit.com'\n",
    "reddit_content_domain = 'i.redd.it'\n",
    "def reddit_post(post_id): return f'https://www.{reddit_domain}/comments/{post_id}/.json'\n",
    "def reddit_subreddit(subreddit): return f'https://www.{reddit_domain}/r/{subreddit}/.json'\n",
    "def reddit_search(query, domain=reddit_domain): return f'https://www.{domain}/search/.json?q={query}'\n",
    "\n",
    "def download_reddit_content(content, dir=REDDIT_DOWNLOAD_DIR):\n",
    "  ensure_directory_exists(dir)\n",
    "  if not check_cache(dir, content):\n",
    "    url = f'https://{reddit_content_domain}/{content}'\n",
    "    response = requests.get(url)\n",
    "    if response.status_code == 200:\n",
    "      file = open(os.path.join(dir, content), 'wb')\n",
    "      file.write(response.content)\n",
    "      debug_print(1, f'Downloaded {url} to {dir}/{content}')\n",
    "      file.close()\n",
    "    else:\n",
    "      debug_print(1, f'Failed to download {url}')\n",
    "  return f'{dir}/{content}'\n",
    "\n",
    "# download_reddit_content('xv7ooelxqbu61.png')"
   ]
  },
  {
   "cell_type": "code",
   "execution_count": 66,
   "metadata": {},
   "outputs": [
    {
     "name": "stdout",
     "output_type": "stream",
     "text": [
      "Cache hit at ./cache/workshop/3257943478.mp4\n"
     ]
    },
    {
     "data": {
      "text/plain": [
       "'./cache/workshop/3257943478.mp4'"
      ]
     },
     "execution_count": 66,
     "metadata": {},
     "output_type": "execute_result"
    }
   ],
   "source": [
    "######################################\n",
    "#             Steam                  #\n",
    "######################################\n",
    "\n",
    "steam_domain = 'steamcommunity.com'\n",
    "def steam_workshop(workshop_id): return f'https://steamcommunity.com/sharedfiles/filedetails/?id={workshop_id}'\n",
    "login = f\"{os.environ['STEAM_USER']} {os.environ['STEAM_PASS']}\" # ' anonymous' for anonymous login\n",
    "\n",
    "def run_steamcmd(command):\n",
    "    base_command = f\"steamcmd +force_install_dir {BASE_DIR} +login {login}\"\n",
    "    full_command = f\"{base_command} {command} +quit\"\n",
    "    result = subprocess.run(full_command, shell=True)\n",
    "    return result.returncode\n",
    "\n",
    "def check_steam_cache(dir, workshop_id):\n",
    "    # check for any extension\n",
    "    for ext in ['jpg', 'jpeg', 'png', 'mp4', 'webm', 'gif', 'pkg', 'json']:\n",
    "        if check_cache(dir, f'{workshop_id}.{ext}'):\n",
    "            return ext\n",
    "\n",
    "def download_steam_workshop_item(workshop_id, app_id=wallpaper_engine_appid, dir=LOCAL_WORKSHOP_DIR):\n",
    "    if not workshop_id.isnumeric():\n",
    "        only_numeric = re.sub(r'\\D', '', workshop_id)\n",
    "        debug_print(1, f'Invalid workshop ID {workshop_id}, using {only_numeric}')\n",
    "        workshop_id = only_numeric\n",
    "    ensure_directory_exists(dir)\n",
    "    extension_found = check_steam_cache(dir, workshop_id)\n",
    "    if not extension_found:\n",
    "        run_steamcmd(f'+workshop_download_item {app_id} {workshop_id}')\n",
    "        workshop_dir = f'steamapps/workshop/content/{app_id}/{workshop_id}'\n",
    "        if os.path.exists(workshop_dir):\n",
    "            project_file = open(os.path.join(workshop_dir, 'project.json'), 'r')\n",
    "            project = json.load(project_file)\n",
    "            project_name = project['file']\n",
    "            extension = project_name.split('.')[-1]\n",
    "            project_name = project_name.replace('.' + extension, '')\n",
    "            if project_name:  # Check if project_name is not None or empty\n",
    "                if extension == 'json':\n",
    "                    extension = 'pkg'\n",
    "                source_path = os.path.join(workshop_dir, f'{project_name}.{extension}')\n",
    "                destination_path = os.path.join(dir, f'{workshop_id}.{extension}')\n",
    "                shutil.move(source_path, destination_path)\n",
    "                return destination_path\n",
    "    return f'{dir}/{workshop_id}.{extension_found}'\n",
    "\n",
    "def clean_steamcmd():\n",
    "    shutil.rmtree(f'steamapps', ignore_errors=True)\n",
    "\n",
    "def clear_cache():\n",
    "    shutil.rmtree(LOCAL_WORKSHOP_DIR, ignore_errors=True)\n",
    "\n",
    "download_steam_workshop_item('3257943478')\n",
    "# download_steam_workshop_item('2412473886')\n",
    "# clean_steamcmd()"
   ]
  }
 ],
 "metadata": {
  "kernelspec": {
   "display_name": "base",
   "language": "python",
   "name": "python3"
  },
  "language_info": {
   "codemirror_mode": {
    "name": "ipython",
    "version": 3
   },
   "file_extension": ".py",
   "mimetype": "text/x-python",
   "name": "python",
   "nbconvert_exporter": "python",
   "pygments_lexer": "ipython3",
   "version": "3.11.9"
  }
 },
 "nbformat": 4,
 "nbformat_minor": 2
}
