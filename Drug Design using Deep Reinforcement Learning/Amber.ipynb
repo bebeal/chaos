{
  "nbformat": 4,
  "nbformat_minor": 0,
  "metadata": {
    "colab": {
      "provenance": [],
      "collapsed_sections": [
        "CFWhCA-mrmK7",
        "jpOr0WV8zXa6",
        "d-Y_OeLUo0u7",
        "higfmnTgpAvL",
        "igove9VlpHxc",
        "Uz1kuEupCW0F",
        "bzmoW0f_qY4i",
        "NodDs2QBlSxh",
        "GQMw8h-Aqcxu",
        "PxKA-1jJnGH1",
        "b-GG92vwnLd9",
        "3Sy0eXff86CY"
      ],
      "toc_visible": true
    },
    "kernelspec": {
      "name": "python3",
      "display_name": "Python 3"
    }
  },
  "cells": [
    {
      "cell_type": "markdown",
      "metadata": {
        "id": "CFWhCA-mrmK7"
      },
      "source": [
        "# **Loading Amber into the TACC Machines**\n"
      ]
    },
    {
      "cell_type": "markdown",
      "metadata": {
        "id": "NMn-Ncd0rxX9"
      },
      "source": [
        "Amber is a molecular simulation libary that allows a scientists to simulate various organic molecules including proteins, lipids, DNA, and RNA."
      ]
    },
    {
      "cell_type": "markdown",
      "metadata": {
        "id": "X3G9ZIKZfuv6"
      },
      "source": [
        "1. SSH into a TACC machine with the amber installed in it\n",
        "2. Run `module spider amber` to see what other modules you need to load and load those modules (It’s `module load intel/17.0.4` for Amber16 on stampede)\n",
        "4. Finally load the amber module with `module load amber`\n"
      ]
    },
    {
      "cell_type": "markdown",
      "metadata": {
        "id": "nBFYoL5bY5R5"
      },
      "source": [
        "| Machine   | Amber Version| GPU's Available |\n",
        "|-----------|--------------|-----------------|\n",
        "| Longhorn  |    20.0      |    &#x2612;     |\n",
        "| Stampede2 |    16.0      |    &#2612;      |\n",
        "\n",
        "\n",
        ""
      ]
    },
    {
      "cell_type": "markdown",
      "metadata": {
        "id": "N_g5gd4Nf3DT"
      },
      "source": [
        "GPU Features **NOT** Supported as of GPU v16.0.0\n",
        "\n",
        "---------------------------------------------------\n",
        "\n",
        "* ibelly /= 0 Simulations using belly style constraints are not supported.\n",
        "* icfe /= 0\tSupport for TI is not currently implemented. An update is planned within the next few months that will add this support.\n",
        "* if (igb/=0 & cut < systemsize) GPU accelerated implicit solvent GB simulations do not support a cutoff.\n",
        "* nmropt > 1\tSupport is not currently available for nmropt > 1. In addition for nmropt = 1 only features that do not change the underlying force field parameters are supported. For example umbrella sampling restraints are supported as well as simulated annealing functions such as variation of Temp0 with simulation step. However, varying the VDW parameters with step is NOT supported.\n",
        "* nrespa /= 1\tNo multiple time stepping is supported.\n",
        "* vlimit /= -1\tFor performance reasons the vlimit function is not implemented on GPUs.\n",
        "* es_cutoff /= vdw_cutoff\tIndependent cutoffs for electrostatics and van der Waals are not supported on GPUs.\n",
        "* order > 4\tPME interpolation orders of greater than 4 are not supported at present.\n",
        "* imin=1 (in parallel) Minimization is only supported in the serial GPU code.\n",
        "* netfrc is ignored\tThe GPU code does not currently support the netfrc correction in PME calculations and the value of netfrc in the ewald namelist is ignored.\n",
        "* emil_do_calc /= 0\tEmil is not supported on GPUs.\n",
        "* lj264 /= 0 The 12-6-4 potential is not supported on GPUs.\n",
        "* isgld > 0\tSelf guided langevin is not supported on GPUs.\n",
        "* iemap > 0\tEMAP restraints are not supported on GPUs.\n"
      ]
    },
    {
      "cell_type": "markdown",
      "metadata": {
        "id": "1XK1TZYnqOkn"
      },
      "source": [
        "# Basics"
      ]
    },
    {
      "cell_type": "markdown",
      "metadata": {
        "id": "Zgt-AeK2qQfw"
      },
      "source": [
        "## Force Fields"
      ]
    },
    {
      "cell_type": "markdown",
      "metadata": {
        "id": "LErUEqHyqVGz"
      },
      "source": [
        "**Functional form**:\n",
        "\n",
        "The functional form of the Amber force field (neglecting implicit solvent or polarisation terms) uses the following Hamiltonian:\n",
        "\n",
        "$$\n",
        "\\begin{align}\n",
        "E_{\\text{total}} &= \\sum _{\\text{bonds}} k_b(r-r_0)^2\\\\\n",
        "&+\\sum _{\\text{angles}} k_{\\theta}(\\theta-\\theta _0)^2\\\\\n",
        "&+\\sum _{\\text{dihedrals}} V_n[1+\\cos(n \\phi-\\gamma)]\\\\\n",
        "&+\\sum _{i=1}^{N-1}\\sum _{j = i + 1}^N \\left[\\frac{A_{ij}}{R_{ij}^{12}}-\\frac{B_{ij}}{R_{ij}^6}+\\frac{q_i q_j}{\\epsilon R_{ij}} \\right]\n",
        "\\end{align}\n",
        "$$\n",
        "\n",
        "<font size = \"1\"> does not use the (physically more correct) $\\frac{k_b}{2}$, $\\frac{k_θ}{2}$, and $\\frac{V_n}{2}$ notations because it refers to the constants as they appear in the actual parameter files. </font>\n",
        "\n",
        "\n",
        "\n",
        "* First term (summing over bonds): represents the energy between covalently bonded atoms. This harmonic (ideal spring) force is a good approximation near the equilibrium bond length, but becomes increasingly poor as atoms separate.\n",
        "* Second term (summing over angles): represents the energy due to the geometry of electron orbitals involved in covalent bonding.\n",
        "* Third term (summing over torsions): represents the energy for twisting a bond due to bond order (e.g., double bonds) and neighboring bonds or lone pairs of electrons. One bond may have more than one of these terms, such that the total torsional energy is expressed as a Fourier series.\n",
        "* Fourth term (double summation over $i$ and $j$): represents the non-bonded energy between all atom pairs, which can be decomposed into van der Waals (first term of summation) and electrostatic (second term of summation) energies.\n",
        "\n",
        "<br>\n",
        "\n",
        "**Types of force fields:**\n",
        "\n",
        "* a protein force field (recommended choice is ff14SB)\n",
        "* a DNA force field (recommended choice is OL15)\n",
        "* an RNA force field (recommended choice is OL3)\n",
        "* a carbohydrate force field (recommended choice is GLYCAM_06j)\n",
        "* a lipid force field (recommended choice is lipid17)\n",
        "* a water model with associated atomic ions (more variable, but the most common choice is still tip3p); other popular choices are spc/e, tip4pew, and OPC. Not needed if you are using an implicit solvent model.\n",
        "* a general force field, for organic molecules like ligands (recommended choice is gaff2)\n",
        "* other components (such as modified amino acids or nucleotides, other ions), as needed"
      ]
    },
    {
      "cell_type": "markdown",
      "metadata": {
        "id": "qj9uwEVi0xY0"
      },
      "source": [
        "# Obtaining a PDB file or EM Map"
      ]
    },
    {
      "cell_type": "markdown",
      "metadata": {
        "id": "UtUPdQkp03aP"
      },
      "source": [
        "The [Protein Data Bank](https://www.rcsb.org/) (PDB) contains a vast library of proteins whose structures have already been solved with experimental methods such as X-ray Crystallography or NMR Spectroscopy.\n",
        "\n",
        "EM Maps can be found at [Electron Microscopy Data Bank](https://www.ebi.ac.uk/pdbe/emdb/).\n",
        "\n",
        "In order to find the structures/EM Maps:\n",
        "\n",
        "1. Go to the PDB or EMDB website and search for the name of the protein\n",
        "2. Once you have seen your desired protein, click \"Download Files\" and select the format you want (usually the .pdb for PDB files or .map/.mrc for EM maps)\n",
        "\n",
        "If you want to do all the querying and downloading without having to leave the terminal, you can also obtain the PDB structures with FTP (File Transfer Protocol) through [PDB's FTP Server](http://ftp.rcsb.org/). `ftp ftp.rcsb.org`\n",
        "\n",
        "\n",
        "\n",
        "\n",
        "If you wanted, you could also query for desired PDB ids with PDB's [REST API](https://www.rcsb.org/pdb/software/rest.do)."
      ]
    },
    {
      "cell_type": "markdown",
      "metadata": {
        "id": "2iBmRZrnzsJ1"
      },
      "source": [
        "# Cleaning the PDB file"
      ]
    },
    {
      "cell_type": "markdown",
      "metadata": {
        "id": "9XvJ3F3dz1hD"
      },
      "source": [
        "Cleaning the PDB file:\n",
        "\n",
        "The pdb file must be first cleaned before amber can process it. In general, you can just use the `pdb4amber` amber tool on the pdb file to clean it. The final PDB file should only contain the locations for the heavy atoms of amino acid.\n",
        "\n",
        "In case pdf4amber does not work completely, the actual PDB preprocessing requirements are in the [Amber Reference Manuals](https://ambermd.org/Manuals.php).  \n",
        "\n",
        "Some basic requirements are listed below:\n",
        "\n",
        "* Save ligands in MDL standard data files (SDF) or in PDB format and convert it to a SDF file later. The SDF file should include correct bond order and all hydrogens. In addition, the ligand’s heavy atom coordinates should be kept at their original location.\n",
        "\n",
        "* Delete irrelevant water molecules. If the water is needed for ligand binding, they must be specified as residues by the names WAT or HOH.\n",
        "\n",
        "* Delete irrelevant ions or co-factors\n",
        "\n",
        "* Delete protein hydrogens that are explicitly expressed in the PDB file\n",
        "\n",
        "* Remove all connectivity records (disulfide bonds will be reconnected later)\n",
        "\n",
        "* Use TER records to separate parts in the PDB file that are not connected covalently. This applies to individual water molecules that need to be kept.\n",
        "\n",
        "Running, `pdb4amber -i input.pdb -o output.pdb --dry --reduce` should delete the water molecules (hence the --dry option) and add hydrogens where necessary (hence the --reduce option).\n"
      ]
    },
    {
      "cell_type": "markdown",
      "metadata": {
        "id": "2WvgHP2RqaNF"
      },
      "source": [
        "# LEaP"
      ]
    },
    {
      "cell_type": "markdown",
      "metadata": {
        "id": "OmQafxLSqdyG"
      },
      "source": [
        "<font size = \"4\">Overview:</font>\n",
        "\n",
        "LEaP prepares input files for simulation programs, by collating parameters to make a complete description of a molecule. It serves as a portal between many chemical structure file types (.pdb), and the Amber model parameter file types (.lib, .prepi, parm.dat, and .frcmod).\n",
        "\n",
        "LEaP generates an AMBER topology file (.prmtop) and coordinate file (.inpcrd).\n",
        "\n",
        "- The coordinates reflects the structure it was given, after filling out any incomplete residues or constructing what it was told to make.\n",
        "\n",
        "- The topology is a complete description of how that system will behave. The simulation is needed because the system is almost certainly so complex that analytic solutions are not to be found.\n",
        "\n",
        "\n",
        "<br>\n",
        "\n",
        "\n",
        "<font size = \"4\">Steps to Build a Molecule for Molecular Dynamics:</font>\n",
        "\n",
        "1. Load UNIT or PARMSET objects.\n",
        "2. Construct molecule within LEaP\n",
        "3. Output topology and coordinate files from LEaP to use in AMBER.\n",
        "\n",
        "EX:\n",
        "\n",
        "---\n",
        "```bash\n",
        "source leaprc.protein.ff14SB (load a force field)\n",
        "x = loadPdb trypsin.pdb (load in a structure)\n",
        ".... add in cross-links, solvate, etc.\n",
        "saveAmberParm x prmtop prmcrd (save files)\n",
        "```\n",
        "---"
      ]
    },
    {
      "cell_type": "markdown",
      "metadata": {
        "id": "Vr1VJsiaNnoT"
      },
      "source": [
        "# Sander and Pmemd"
      ]
    },
    {
      "cell_type": "markdown",
      "metadata": {
        "id": "jzeByiI_NqTF"
      },
      "source": [
        "The two main programs that actually run simulations in Amber are Sander and its MPI version Pmemd. Although there are some features that pmemd does not support but sander does (and vice versa), they share many of the same capabilities. The main difference is that pmemd is parallelized and optimized for GPUs. As the TACC supercomputers are well-equipped for parallelized tasks, **it is usually faster to run simulations with pmemd rather than sander**. The basic syntax for sander is shown below. Besides replacing `sander` at the beginning with pmemd, the syntax for pmemd is the same.\n",
        "\n",
        "> sander [**-O**] [**-A**] **-i** md.in **-o** md.out **-p** parm.prmtop **-c** coor.inpcrd **-y** traij.inptraj **-r** rst.restart **-x** coor.nc **-v** vel.mdvel **-frc** frc.mdfrc **-e** eng.mden **-inf** info.mdinfo\n",
        "\n",
        "Flags:\n",
        "\n",
        "> **-O**: Overwrite all output files if they exist already\n",
        "\n",
        "> **-A**: Append to all output files\n",
        "\n",
        "Inputs:\n",
        "\n",
        "> **-i**: Input Simulation file\n",
        "\n",
        "> **-p**: Amber Parameter file (generated in tleap/xleap)\n",
        "\n",
        "> **-c**: Amber Coordinate file containing intial coordinates, velocities, and period box size (generated in tleap/xleap)\n",
        "\n",
        "> **-y**: Input Amber trajectory file (used when *imin=5*)\n",
        "\n",
        "Outputs:\n",
        "\n",
        "> **-o**: Ouput Simulation file\n",
        "\n",
        "> **-r**: Amber restart file that contains the information required to continue the simulation or start another simulation with the last simulations coordinates, velocities, and time step\n",
        "\n",
        "> **-x**: Ouput Amber coordinate trajectory file (can be either .nc or .mdcrd file)\n",
        "\n",
        "> **-v**: Output Amber velocity trajectory file\n",
        "\n",
        "> **-frc**: Output Amber force trajectory file\n",
        "\n",
        "> **-e**: Ouput Amber energy trajectory file (**not synchronized with coordinate or velcoity trajectory files**)\n",
        "\n",
        "> **-inf**: Latest recorded simulation energy information (only contains the energy state of the simulation when it ends)\n"
      ]
    },
    {
      "cell_type": "markdown",
      "metadata": {
        "id": "NEm-3AFut5m5"
      },
      "source": [
        "# Simulating Simple Protein in Amber (NOT COMPLETE)"
      ]
    },
    {
      "cell_type": "markdown",
      "metadata": {
        "id": "l1xcHWABuBnY"
      },
      "source": [
        "Once you have a cleaned pdb file or the sequence of the protein, we can begin to prep it for the simulation with Leap. A general procedure is provided below.\n",
        "\n",
        "1. Open up tleap (or xleap which is the GUI version) by running `tleap`\n",
        "\n",
        "2. For proteins, we use the recommended protein force field FF14SB. We load in force fields in amber with the `source` command.\n",
        "```bash\n",
        "source leaprc.protein.ff14SB\n",
        "```\n",
        "3. We can then either build the sequence manually with the `sequence` command as\n",
        "```bash\n",
        "protein = sequence {NAA1 AA2 AA3 ... CAAL}\n",
        "```\n",
        "Notice how we have to cap the first and last amnino acids with N and C repsectively.\n",
        "or we can load a cleaned PDB file (\"Cleaning the PDB\" for more information) with\n",
        "```bash\n",
        "protein = loadpdb pdb_file.pdb\n",
        "```\n",
        "\n",
        "4. For this simulation, we will use an explicit solvent (the other option is an implicit solvent). As we will use water as the solvent, let's load in the TIP3P water solvent.\n",
        "```bash\n",
        "source leaprc.water.tip3p\n",
        "```\n",
        "\n",
        "5. When using an explicit solvent, Amber places the atoms in a periodic box, in which atoms that happen to pass through one end of the box appear on the opposite end. t\n",
        "\n",
        "\n",
        "\n",
        "\n",
        "\n",
        "\n",
        "\n",
        "\n",
        "\n",
        "\n",
        "\n",
        "\n"
      ]
    },
    {
      "cell_type": "markdown",
      "metadata": {
        "id": "_OWL6oarKL6w"
      },
      "source": [
        "# Protein Folding Simulations with Cryo-EM Map Constraints (NOT COMPLETE)\n",
        "\n"
      ]
    },
    {
      "cell_type": "markdown",
      "metadata": {
        "id": "gN7jqlPDKbZI"
      },
      "source": [
        "In order to simulate proteins folding with Cryo-EM map constraints, we can use the `&emap` namelist in the simulation file. **Note that as of Amber 20, Amber does not support emap constraints for GPUs**.  "
      ]
    },
    {
      "cell_type": "markdown",
      "metadata": {
        "id": "daYJJRXNUwkK"
      },
      "source": [
        "# Parameters for Sander/Pmemd Simulations"
      ]
    },
    {
      "cell_type": "markdown",
      "metadata": {
        "id": "d-Y_OeLUo0u7"
      },
      "source": [
        "## General Parameters"
      ]
    },
    {
      "cell_type": "markdown",
      "metadata": {
        "id": "skAShiYVVHVS"
      },
      "source": [
        "**imin:** Defines whether we are doing minimizaton or not\n",
        "\n",
        ">0: (default) Set when running an MD without minimization\n",
        "\n",
        ">1: Set when performing energy minimization\n",
        "\n",
        ">5: Set when reading in a trajectory file as input\n",
        "\n",
        "**irest:** Defines whether we use the restart file or start a new simulation\n",
        "\n",
        ">0: (default) Start a new simulation at time step 0. Ignore velocities in the input coordinate file. Set this flag when you do not want to continue from the restart files last time step.\n",
        "\n",
        ">1: Read in the coordinates and velocities from the restart file and continue simulation from last time step in the restart file. Remember to set the ntx flag to 5 so that velocities can be read. (**Very useful when you run out of wall time and want to continue the simulation**)\n",
        "\n",
        "**ntx:** Defines whether we read in the velocities from the input file  \n",
        "\n",
        ">1: (default) Read in coordinates but not velocities from the input. Usually set when irest=0.\n",
        "\n",
        ">5: Read both coordinates and velocities from the input. **Must set when irest=1.**"
      ]
    },
    {
      "cell_type": "markdown",
      "metadata": {
        "id": "higfmnTgpAvL"
      },
      "source": [
        "## Input/Output Format Parameters"
      ]
    },
    {
      "cell_type": "markdown",
      "metadata": {
        "id": "_LQM1FUQ9oqt"
      },
      "source": [
        "**ntpr**: Prints *energy information* to the \"mdout\" and \"mdinfo\" files every *ntpr* time steps\n",
        "\n",
        "> Default: 50\n",
        "\n",
        "**ntwr**:\n",
        "\n",
        "> *ntwr* > 0: Writes to the restart file every *ntwr* time steps\n",
        "\n",
        "> *ntwr* < 0: Writes to a unique restart file (i.e. restrt_`nstep`) every abs(*ntwr*) time steps\n",
        "\n",
        "> Default: nstlim (nstlim is the total number of time steps in the simulation)\n",
        "\n",
        "**ntwx:** Writes the coordinates to the \"mdcrd\" file (trajectory file) every *ntwx* time steps\n",
        "\n",
        "> Default: 0\n",
        "\n",
        "**ntwprt**: Defines the number of atoms to include in the trajectory file (\"mdcrd\" and \"mdvel\")\n",
        "\n",
        "> 0: (default) Include all atoms in the trajectory files\n",
        "\n",
        "> *ntwprt* > 0: Include only atoms 1 to *ntwprt* in the trajectory files\n"
      ]
    },
    {
      "cell_type": "markdown",
      "metadata": {
        "id": "igove9VlpHxc"
      },
      "source": [
        "## Minimization Parameters"
      ]
    },
    {
      "cell_type": "markdown",
      "metadata": {
        "id": "2UhLiNlSAxqx"
      },
      "source": [
        "**maxcyc**: Defines the maximum number of minimization cycles\n",
        "\n",
        "> Default: 1\n",
        "\n",
        "**ntmin**: Defines the minimization method\n",
        "\n",
        "> 0: Full conjugate gradient minimization\n",
        "\n",
        "> 1: (default) *ncyc* cycles of steepest descent method followed the rest of the cycles being conjugate gradient\n",
        "\n",
        "> 2: Only steepest descent Method\n",
        "\n",
        "> 3: XMIN method\n",
        "\n",
        "> 4: LMOD Method\n",
        "\n",
        "**ncyc**: Defines the number of times steepest descent is performed at the beginnging of minimzation when *ntmin*=1\n",
        "\n",
        "> Default: 10\n",
        "\n"
      ]
    },
    {
      "cell_type": "markdown",
      "metadata": {
        "id": "ObDCHGu2pHTz"
      },
      "source": [
        "## Molecular Dynamics Parameters"
      ]
    },
    {
      "cell_type": "markdown",
      "metadata": {
        "id": "Uz1kuEupCW0F"
      },
      "source": [
        "### General MD Parameters"
      ]
    },
    {
      "cell_type": "markdown",
      "metadata": {
        "id": "Q-RAJazOBsRx"
      },
      "source": [
        "**nstlim**: Defines the number of MD steps to be performed\n",
        "\n",
        ">Default: 1\n",
        "\n",
        "**dt**: The time step in picoseconds. The maximum is 0.002 if SHAKE is used and 0.001 if it isn't. For temperatures above 300K, the step size should be reduced. Otherwise, the increased magnitude of the velocities and greater distance traveled between each force evaluation may lead to extremely high energies and system blowup.\n",
        "\n",
        ">Default: 0.001\n",
        "\n",
        "**nscm**: Defines the interval (in time steps) at which translational and rotational center-of-mass motion is removed.\n",
        "\n",
        "For non-periodic simulations, translational and rotational motion is removed every *nscm* steps.\n",
        "\n",
        "For periodic simulations, only translational motion is removed every *nscm* steps.\n",
        "\n",
        "For Langevin dynamics, the position of the center-of-mass of the molecules is reset to zero every *nscm* steps but not the velocities.\n",
        "\n",
        "> Default: 1000\n",
        "\n",
        "\n",
        "\n",
        "\n",
        "\n",
        "\n",
        "\n",
        "\n",
        "\n",
        "\n",
        "\n",
        "\n",
        "\n",
        "\n",
        "\n",
        "\n",
        "\n",
        "\n",
        "\n",
        "\n",
        "\n",
        "\n"
      ]
    },
    {
      "cell_type": "markdown",
      "metadata": {
        "id": "bzmoW0f_qY4i"
      },
      "source": [
        "### Temperature Regulation Parameters"
      ]
    },
    {
      "cell_type": "markdown",
      "metadata": {
        "id": "iEqAkJqkRPUd"
      },
      "source": [
        "#### General Temperature Regulation Parameters"
      ]
    },
    {
      "cell_type": "markdown",
      "metadata": {
        "id": "bBfWYrhuGgiU"
      },
      "source": [
        "**ntt:** Defines the temperature control method. There are several types of temperature regulation methods.\n",
        "\n",
        "NVE (or microcanonical) ensembles hold the system constant with respect to the number of atoms(N), the volume (V), and the energy (E). They approach the NVT (or canonical) ensemble as the number of degrees of freedom approaches infinity. In these systems, the temperature often varies. *ntt=0* is the only one temperature regulation scheme that is simulates an NVE ensemble.\n",
        "\n",
        "NVT ensembles hold the system constant with respect to the number of atoms (N), the volume (V), and the temperature (T). In order to keep the temperature constant, a \"thermostat\" is used that regulates energy leaving and exiting the system.\n",
        "\n",
        "NPT ensembles hold the system constant with respect to the number of atoms (N), the pressure (P), the temperature (T). They are generally not applicable to biological systems.\n",
        "\n",
        "> 0: Constant total energy clasical dynamics (NVE ensemble). **In general, do not use this method.**\n",
        "\n",
        "> 1: Constant temperature with the weak-coupling algorithm. This method only ensures that the total kinetic energy is approximate for the desired temperature, but it does not ensure that the temperature is even over all parts of the molecule. Atomic collisions can effect an even temperature distribution but this is not guraanteed.\n",
        "\n",
        "> 2: [Andersen](https://aip.scitation.org/doi/10.1063/1.439486)-like coupling scheme where imaginary \"collisions\" randomize the velocities to distriubution correspondign to *temp0* every *vrand* steps. In between these artifical collisions, the dynamics are Newtonian (normal). Too high of a collision rate will cause the molecules to explore the configuration space slower. Too low of a collision rate will cause the distribution of energies to be sampled slower.\n",
        "\n",
        "> 3: [Langevin dynamics](https://cmm.cit.nih.gov/intro_simulation/node24.html) with collision frequency given by *gamma_ln*. Make sure to the set the *ig* parameter is a different value at each restart of a simulation (setting it to -1 ensures this). **In general, use this method**.\n",
        "\n",
        ">9: Optimized Isokinetic Nose-Hoover chain ensemble:\n",
        "\n",
        "> 10: Stochastic Isokinetic Nose-Hoover RESPA integrator:\n",
        "\n",
        "**temp0:** Defines the reference temperture in Kelvins that the system should be kept at if *ntt>0*.\n",
        "\n",
        "> Default: 300\n",
        "\n",
        "**tempi**: Defines the initial temperature of the system in Kelvins\n",
        "\n",
        "> 0: (default) The velocities are calculated from the forces\n",
        "\n",
        "> *tempi* > 0: The velocities are sampled from a Maxwellian distribution at *tempi* Kelvin.\n",
        "\n",
        "**ig**: The seed for the MD simulations random number generator. This value affects the initial velcoities when *tempi* $\\neq$ 0 and *ntx* = 1. It also affect the initalizations of ithe Langevin dynamics and Andersen coupling (*ntt* = 2 or 3) and should be set to different values every restart.\n",
        "\n",
        "> -1: (default) the random seed is the current data and time\n",
        "\n",
        "**vlimit**: Reduces any velocity greater than abs(*vlimit*) to *vlimit* (preserving the sign). This used to prevent occasional instabilities.\n",
        "\n",
        "> Default: 20\n",
        "\n",
        "> 0: No limit\n",
        "\n",
        "\n"
      ]
    },
    {
      "cell_type": "markdown",
      "metadata": {
        "id": "lBgF_P7xRLex"
      },
      "source": [
        "#### Weak-Coupling Algorithm Parameters (ntt=1)"
      ]
    },
    {
      "cell_type": "markdown",
      "metadata": {
        "id": "IV7yHlYBTBqW"
      },
      "source": [
        "**tautp**: Time constant in picoseconds for heat bath coupling. The value should be in between 0.5 and 5.0 ps, Smaller values provide tigher coupling to the heat bath and thus a faster heating, smaller fluctuations in kinetic energy, larger fluctuations in total energy, and a less natural trajectory. Values much larger than the length of the simulation result in constant energy.\n",
        "\n",
        "> Default: 1.0"
      ]
    },
    {
      "cell_type": "markdown",
      "metadata": {
        "id": "xOGk6bvbS4Xn"
      },
      "source": [
        "Andersen-Coupling Parameters (ntt=2)"
      ]
    },
    {
      "cell_type": "markdown",
      "metadata": {
        "id": "w2t9-HzHT2nQ"
      },
      "source": [
        "**vrand**: The velocities are randomized to *temp0* every *vrand* steps.\n",
        "\n",
        "> Default: 1000"
      ]
    },
    {
      "cell_type": "markdown",
      "metadata": {
        "id": "EAb9MaTKRhIp"
      },
      "source": [
        "#### Langevin Dynamics and Nose-Hoover Parameters (ntt=3)"
      ]
    },
    {
      "cell_type": "markdown",
      "metadata": {
        "id": "nF95-Z3cRhYX"
      },
      "source": [
        "**gamma_ln**:\n",
        "\n",
        "When *ntt=3*, this value defines the collision frequence $\\gamma$ in $\\text{ps}^{-1}$. A Leapfrog integrator is used to adjust the dynamic. When selecting *gamma_ln*, we do not need to use the physical collision frequencies (e.g 50 $\\text{ps}^{-1}$ for water). For stability of integration and sampling, **we often use values much smaller in the  range of 2 to 5 $\\text{ps}^{-1}$. For implicit solvents (GB), we use even lower values such as 0.01 $\\text{ps}^{-1}$ to speed up the simulation,. sometimes 100 fold.**\n",
        "\n",
        "When *ntt=9*, this value defines the thermostat coupling constant  for the Optimized Isokinetic Nose-Hoover cahin integrator, which is equivalent to *1/gamma_ln*.\n",
        "\n",
        "When *ntt=10*, this value is the friction constant associated with the stochastic component of the integrator.\n",
        "\n",
        "> Default: 0"
      ]
    },
    {
      "cell_type": "markdown",
      "metadata": {
        "id": "NodDs2QBlSxh"
      },
      "source": [
        "### Self-Guided Langevin Dynamics Parameters"
      ]
    },
    {
      "cell_type": "markdown",
      "metadata": {
        "id": "WwJ1FMq9lZz0"
      },
      "source": [
        "**isgld**: Set when performing self-guided langevin\n",
        "\n",
        "> Default: 0\n",
        "\n",
        "> 1: Perform SGLD Method\n",
        "\n",
        "> 2: Perform SGLDfp method\n",
        "\n",
        "> 3: Perform SGLDg/SGMDg method\n",
        "\n",
        "**tsgavg**: Defines the local averaging time for the guiding force calculation in picoseconds\n",
        "\n",
        "> Default: 0.2\n",
        "\n",
        "**sgft**: Defines the strength of the guiding effect\n",
        "\n",
        "> when *gamma_ln*>0:  1.0\n",
        "\n",
        "> when *gamma_ln*=0: 0.2\n",
        "\n",
        "> when *isgld=* 1 or 2 and : *tempsg* overrides *sgft*\n",
        "\n",
        "**tempsg**: Target guiding temperature (Kelvin)\n",
        "\n",
        "\n",
        "\n"
      ]
    },
    {
      "cell_type": "markdown",
      "metadata": {
        "id": "GQMw8h-Aqcxu"
      },
      "source": [
        "### Pressure Regulation Parameters"
      ]
    },
    {
      "cell_type": "markdown",
      "metadata": {
        "id": "70A_OI1hZojX"
      },
      "source": [
        "**ntp**: Defines the constant pressure dynamics\n",
        "\n",
        "> 0: (default) No pressure scaling\n",
        "\n",
        "> 1: Isotropic postion scaling\n",
        "\n",
        "> 2: ansiotropic pressure scaling\n",
        "\n",
        "> 3: semiisotropic pressure scaling\n",
        "\n",
        "**barostat**: Defines which barostat is used to control pressure\n",
        "\n",
        "> 1: (Default) Berendsen\n",
        "\n",
        "> 2: Monte Carlo barostat\n",
        "\n",
        "**pres0**: Defines the reference pressure at which the system is maintained\n",
        "\n",
        "> Default: 1.0\n",
        "\n",
        "**taup**: Pressure relaxation time in picoseconds. The recommended value is betwen 1.0 and 50 ps. Larger values may be necessary if the trajectories seeme unstable.\n",
        "\n",
        "> Default: 1.0"
      ]
    },
    {
      "cell_type": "markdown",
      "metadata": {
        "id": "n5luIo50pTAV"
      },
      "source": [
        "## Potential Function Parameters\n"
      ]
    },
    {
      "cell_type": "markdown",
      "metadata": {
        "id": "PxKA-1jJnGH1"
      },
      "source": [
        "#### General Potential Parameters"
      ]
    },
    {
      "cell_type": "markdown",
      "metadata": {
        "id": "F1syxugDqa67"
      },
      "source": [
        "\n",
        "**ntf**: Force evaluation. When SHAKE is used it is not necessary to calculate the forces for the constrained bonds\n",
        "\n",
        "**ntb**: Controls whether periodic boundaries are imposed on the system during the calculation of non-bonded interactions. **The variable is determined automatically from *igb* and *ntp* but it can be overridden.**\n",
        "\n",
        "> 0: (default for *igb* > 0) no periodicity is applied and PME is off\n",
        "\n",
        "> 1: (default for *igb* = 0 and *ntp* = 0) constant volume\n",
        "\n",
        "> 2: (default for *ntp* > 0) constant pressure\n",
        "\n",
        "**cut**: Defines the nonbonded cutoff in Angstroms.\n",
        "\n",
        "For PME, *cut* is used to limit the direct space sum. 8.0 is a good value.\n",
        "\n",
        "For *igb*>0, *cut* is used to truncate nonbonded pair interactions that are less than *cut* Angstroms apart. A separate parameter *rgbmax* controls the maximum distance bewteen the atoms pairs that will be considered in carrying out the pairwise summations for calculation of the Born radii.\n",
        "\n",
        "> For *igb* > 0: (default) 9999.0\n",
        "\n",
        "> For *igb=0*: (default) 8.0\n",
        "\n",
        "**ipol**: Flag to use polarizable force field\n",
        "\n",
        "> 0: (default) do not use polarizable force field\n",
        "\n",
        "> 1: Use polarizable force field\n",
        "\n",
        "**ifqnt**: Flag for QM/MM run. If set to 1, the &qmmm namelist must be included\n",
        "\n",
        "> 0: (default) not a QM/MM run\n",
        "\n",
        "> 1: This is a QM/MM run\n",
        "\n",
        "**irism**: Flag for 3D-reference interaction site model (RISM) molecular solvation method.\n",
        "\n",
        "> 0: (default) do not use RISM\n",
        "\n",
        "> 1: Use RISM\n",
        "\n",
        "**ievb**: Flag for using empirical valence bond method to compute energies and force\n",
        "\n",
        "> 0: (default) do not use empirical valence bond method\n",
        "\n",
        "> 1: Use the empirical valence bond method\n",
        "\n",
        "**iamoeba**: Flag for using the amoeba polarizable potential of [Ren and Ponder](https://onlinelibrary.wiley.com/doi/abs/10.1002/jcc.10127). If set to 1, an amoeba namelist must be include.\n",
        "\n",
        ">0: (default) do not use amoeba polarizable potenital\n",
        "\n",
        ">1: Use the amoeba polarizable potential\n",
        "\n",
        "\n"
      ]
    },
    {
      "cell_type": "markdown",
      "metadata": {
        "id": "b-GG92vwnLd9"
      },
      "source": [
        "#### Implicit Solvent Parameters"
      ]
    },
    {
      "cell_type": "markdown",
      "metadata": {
        "id": "8hnJwy-YnR8l"
      },
      "source": [
        "**igb**: Flag for using implicit solvent models\n",
        "\n",
        "> 0: (default) do not use implicit solvent models\n",
        "\n",
        "> 1: The [Hawkings, Cramer, Truhlar pairwise generalized Born model](https://pubs.acs.org/doi/full/10.1021/jp961710n)($GB^{HCT}$). Often used for nucleic acid simulations.\n",
        "\n",
        "> 2: A modified GB model by [A. Onufriev, D. Bashford, and D.A. Case](https://onlinelibrary.wiley.com/doi/abs/10.1002/prot.20033) ($GB^{OBC}$. If you use this, run the LEAP command `set default PBradii mbondi2` to prepare the *prmtop* file.\n",
        "\n",
        "> 3 or 4: No longer supported\n",
        "\n",
        "> 5: Same as the *igb=2* but different parameters. Some [tests](https://onlinelibrary.wiley.com/doi/abs/10.1002/jcc.10378) show that *igb=5* agrees more with the Poisson-Boltzmann treatment in calculating the electrostatic part of the solvation free energy.\n",
        "\n",
        "> 6: No solvent model or more specifically a nonperiodic, vacuum model where the only non-bonded interactions are LJ and Coulomb interactions. Logically equivalent to *igb=0*.\n",
        "\n",
        "> 7: $GBn$ model described by [ Mongan, Simmerling, McCammon, Case and Onufriev](https://pubs.acs.org/doi/full/10.1021/ct600085e). There is more overhead and is not recommended for fcedureor systems involving nucleic acids.\n",
        "\n",
        "> 8: Same GB functional form as the GBn (*igb=7*) but contains two sets ofparameters one of which is optimized for proteins and another which is optimized for nucleic acids. **In general, use this for implicit solvent models**.\n",
        "\n",
        "> 10: Calculate the reaction field and nonbonded interactions using a nubmerical Poisson-Boltzmann solver. Note this is not a generalized Born simulation but rather an alternative continuum solvent model.\n",
        "\n",
        "**saltcon**: Defines the concentration (M) of 1-1 mobile counterions in solution, using a modified generalized Born theory based on the Debye-Hückel limiting law for ion screening of interactions. Setting *saltcon* to a nonzero value increases computation time.\n",
        "\n",
        "> Default: 0\n",
        "\n",
        "**rgbmax**: Defines the maximum distance in Angstroms between atom pairs that will considerd in the pairwise summation involved in calculating the effective Born radii. The recommended value is 26 Angstroms however smaller values from 10-15 Angstroms.\n",
        "\n",
        "> Default: 25"
      ]
    },
    {
      "cell_type": "markdown",
      "metadata": {
        "id": "3Sy0eXff86CY"
      },
      "source": [
        "# Understanding Amber Prmtop file (also called parm or topology files)"
      ]
    },
    {
      "cell_type": "markdown",
      "metadata": {
        "id": "UWSsM84k9EVT"
      },
      "source": [
        "Prmtop files are created in TLEAP/XLEAP from the leaprc force field fields and the original molecular structure. They store the simulation parameters such as the number of atoms, the potentials between the atoms, the bond lengths, and the torsion angles that will later be used to calculate the various forces and energies within the system.\n",
        "\n",
        "A parm file is divided into sections with “%FLAG”s that denote what information each section stores.\n",
        "\n",
        "You may also see “%FORMAT” comments. These are specific FORTRAN formats that denote the type of variable (i.e. integer, float, char...) being written, the size of the variable, and the number of columns per row in each section.\n",
        "\n",
        "Here are some examples:\n",
        "\n",
        "\"%FORMAT10i8\" denotes that a particular section is storing integers (i) that are represented with up to 8 characters (including characters that are not numerical such s \"-\" or \".\") in groups of 10 (i.e. there will be 10 integers in each row).\n",
        "\n",
        "\"%FORMAT20a4\" signifies a section that is storing string characters (a) that are represented with up to 4 characters in groups of 20.\n",
        "\n",
        "\"%FORMAT5E16.8\" means that a particular section stores single precision floats with exponents that contain 8 digits in the decimal and that are represented with up to 16 characters (including characters that are not numberical) in groups of 5.\n",
        "\n"
      ]
    },
    {
      "cell_type": "markdown",
      "metadata": {
        "id": "lKSK-D_ME1pw"
      },
      "source": [
        "## Section Flags"
      ]
    },
    {
      "cell_type": "markdown",
      "metadata": {
        "id": "AEjMITps99Nv"
      },
      "source": [
        "\n",
        "\n",
        "**%FLAG TITLE**: Stores the title\n",
        "\n",
        "**%FLAG POINTERS**: Stores the “number of blank” (i.e number of atoms, bonds containing hydrogen, dihedrals…)\n",
        "\n",
        "**%FLAG ATOM_NAME**: Stores the name of every atom\n",
        "\n",
        "**%FLAG CHARGE**: Stores the charge of every atom where charges are multiplied by $\\sqrt{k_e}$ (18.2223) which is the square root of the electrostatic constant\n",
        "\n",
        "**%FLAG ATOMIC_NUMBER**: Stores the atomic number of every atom\n",
        "\n",
        "**%FLAG MASS**: Stores the mass of every atom\n",
        "\n",
        "**%FLAG ATOM_TYPE_INDEX**: Stores the Lennard Jones index of an atom. Atoms with the same index have the same LJ $\\sigma$ and $\\epsilon$  parameters.\n",
        "\n",
        "**%FLAG NUMBER_EXCLUDED_ATOMS**: Stores the number of atoms that need to be excluded from non-bonded calculations for each atom  because it is involved in a bond, angle, or torsion with $i$.\n",
        "\n",
        "For example, if the first two elements in this section are 4 and 6,  it means that elements 1-4 in the EXCLUDED_ATOMS_LIST section are excluded from atom 1 and elements 6-11 in EXCLUDED_ATOMS_LIST are excluded from atom 2. Each exclusion involving any two atoms is only listed once and assigned to the atom of the lower index (i.e. if atom 1 and 2 are bonded together, atom 2 is on the exclusion list for 1 but not vice versa)\n",
        "\n",
        "Atoms with no excluded atoms are given a “1” which signifies exclusion of a nonexistent “atom 0”.\n",
        "\n",
        "**%FLAG NONBONDED_PARM_INDEX**: Stores the pointers for each LJ pair of atoms, i and j, into the LENNARD_JONES_ACOEFF and LENNAR_JONES_BCOEFF arrays.  The pointer is calculated from the ATOM_TYPE_INDEX of  i and j as follows\n",
        "\n",
        "$${index = \\text{NONBONDED_PARM_INDEX}\\ [\\text{NTYPES}\\  \\times \\ \\text{ATOM TYPE INDEX}(i) - 1)\\  +\\  \\text{ATOM TYPE INDEX}(j)]}$$\n",
        "\n",
        "**%FLAG RESIDUE_LABEL**: Stores the name of each residue\n",
        "\n",
        "**%FLAG RESIDUE_POINTER**: Stores the index of the first atom in each residue. Note the first atom is at index 1."
      ]
    }
  ]
}