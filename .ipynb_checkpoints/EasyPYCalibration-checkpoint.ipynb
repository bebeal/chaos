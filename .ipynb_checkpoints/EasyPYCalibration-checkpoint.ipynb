{
 "cells": [
  {
   "cell_type": "code",
   "execution_count": 1,
   "metadata": {
    "cellView": "form",
    "colab": {
     "base_uri": "https://localhost:8080/",
     "height": 2099,
     "referenced_widgets": [
      "6e9c9b6e0ab64d3bb6311629123dc8b9",
      "3744cc724c92408da6af25696b359c8b",
      "533f27bc25ce424cb4e120d578434350",
      "2e7def46823d4997b7cf08e2bd0871c5",
      "5f5b57a219be4553af9386d3365cdb84",
      "91d50cfebdaf40a1b84f876852204575",
      "72908a6072104a1c975f1d0e4d3144b1",
      "294d029420f646469c8d170870596643",
      "a40167861821478faa0cc9349a72dd58",
      "579a0748c1ba48dd93b403748c13c658",
      "4eae19a36a814da698a487ab81ee9815",
      "a2c1d010398141ada386ccb8cbec8bcb",
      "bc7c149427bb40588cb69527fb13d88b",
      "25754f6cbec54bf4a36ee47f321f7d18",
      "796c7140661d49659c633d0b9eee31d7",
      "d8360fb360eb4d6bb97632346943dc0c",
      "c7b3c406f70541c785105d54609f9af7",
      "48eeb363dcab4825aad8e92e2e12caef",
      "c8ed34b5d02248d09724ab8766dc6d70",
      "952900d8c0c14d42a3c725b5be890876",
      "6dfb8de47b5f4ec3b903af1dffbf81ce",
      "a01c31f29e1342438461c9fb4ceab0f7",
      "6e3d29fa34a7436d9012142d1bf95621",
      "1abe642f3fdb401cb33347357ec9f54e",
      "35e7e6bb8a37436199b3547723df6913",
      "de7d8df912b641719af65c74106079f9",
      "f42dfba07b094eaf8ee4470bf2601a4a",
      "6e1eeb6c3f2443d5973cdc07bb991214",
      "0327ffccdb1f4bc68d516244c49cda82",
      "82cc4c0091e34e58bbfde510f4646dc1",
      "0dbe9c086a4b4c37a83c27d1e60f92cc",
      "5880dbfee77d4c0baf55cfae7e7ef841",
      "f42f681e91764289bd211249c859c86d",
      "07effcc8acab42afab585fd36ff8f781",
      "65367f664c5545b2a17bdb081056a57d",
      "0af16d8af31e4ecb8ce1434a5d6df2ae",
      "ffb59063e64c471fb8af59d2c9924952",
      "d3f9304b599545b6a6cf24cc6032e6a1",
      "f84128c57f2541f39329c8b7d3973dde",
      "42373b08bfcb4e9393a8ca01539c47be",
      "2804f613900e45b48425fdd29f9f5dd8",
      "49ff6cc3be3e46ec8fc44b014a242d96",
      "c1968819e7e348d685e3e26c3ce305bc",
      "86c36650bea94bd89551698cddda48a9",
      "e893349d0fe045b1b405a0e500cc4995",
      "09a1b28774204b938564d1195ec64673",
      "82d4a8393cd042b08f96b1b4b19c9f98",
      "1cd4b3176c004875a21edbcdf6cb9dc9",
      "7c2a9b1c61d346cabf5508244b807445",
      "22e5afb54d8a4e4aba8537447ff67a17",
      "d9eb59a6616f4f7b87028dd9c91a7e5a",
      "380ced5f12b145df99a1f06448e4d01e",
      "1cbd7d8c3eed42b79263e2083786b980",
      "65790f1920644f3c93af8674b1628712",
      "6fb5f98875db478d8df92f2f586724e1",
      "8cb12caf02be4ceab2313bcef3eb5103",
      "efa4518a578d42f1a25266a87fb62620",
      "27e75e093ed2487bbce6480aed47c944",
      "98fd516c424842bfa220e1d361959244",
      "1251cce84b4f444b9d077521615f5223",
      "c1b12f5d7d8647c287defc0dfc53ac30",
      "4a61e79add6e43658ff5b800633cacac",
      "0844522171334bacb51357e306af68f2",
      "fee7a86a844949fc8888298803e55dca",
      "7703ea8b21e24687be4e22e920b28542",
      "126fe8e6adab413ea580ffab0301feec",
      "7131e4e7b6c945e5a997a0e412117b0a",
      "0cf7e27ad90d49bb9ec7d4cbbc066f42",
      "5965eb9d092d4826aeb3d6e4f8bf50cd",
      "483619ca6cda4cf8b588fe3bf7282f4a",
      "fefa84d3fcd94131982553f948cea9fd",
      "f282dd7e57364082b2653a73a5d3de6c",
      "48fa6fdedebd44d2a49af5a1aeb005cb",
      "aaab6075a47142c08b8666b1b554069c",
      "ffe577052f7649d3b88a43c0d60a6aed",
      "f80acd6c450c4fa0a0fae16a619a3d9d",
      "4fc89774a64a4625927cec373f15e2cd",
      "ede2913e7f254652af553f7a10dd12dc",
      "d77d3793f1794c97ae9b81a533f61143",
      "75e07cab642e404e8504637b9055d7e9",
      "7a3a110f6a0d4b46922105cca85b10d8",
      "e2fe42ab82a745eaba588f1a8d4a41c4",
      "7dfafc1e377140a1bff86d03d487e596",
      "6eb5001a4ef947d0b37a5ad5573ca5a8",
      "9ca83161295142518f2c334a62a048f9",
      "cd4825ea9627491594a2ba48b901ead4",
      "2cf10326f56c4b878ee13faac0a08f73",
      "1ef04cfdc134453d9abdfc7d6f21f712",
      "c03135ddba4249d3af928c069204b0a8",
      "ba0011363383405da925aef1a2a383ac",
      "fa9061c922e24853b5c24c44530cfc73",
      "97fa6e7ff98546bfbe63b4ecad910898",
      "1f7c4781acff4200b30477c9f191416c",
      "e96775fbec754e26b3e16e82fc4a48ea",
      "acbc51ebb9e64ea4a6d29d9e7668d57f",
      "219bb081acaa4677a5d360c5b3453f41"
     ]
    },
    "colab_type": "code",
    "executionInfo": {
     "elapsed": 1027,
     "status": "ok",
     "timestamp": 1594077388686,
     "user": {
      "displayName": "Noah Beal",
      "photoUrl": "",
      "userId": "01377792101728349059"
     },
     "user_tz": 300
    },
    "id": "Ql3BJI_ZCj_F",
    "jupyter": {
     "source_hidden": true
    },
    "outputId": "edc7d468-d839-44e9-acb7-c513c6af060c"
   },
   "outputs": [
    {
     "data": {
      "application/javascript": [
       "google.colab.output.setIframeHeight(0, true, {maxHeight: 5000})"
      ],
      "text/plain": [
       "<IPython.core.display.Javascript object>"
      ]
     },
     "metadata": {},
     "output_type": "display_data"
    },
    {
     "data": {
      "application/vnd.jupyter.widget-view+json": {
       "model_id": "b1ef6248a2c6462796af865157045c08",
       "version_major": 2,
       "version_minor": 0
      },
      "text/plain": [
       "VBox(children=(Output(), RadioButtons(options=(('52.0 999.0', 0), ('52.0 1000.0', 1), ('52 999', 2), ('52 1000…"
      ]
     },
     "metadata": {},
     "output_type": "display_data"
    },
    {
     "data": {
      "application/vnd.jupyter.widget-view+json": {
       "model_id": "ac17a71a5bfc4b4d8b336f515e1ae201",
       "version_major": 2,
       "version_minor": 0
      },
      "text/plain": [
       "VBox(children=(Output(), RadioButtons(options=(('-909 -50', 0), ('-908 -50', 1), ('-910 -49', 2), ('-908 -49',…"
      ]
     },
     "metadata": {},
     "output_type": "display_data"
    },
    {
     "data": {
      "application/vnd.jupyter.widget-view+json": {
       "model_id": "8a8821ec107445e99796507ef98afab8",
       "version_major": 2,
       "version_minor": 0
      },
      "text/plain": [
       "VBox(children=(Output(), RadioButtons(options=(('RUNTIME ERROR', 0), ('-4 5', 1), ('-4 6', 2), ('-3 5', 3), ('…"
      ]
     },
     "metadata": {},
     "output_type": "display_data"
    },
    {
     "data": {
      "application/vnd.jupyter.widget-view+json": {
       "model_id": "2c8b430378f04f1c8d86f6fc1eda3c41",
       "version_major": 2,
       "version_minor": 0
      },
      "text/plain": [
       "VBox(children=(Output(), RadioButtons(options=(('53', 0), ('53.0', 1), ('52.0', 2), ('RUNTIME ERROR', 3), ('52…"
      ]
     },
     "metadata": {},
     "output_type": "display_data"
    },
    {
     "data": {
      "application/vnd.jupyter.widget-view+json": {
       "model_id": "f7d21130832d4dc999388853e0cdd072",
       "version_major": 2,
       "version_minor": 0
      },
      "text/plain": [
       "VBox(children=(Output(), RadioButtons(options=(('3.0 0.0', 0), ('3 3', 1), ('3.0 3.0', 2), ('3 0', 3)), value=…"
      ]
     },
     "metadata": {},
     "output_type": "display_data"
    },
    {
     "data": {
      "application/vnd.jupyter.widget-view+json": {
       "model_id": "3615533dff0f41648c9b5581c0b41e38",
       "version_major": 2,
       "version_minor": 0
      },
      "text/plain": [
       "VBox(children=(Output(), RadioButtons(options=(('2.0 0.0', 0), ('2.0 2', 1), ('2.0 2.0', 2), ('2 2', 3), ('2 0…"
      ]
     },
     "metadata": {},
     "output_type": "display_data"
    },
    {
     "data": {
      "application/vnd.jupyter.widget-view+json": {
       "model_id": "0d27d03d98b64a1c89007c585826e862",
       "version_major": 2,
       "version_minor": 0
      },
      "text/plain": [
       "VBox(children=(Output(), RadioButtons(options=(('-3 -6', 0), ('-1 -7', 1), ('1 -7', 2), ('-3 6', 3)), value=0)…"
      ]
     },
     "metadata": {},
     "output_type": "display_data"
    },
    {
     "data": {
      "application/vnd.jupyter.widget-view+json": {
       "model_id": "b326188f3e2b45c69087c32774c2978b",
       "version_major": 2,
       "version_minor": 0
      },
      "text/plain": [
       "VBox(children=(Output(), RadioButtons(options=(('4 -1', 0), ('0 1', 1), ('4 1', 2), ('0 -1', 3)), value=0), Bu…"
      ]
     },
     "metadata": {},
     "output_type": "display_data"
    }
   ],
   "source": [
    "#@markdown <h1>Math Functions and Operations</h1>\n",
    "import ipywidgets as widgets\n",
    "import IPython\n",
    "from IPython.display import display, Markdown, clear_output, Javascript, HTML\n",
    "import random\n",
    "# zxzhaixiang https://github.com/jupyter-widgets/ipywidgets/issues/2487#issuecomment-510721436\n",
    "def MultipleChoice(options, correct_option, question='', markdown_code='', explination=''):\n",
    "    # Add correct answer if not included in options\n",
    "    if correct_option not in options:\n",
    "        options.append(correct_option)\n",
    "    \n",
    "    # Scramble the answers list\n",
    "    random.shuffle(options)\n",
    "\n",
    "    # Index of the correct answer\n",
    "    correct_answer_index = options.index(correct_option)\n",
    "\n",
    "    # RadioButton widget groups the options as radio buttons\n",
    "    # Only one radio button can be toggled at any point in time.\n",
    "    option_buttons = widgets.RadioButtons(\n",
    "        options=[(answer, i) for i, answer in enumerate(options)],\n",
    "        question='',\n",
    "        disabled=False\n",
    "    )\n",
    "\n",
    "    # Output for Question\n",
    "    question_out = widgets.Output()\n",
    "    # Display Question and Code snippet in Markdown, if provided\n",
    "    with question_out:\n",
    "        display(Markdown(question))\n",
    "        display(HTML(markdown_code))\n",
    "\n",
    "    # Output for response\n",
    "    response_out = widgets.Output()\n",
    "\n",
    "    # Check student's option submitted with correct_option\n",
    "    def check_selection(button):\n",
    "        student_answer_index = int(option_buttons.value)\n",
    "        if student_answer_index == correct_answer_index:\n",
    "            response = 'Correct! ' + u'\\u2713' + '<br />' + explination\n",
    "        else:\n",
    "            response = 'Incorrect'\n",
    "\n",
    "        # Clear Results\n",
    "        with response_out:\n",
    "            clear_output()\n",
    "            display(HTML(response))\n",
    "            display(HTML('<hr>'))\n",
    "        return\n",
    "\n",
    "    # Create submit button \n",
    "    check = widgets.Button(description=\"submit\")\n",
    "    check.on_click(check_selection)\n",
    "\n",
    "    return widgets.VBox([question_out, option_buttons, check, response_out])\n",
    "# MATH FUNCTIONS AND OPERATORS\n",
    "# CELL HIDDEN\n",
    "Q1 = MultipleChoice(\n",
    "    ['52 999','52.0 1000.0','52 1000', '52.0 999.0'], \n",
    "    '52 999', \n",
    "    '### 1. What is output by the following code',\n",
    "    '''<!-- HTML generated using hilite.me --><div style=\"background: #ffffff; overflow:auto;width:auto;border:solid gray;border-width:.1em .1em .1em .8em;padding:.2em .6em;\"><pre style=\"margin: 0; line-height: 125%\">x <span style=\"color: #333333\">=</span> <span style=\"color: #007020\">int</span>(<span style=\"color: #6600EE; font-weight: bold\">52.2</span>)\n",
    "y <span style=\"color: #333333\">=</span> math<span style=\"color: #333333\">.</span>floor(<span style=\"color: #6600EE; font-weight: bold\">999.9</span>)\n",
    "<span style=\"color: #008800; font-weight: bold\">print</span>(x, y)\n",
    "</pre></div>\n",
    "\n",
    "<hr>''')\n",
    "\n",
    "Q2 = MultipleChoice(\n",
    "    ['-908 -49', '-909 -49', '-910 -49', '-908 -50', '-909 -50', '-910 -50'], \n",
    "    '-910 -49', \n",
    "    '### 2. What is output by the following code',\n",
    "    '''<!-- HTML generated using hilite.me --><div style=\"background: #ffffff; overflow:auto;width:auto;border:solid gray;border-width:.1em .1em .1em .8em;padding:.2em .6em;\"><pre style=\"margin: 0; line-height: 125%\"><span style=\"color: #008800; font-weight: bold\">import</span> <span style=\"color: #0e84b5; font-weight: bold\">math</span>\n",
    "\n",
    "t <span style=\"color: #333333\">=</span> math<span style=\"color: #333333\">.</span>floor(<span style=\"color: #333333\">-</span><span style=\"color: #6600EE; font-weight: bold\">909.1</span>)\n",
    "a <span style=\"color: #333333\">=</span> <span style=\"color: #007020\">int</span>(<span style=\"color: #333333\">-</span><span style=\"color: #6600EE; font-weight: bold\">49.1</span>)\n",
    "<span style=\"color: #008800; font-weight: bold\">print</span>(t, a)\n",
    "</pre></div>\n",
    "\n",
    "<hr>''')\n",
    "\n",
    "Q3 = MultipleChoice(\n",
    "    ['-3 5', '-4 6', '-4 5', '-3 6', 'RUNTIME ERROR'], \n",
    "    '-4 6', \n",
    "    '### 3. What is output by the following code',\n",
    "    '''<!-- HTML generated using hilite.me --><div style=\"background: #ffffff; overflow:auto;width:auto;border:solid gray;border-width:.1em .1em .1em .8em;padding:.2em .6em;\"><pre style=\"margin: 0; line-height: 125%\"><span style=\"color: #008800; font-weight: bold\">import</span> <span style=\"color: #0e84b5; font-weight: bold\">math</span>\n",
    "\n",
    "y <span style=\"color: #333333\">=</span> math<span style=\"color: #333333\">.</span>floor(<span style=\"color: #333333\">-</span><span style=\"color: #6600EE; font-weight: bold\">3.99</span> <span style=\"color: #333333\">-</span> <span style=\"color: #333333\">.</span><span style=\"color: #4400EE; font-weight: bold\">01</span>)\n",
    "j <span style=\"color: #333333\">=</span> math<span style=\"color: #333333\">.</span>floor(<span style=\"color: #6600EE; font-weight: bold\">5.99</span> <span style=\"color: #333333\">+</span> <span style=\"color: #333333\">.</span><span style=\"color: #0000DD; font-weight: bold\">1</span>)\n",
    "<span style=\"color: #008800; font-weight: bold\">print</span>(y, j)\n",
    "</pre></div>\n",
    "\n",
    "<hr>''')\n",
    "\n",
    "Q4 = MultipleChoice(\n",
    "    ['53', 'RUNTIME ERROR', '52', '52.0', '53.0'], \n",
    "    '53', \n",
    "    '### 4. What is output by the following code',\n",
    "    '''<!-- HTML generated using hilite.me --><div style=\"background: #ffffff; overflow:auto;width:auto;border:solid gray;border-width:.1em .1em .1em .8em;padding:.2em .6em;\"><pre style=\"margin: 0; line-height: 125%\">m <span style=\"color: #333333\">=</span> <span style=\"color: #007020\">int</span>(<span style=\"color: #6600EE; font-weight: bold\">52.9</span> <span style=\"color: #333333\">+</span> <span style=\"color: #333333\">.</span><span style=\"color: #0000DD; font-weight: bold\">1</span>)\n",
    "<span style=\"color: #008800; font-weight: bold\">print</span>(m)\n",
    "</pre></div>\n",
    "\n",
    "<hr>''')\n",
    "\n",
    "Q5 = MultipleChoice(\n",
    "    ['3.0 0.0', '3 3', '3 0', '3.0 3.0'], \n",
    "    '3 0', \n",
    "    '### 5. What is output by the following code',\n",
    "    '''<!-- HTML generated using hilite.me --><div style=\"background: #ffffff; overflow:auto;width:auto;border:solid gray;border-width:.1em .1em .1em .8em;padding:.2em .6em;\"><pre style=\"margin: 0; line-height: 125%\">p <span style=\"color: #333333\">=</span> <span style=\"color: #0000DD; font-weight: bold\">10</span> <span style=\"color: #333333\">//</span> <span style=\"color: #0000DD; font-weight: bold\">3</span>\n",
    "q <span style=\"color: #333333\">=</span> <span style=\"color: #0000DD; font-weight: bold\">3</span> <span style=\"color: #333333\">//</span> <span style=\"color: #0000DD; font-weight: bold\">10</span>\n",
    "<span style=\"color: #008800; font-weight: bold\">print</span>(p, q)\n",
    "</pre></div>\n",
    "\n",
    "<hr>''')\n",
    "\n",
    "Q6 = MultipleChoice(\n",
    "    ['2.0 0.0', '2.0 2', '2 0', '2 2', '2.0 2.0'], \n",
    "    '2.0 2', \n",
    "    '### 6. What is output by the following code',\n",
    "    '''<!-- HTML generated using hilite.me --><div style=\"background: #ffffff; overflow:auto;width:auto;border:solid gray;border-width:.1em .1em .1em .8em;padding:.2em .6em;\"><pre style=\"margin: 0; line-height: 125%\">y <span style=\"color: #333333\">=</span> <span style=\"color: #0000DD; font-weight: bold\">4</span> <span style=\"color: #333333\">/</span> <span style=\"color: #0000DD; font-weight: bold\">2</span>\n",
    "a <span style=\"color: #333333\">=</span> <span style=\"color: #0000DD; font-weight: bold\">2</span> <span style=\"color: #333333\">%</span> <span style=\"color: #0000DD; font-weight: bold\">6</span>\n",
    "<span style=\"color: #008800; font-weight: bold\">print</span>(y, a)\n",
    "</pre></div>\n",
    "\n",
    "<hr>''')\n",
    "\n",
    "Q7 = MultipleChoice(\n",
    "    ['-1 -7', '1 -7', '-3 -6', '-3 6'], \n",
    "    '-3 6', \n",
    "    '### 7. What is output by the following code',\n",
    "    '''<!-- HTML generated using hilite.me --><div style=\"background: #ffffff; overflow:auto;width:auto;border:solid gray;border-width:.1em .1em .1em .8em;padding:.2em .6em;\"><pre style=\"margin: 0; line-height: 125%\">f <span style=\"color: #333333\">=</span> <span style=\"color: #0000DD; font-weight: bold\">9</span> <span style=\"color: #333333\">%</span> <span style=\"color: #333333\">-</span><span style=\"color: #0000DD; font-weight: bold\">4</span>\n",
    "g <span style=\"color: #333333\">=</span> <span style=\"color: #333333\">-</span><span style=\"color: #0000DD; font-weight: bold\">7</span> <span style=\"color: #333333\">%</span> <span style=\"color: #0000DD; font-weight: bold\">13</span>\n",
    "<span style=\"color: #008800; font-weight: bold\">print</span>(f, g)\n",
    "</pre></div>\n",
    "\n",
    "<hr>''')\n",
    "\n",
    "Q8 = MultipleChoice(\n",
    "    ['0 -1', '4 1', '4 -1', '0 1'], \n",
    "    '4 -1', \n",
    "    '### 8. What is output by the following code',\n",
    "    '''<!-- HTML generated using hilite.me --><div style=\"background: #ffffff; overflow:auto;width:auto;border:solid gray;border-width:.1em .1em .1em .8em;padding:.2em .6em;\"><pre style=\"margin: 0; line-height: 125%\">x <span style=\"color: #333333\">=</span> <span style=\"color: #0000DD; font-weight: bold\">2</span>\n",
    "y <span style=\"color: #333333\">=</span> x <span style=\"color: #333333\">-</span> <span style=\"color: #0000DD; font-weight: bold\">2</span>\n",
    "x <span style=\"color: #333333\">*=</span> <span style=\"color: #0000DD; font-weight: bold\">2</span>\n",
    "y <span style=\"color: #333333\">+=</span> <span style=\"color: #333333\">-</span><span style=\"color: #0000DD; font-weight: bold\">1</span>\n",
    "<span style=\"color: #008800; font-weight: bold\">print</span>(x, y)\n",
    "</pre></div>\n",
    "\n",
    "<hr>''')\n",
    "display(Javascript('''google.colab.output.setIframeHeight(0, true, {maxHeight: 5000})'''))\n",
    "display(Q1)\n",
    "display(Q2)\n",
    "display(Q3)\n",
    "display(Q4)\n",
    "display(Q5)\n",
    "display(Q6)\n",
    "display(Q7)\n",
    "display(Q8)"
   ]
  },
  {
   "cell_type": "code",
   "execution_count": 2,
   "metadata": {
    "cellView": "form",
    "colab": {
     "base_uri": "https://localhost:8080/",
     "height": 956,
     "referenced_widgets": [
      "43f890a9ca70427cba4553356289edc6",
      "86327decb91b4c729cf0eaf06b86be7a",
      "06caff4925014ef68a583779633fa419",
      "c93aba045d694d61a853b3c0bef7f399",
      "9d2960564694403b91b53557575c00b7",
      "84082ffca9e34fdcbd39445cea20093e",
      "57ed8c60a8c941c8a4182353ec72df7c",
      "7351d1c35d4b41dda23bd8a932071032",
      "7ac2251e78f449388ebbb84e5a08a0e5",
      "c4e4b21246474b1b97d886ad21dbdd7b",
      "d03e58e870624678b3436b18cb37d486",
      "0dbfdf26d1cb487ea491c0c77702de38",
      "8dac3759aa2d4a009f6aae6b9d705bd9",
      "a2af3b69d9c5490393ef6ab91924cc3d",
      "27463513f9ac457bbf28398aa135cc67",
      "b043066ed70142888796757acf3aba37",
      "0f41aa6223f844168f75cd1811ca85fc",
      "8b2e12ab4382493685fb2c0031adb428",
      "fb0d8f56e7ff43c5a5e2fe4435558aaf",
      "633684ce2b2d4d57a2666fc4ec060121",
      "01f4dbda371d49049e10cee227980005",
      "eed417f48bc44070a0ac9e2055e33d6d",
      "e46ffd225fef451b9b317e9dac4fc348",
      "ab677d304eac41018010ee057ed3727b",
      "780cc044dc6e45b28533485b94307a9d",
      "690e58c3e4e046d982aa2dc82472afdd",
      "6cf90d0b84bf4d77ac89ff03f6d240f6",
      "d7e352c034d944d2a13a8bccdc3609ba",
      "a8b23d5c8bd84ece98d36edb78216a58",
      "4f926eba620242a58bc651183f2b5600",
      "9d09af77aa8a437aaf74744926e6e643",
      "9053d5711cfc4174a58c75897d7fd710",
      "1c811a6e5e2d4187ac786388cfbb831b",
      "14c5af2d7b3d4a54a405ac7377452d91",
      "742ed7c4298f4d44aca33fcaa74eed51",
      "feb861c973204bf8975bddeacfe89c43",
      "e1da309de9e4457d891e4a117f657d67",
      "9c6180a152ed423e9db75d753e76d3f1",
      "7d8aef40aaf246c5bec90c1d7a82c191",
      "a1b041b9381c46cc8df354f75c04966d",
      "edf6550ad9a64b90b10ee7addc539109",
      "47a6b9a58f264a0fb97e45c39bb9c2a0",
      "383350fe06c244b6ac0a684bb9b80fee",
      "c3f163797e1249f2b096c5b86232a166",
      "e2dbbdda44d54b77add96fa73cd508db",
      "10c98aa2cb4a4eb493872be525d823e4",
      "e5ea4197b2d443ad8acaf3a2b8ea4fc9",
      "f9bb605333744f078d6515fff1875e89"
     ]
    },
    "colab_type": "code",
    "executionInfo": {
     "elapsed": 842,
     "status": "ok",
     "timestamp": 1594077148166,
     "user": {
      "displayName": "Noah Beal",
      "photoUrl": "",
      "userId": "01377792101728349059"
     },
     "user_tz": 300
    },
    "id": "8rg66x8cCvkZ",
    "jupyter": {
     "source_hidden": true
    },
    "outputId": "5c509111-f87c-45ac-b3e2-32e8c038d1dd"
   },
   "outputs": [
    {
     "data": {
      "application/javascript": [
       "google.colab.output.setIframeHeight(0, true, {maxHeight: 5000})"
      ],
      "text/plain": [
       "<IPython.core.display.Javascript object>"
      ]
     },
     "metadata": {},
     "output_type": "display_data"
    },
    {
     "data": {
      "application/vnd.jupyter.widget-view+json": {
       "model_id": "99304691983649b8b175530bf13bd292",
       "version_major": 2,
       "version_minor": 0
      },
      "text/plain": [
       "VBox(children=(Output(), RadioButtons(options=(('23 -4', 0), ('4 -23', 1), ('SYNTAX ERROR', 2), ('-23 4', 3), …"
      ]
     },
     "metadata": {},
     "output_type": "display_data"
    },
    {
     "data": {
      "application/vnd.jupyter.widget-view+json": {
       "model_id": "cfa63fc1d40847cc898a4855b1f7431b",
       "version_major": 2,
       "version_minor": 0
      },
      "text/plain": [
       "VBox(children=(Output(), RadioButtons(options=(('9 + 1', 0), ('RUNTIME ERROR', 1), ('10', 2), ('10.0', 3), ('S…"
      ]
     },
     "metadata": {},
     "output_type": "display_data"
    },
    {
     "data": {
      "application/vnd.jupyter.widget-view+json": {
       "model_id": "6427268d90384f10953b82aae9056544",
       "version_major": 2,
       "version_minor": 0
      },
      "text/plain": [
       "VBox(children=(Output(), RadioButtons(options=(('0.0', 0), ('0', 1), ('SYNTAX ERROR', 2), ('RUNTIME ERROR', 3)…"
      ]
     },
     "metadata": {},
     "output_type": "display_data"
    },
    {
     "data": {
      "application/vnd.jupyter.widget-view+json": {
       "model_id": "4abf6e22879249059787063b469786c6",
       "version_major": 2,
       "version_minor": 0
      },
      "text/plain": [
       "VBox(children=(Output(), RadioButtons(options=(('SYNTAX ERROR', 0), ('100.0', 1), ('100', 2), ('RUNTIME ERROR'…"
      ]
     },
     "metadata": {},
     "output_type": "display_data"
    }
   ],
   "source": [
    "#@markdown <h1>Built-In Functions</h1>\n",
    "import ipywidgets as widgets\n",
    "import IPython\n",
    "from IPython.display import display, Markdown, clear_output, Javascript, HTML\n",
    "import random\n",
    "# zxzhaixiang https://github.com/jupyter-widgets/ipywidgets/issues/2487#issuecomment-510721436\n",
    "def MultipleChoice(options, correct_option, question='', markdown_code='', explination=''):\n",
    "    # Add correct answer if not included in options\n",
    "    if correct_option not in options:\n",
    "        options.append(correct_option)\n",
    "    \n",
    "    # Scramble the answers list\n",
    "    random.shuffle(options)\n",
    "\n",
    "    # Index of the correct answer\n",
    "    correct_answer_index = options.index(correct_option)\n",
    "\n",
    "    # RadioButton widget groups the options as radio buttons\n",
    "    # Only one radio button can be toggled at any point in time.\n",
    "    option_buttons = widgets.RadioButtons(\n",
    "        options=[(answer, i) for i, answer in enumerate(options)],\n",
    "        question='',\n",
    "        disabled=False\n",
    "    )\n",
    "\n",
    "    # Output for Question\n",
    "    question_out = widgets.Output()\n",
    "    # Display Question and Code snippet in Markdown, if provided\n",
    "    with question_out:\n",
    "        display(Markdown(question))\n",
    "        display(HTML(markdown_code))\n",
    "\n",
    "    # Output for response\n",
    "    response_out = widgets.Output()\n",
    "\n",
    "    # Check student's option submitted with correct_option\n",
    "    def check_selection(button):\n",
    "        student_answer_index = int(option_buttons.value)\n",
    "        if student_answer_index == correct_answer_index:\n",
    "            response = 'Correct! ' + u'\\u2713' + '<br />' + explination\n",
    "        else:\n",
    "            response = 'Incorrect'\n",
    "\n",
    "        # Clear Results\n",
    "        with response_out:\n",
    "            clear_output()\n",
    "            display(HTML(response))\n",
    "            display(HTML('<hr>'))\n",
    "        return\n",
    "\n",
    "    # Create submit button \n",
    "    check = widgets.Button(description=\"submit\")\n",
    "    check.on_click(check_selection)\n",
    "\n",
    "    return widgets.VBox([question_out, option_buttons, check, response_out])\n",
    "# CELL HIDDEN\n",
    "Q1 = MultipleChoice(\n",
    "    ['23 -4', 'RUNTIME ERROR', '4 -23', '-23 4', 'SYNTAX ERROR'], \n",
    "    '-23 4', \n",
    "    '### 1. What is output by the following code',\n",
    "    '''<!-- HTML generated using hilite.me --><div style=\"background: #ffffff; overflow:auto;width:auto;border:solid gray;border-width:.1em .1em .1em .8em;padding:.2em .6em;\"><pre style=\"margin: 0; line-height: 125%\">x <span style=\"color: #333333\">=</span> <span style=\"color: #007020\">eval</span>(<span style=\"background-color: #fff0f0\">&#39;4&#39;</span>)\n",
    "y <span style=\"color: #333333\">=</span> <span style=\"color: #007020\">int</span>(<span style=\"background-color: #fff0f0\">&#39;-23&#39;</span>)\n",
    "<span style=\"color: #008800; font-weight: bold\">print</span>(y, x)\n",
    "</pre></div>\n",
    "\n",
    "<hr>''')\n",
    "\n",
    "Q2 = MultipleChoice(\n",
    "    ['9 + 1', 'RUNTIME ERROR', '10', '10.0', 'SYNTAX ERROR'], \n",
    "    '10', \n",
    "    '### 2. What is output by the following code',\n",
    "    '''<!-- HTML generated using hilite.me --><div style=\"background: #ffffff; overflow:auto;width:auto;border:solid gray;border-width:.1em .1em .1em .8em;padding:.2em .6em;\"><pre style=\"margin: 0; line-height: 125%\">a <span style=\"color: #333333\">=</span> <span style=\"color: #007020\">eval</span>(<span style=\"background-color: #fff0f0\">&#39;9 + 1&#39;</span>)\n",
    "<span style=\"color: #008800; font-weight: bold\">print</span>(a)\n",
    "</pre></div>\n",
    "\n",
    "<hr>''')\n",
    "\n",
    "Q3 = MultipleChoice(\n",
    "    ['1 - 1', 'RUNTIME ERROR', '0', '0.0', 'SYNTAX ERROR'], \n",
    "    'RUNTIME ERROR', \n",
    "    '### 3. What is output by the following code',\n",
    "    '''<!-- HTML generated using hilite.me --><div style=\"background: #ffffff; overflow:auto;width:auto;border:solid gray;border-width:.1em .1em .1em .8em;padding:.2em .6em;\"><pre style=\"margin: 0; line-height: 125%\">t <span style=\"color: #333333\">=</span> <span style=\"color: #007020\">int</span>(<span style=\"background-color: #fff0f0\">&#39;1 - 1&#39;</span>)\n",
    "<span style=\"color: #008800; font-weight: bold\">print</span>(t)\n",
    "</pre></div>\n",
    "\n",
    "<hr>''',\n",
    "'ValueError: invalid literal for int() with base 10: \\'1 - 1\\'')\n",
    "\n",
    "Q4 = MultipleChoice(\n",
    "    ['100.0', 'RUNTIME ERROR', '100', 'SYNTAX ERROR'], \n",
    "    '100.0',\n",
    "    '### 4. What is output by the following code',\n",
    "    '''<!-- HTML generated using hilite.me --><div style=\"background: #ffffff; overflow:auto;width:auto;border:solid gray;border-width:.1em .1em .1em .8em;padding:.2em .6em;\"><pre style=\"margin: 0; line-height: 125%\">k <span style=\"color: #333333\">=</span> <span style=\"color: #007020\">eval</span>(<span style=\"background-color: #fff0f0\">&#39;99.0 + 1&#39;</span>)\n",
    "<span style=\"color: #008800; font-weight: bold\">print</span>(k)\n",
    "</pre></div>\n",
    "\n",
    "<hr>''')\n",
    "display(Javascript('''google.colab.output.setIframeHeight(0, true, {maxHeight: 5000})'''))\n",
    "display(Q1)\n",
    "display(Q2)\n",
    "display(Q3)\n",
    "display(Q4)"
   ]
  },
  {
   "cell_type": "code",
   "execution_count": 3,
   "metadata": {
    "cellView": "form",
    "colab": {},
    "colab_type": "code",
    "id": "sehzcvpTC0b2",
    "jupyter": {
     "source_hidden": true
    }
   },
   "outputs": [
    {
     "data": {
      "application/javascript": [
       "google.colab.output.setIframeHeight(0, true, {maxHeight: 5000})"
      ],
      "text/plain": [
       "<IPython.core.display.Javascript object>"
      ]
     },
     "metadata": {},
     "output_type": "display_data"
    },
    {
     "data": {
      "application/vnd.jupyter.widget-view+json": {
       "model_id": "1676207981c14856b04f74b777187925",
       "version_major": 2,
       "version_minor": 0
      },
      "text/plain": [
       "VBox(children=(Output(), RadioButtons(options=(('case2', 0), ('case3', 1), ('case1', 2)), value=0), Button(des…"
      ]
     },
     "metadata": {},
     "output_type": "display_data"
    },
    {
     "data": {
      "application/vnd.jupyter.widget-view+json": {
       "model_id": "7273c07145524f8bbc2b193cc385656b",
       "version_major": 2,
       "version_minor": 0
      },
      "text/plain": [
       "VBox(children=(Output(), RadioButtons(options=(('10', 0), ('8', 1), ('1', 2), ('2', 3), ('5', 4)), value=0), B…"
      ]
     },
     "metadata": {},
     "output_type": "display_data"
    },
    {
     "data": {
      "application/vnd.jupyter.widget-view+json": {
       "model_id": "7c79de9ef1394898951949559105dd11",
       "version_major": 2,
       "version_minor": 0
      },
      "text/plain": [
       "VBox(children=(Output(), RadioButtons(options=(('50', 0), ('0', 1), ('Impossible to Determine', 2), ('1', 3)),…"
      ]
     },
     "metadata": {},
     "output_type": "display_data"
    },
    {
     "data": {
      "application/vnd.jupyter.widget-view+json": {
       "model_id": "759707a68dd34d6b81971f143a7b94a8",
       "version_major": 2,
       "version_minor": 0
      },
      "text/plain": [
       "VBox(children=(Output(), RadioButtons(options=(('True True', 0), ('True False', 1), ('False True', 2), ('False…"
      ]
     },
     "metadata": {},
     "output_type": "display_data"
    }
   ],
   "source": [
    "#@markdown <h1> Boolean Logic and Conditional</h1>\n",
    "import ipywidgets as widgets\n",
    "import IPython\n",
    "from IPython.display import display, Markdown, clear_output, Javascript, HTML\n",
    "import random\n",
    "# zxzhaixiang https://github.com/jupyter-widgets/ipywidgets/issues/2487#issuecomment-510721436\n",
    "def MultipleChoice(options, correct_option, question='', markdown_code='', explination=''):\n",
    "    # Add correct answer if not included in options\n",
    "    if correct_option not in options:\n",
    "        options.append(correct_option)\n",
    "    \n",
    "    # Scramble the answers list\n",
    "    random.shuffle(options)\n",
    "\n",
    "    # Index of the correct answer\n",
    "    correct_answer_index = options.index(correct_option)\n",
    "\n",
    "    # RadioButton widget groups the options as radio buttons\n",
    "    # Only one radio button can be toggled at any point in time.\n",
    "    option_buttons = widgets.RadioButtons(\n",
    "        options=[(answer, i) for i, answer in enumerate(options)],\n",
    "        question='',\n",
    "        disabled=False\n",
    "    )\n",
    "\n",
    "    # Output for Question\n",
    "    question_out = widgets.Output()\n",
    "    # Display Question and Code snippet in Markdown, if provided\n",
    "    with question_out:\n",
    "        display(Markdown(question))\n",
    "        display(HTML(markdown_code))\n",
    "\n",
    "    # Output for response\n",
    "    response_out = widgets.Output()\n",
    "\n",
    "    # Check student's option submitted with correct_option\n",
    "    def check_selection(button):\n",
    "        student_answer_index = int(option_buttons.value)\n",
    "        if student_answer_index == correct_answer_index:\n",
    "            response = 'Correct! ' + u'\\u2713' + '<br />' + explination\n",
    "        else:\n",
    "            response = 'Incorrect'\n",
    "\n",
    "        # Clear Results\n",
    "        with response_out:\n",
    "            clear_output()\n",
    "            display(HTML(response))\n",
    "            display(HTML('<hr>'))\n",
    "        return\n",
    "\n",
    "    # Create submit button \n",
    "    check = widgets.Button(description=\"submit\")\n",
    "    check.on_click(check_selection)\n",
    "\n",
    "    return widgets.VBox([question_out, option_buttons, check, response_out])\n",
    "# CELL HIDDEN\n",
    "#BOOL\n",
    "Q1 = MultipleChoice(\n",
    "    ['case3', 'case1', 'case2'], \n",
    "    'case2', \n",
    "    '### 1. What is output by the following code',\n",
    "    '''<!-- HTML generated using hilite.me --><div style=\"background: #ffffff; overflow:auto;width:auto;border:solid gray;border-width:.1em .1em .1em .8em;padding:.2em .6em;\"><pre style=\"margin: 0; line-height: 125%\">x <span style=\"color: #333333\">=</span> <span style=\"color: #0000DD; font-weight: bold\">2</span>\n",
    "y <span style=\"color: #333333\">=</span> <span style=\"color: #0000DD; font-weight: bold\">4</span>\n",
    "z <span style=\"color: #333333\">=</span> <span style=\"color: #0000DD; font-weight: bold\">9</span>\n",
    "<span style=\"color: #008800; font-weight: bold\">if</span> x <span style=\"color: #333333\">&lt;=</span> <span style=\"color: #0000DD; font-weight: bold\">2</span> <span style=\"color: #000000; font-weight: bold\">and</span> y <span style=\"color: #333333\">&gt;</span> <span style=\"color: #0000DD; font-weight: bold\">4</span>:\n",
    "    <span style=\"color: #008800; font-weight: bold\">print</span>(<span style=\"background-color: #fff0f0\">&#39;case1&#39;</span>)\n",
    "<span style=\"color: #008800; font-weight: bold\">elif</span> z <span style=\"color: #333333\">&lt;</span> <span style=\"color: #0000DD; font-weight: bold\">9</span> <span style=\"color: #000000; font-weight: bold\">or</span> x <span style=\"color: #333333\">&gt;=</span> <span style=\"color: #0000DD; font-weight: bold\">2</span>:\n",
    "    <span style=\"color: #008800; font-weight: bold\">print</span>(<span style=\"background-color: #fff0f0\">&#39;case2&#39;</span>)\n",
    "<span style=\"color: #008800; font-weight: bold\">else</span>:\n",
    "    <span style=\"color: #008800; font-weight: bold\">print</span>(<span style=\"background-color: #fff0f0\">&#39;case3&#39;</span>)\n",
    "</pre></div>\n",
    "\n",
    "<hr>''')\n",
    "\n",
    "Q2 = MultipleChoice(\n",
    "    ['1', '2', '10', '5', '8'], \n",
    "    '10', \n",
    "    '### 2. What is output by the following code',\n",
    "    '''<!-- HTML generated using hilite.me --><div style=\"background: #ffffff; overflow:auto;width:auto;border:solid gray;border-width:.1em .1em .1em .8em;padding:.2em .6em;\"><pre style=\"margin: 0; line-height: 125%\">count <span style=\"color: #333333\">=</span> <span style=\"color: #0000DD; font-weight: bold\">0</span>\n",
    "x <span style=\"color: #333333\">=</span> <span style=\"background-color: #fff0f0\">&#39;A&#39;</span>\n",
    "y <span style=\"color: #333333\">=</span> <span style=\"background-color: #fff0f0\">&#39;B&#39;</span>\n",
    "<span style=\"color: #008800; font-weight: bold\">if</span> x <span style=\"color: #333333\">==</span> <span style=\"background-color: #fff0f0\">&#39;X&#39;</span> <span style=\"color: #000000; font-weight: bold\">or</span> y <span style=\"color: #333333\">==</span> x:\n",
    "    count <span style=\"color: #333333\">+=</span> <span style=\"color: #0000DD; font-weight: bold\">1</span>\n",
    "<span style=\"color: #008800; font-weight: bold\">elif</span> count <span style=\"color: #333333\">&lt;</span> <span style=\"color: #0000DD; font-weight: bold\">50</span> <span style=\"color: #000000; font-weight: bold\">and</span> y <span style=\"color: #333333\">==</span> <span style=\"background-color: #fff0f0\">&#39;B&#39;</span>:\n",
    "    count <span style=\"color: #333333\">+=</span> <span style=\"color: #0000DD; font-weight: bold\">5</span>\n",
    "<span style=\"color: #008800; font-weight: bold\">else</span>:\n",
    "    count <span style=\"color: #333333\">*=</span> <span style=\"color: #0000DD; font-weight: bold\">3</span>\n",
    "count <span style=\"color: #333333\">*=</span> <span style=\"color: #0000DD; font-weight: bold\">2</span>\n",
    "<span style=\"color: #008800; font-weight: bold\">print</span>(count)\n",
    "</pre></div>\n",
    "\n",
    "<hr>''')\n",
    "\n",
    "Q3 = MultipleChoice(\n",
    "    ['Impossible to Determine', '0', '1', '50'], \n",
    "    '0', \n",
    "    '### 3. What is output by the following code',\n",
    "    '''<!-- HTML generated using hilite.me --><div style=\"background: #ffffff; overflow:auto;width:auto;border:solid gray;border-width:.1em .1em .1em .8em;padding:.2em .6em;\"><pre style=\"margin: 0; line-height: 125%\"><span style=\"color: #008800; font-weight: bold\">import</span> <span style=\"color: #0e84b5; font-weight: bold\">random</span>\n",
    "num <span style=\"color: #333333\">=</span> random<span style=\"color: #333333\">.</span>randint(<span style=\"color: #0000DD; font-weight: bold\">0</span>,<span style=\"color: #0000DD; font-weight: bold\">1</span>)\n",
    "<span style=\"color: #008800; font-weight: bold\">if</span> num <span style=\"color: #333333\">==</span> <span style=\"color: #0000DD; font-weight: bold\">0</span>:\n",
    "    <span style=\"color: #008800; font-weight: bold\">print</span>(num)\n",
    "<span style=\"color: #008800; font-weight: bold\">elif</span> num <span style=\"color: #333333\">==</span> <span style=\"color: #0000DD; font-weight: bold\">1</span>:\n",
    "    <span style=\"color: #008800; font-weight: bold\">print</span>(num <span style=\"color: #333333\">-</span> <span style=\"color: #0000DD; font-weight: bold\">1</span>)\n",
    "<span style=\"color: #008800; font-weight: bold\">else</span>:\n",
    "    <span style=\"color: #008800; font-weight: bold\">print</span>(<span style=\"color: #0000DD; font-weight: bold\">50</span>)\n",
    "</pre></div>\n",
    "\n",
    "<hr>''')\n",
    "\n",
    "Q4 = MultipleChoice(\n",
    "    ['False True', 'False False', 'True True', 'True False'], \n",
    "    'False True', \n",
    "    '### 4. What is output by the following code',\n",
    "    '''<!-- HTML generated using hilite.me --><div style=\"background: #ffffff; overflow:auto;width:auto;border:solid gray;border-width:.1em .1em .1em .8em;padding:.2em .6em;\"><pre style=\"margin: 0; line-height: 125%\">x <span style=\"color: #333333\">=</span> <span style=\"color: #0000DD; font-weight: bold\">1</span>\n",
    "y <span style=\"color: #333333\">=</span> <span style=\"background-color: #fff0f0\">&#39;1&#39;</span>\n",
    "a <span style=\"color: #333333\">=</span> x <span style=\"color: #333333\">==</span> y <span style=\"color: #000000; font-weight: bold\">and</span> x <span style=\"color: #333333\">&gt;</span> <span style=\"color: #0000DD; font-weight: bold\">0</span>\n",
    "b <span style=\"color: #333333\">=</span> y <span style=\"color: #333333\">!=</span> <span style=\"background-color: #fff0f0\">&#39;1&#39;</span> <span style=\"color: #000000; font-weight: bold\">or</span> x <span style=\"color: #333333\">%</span> <span style=\"color: #0000DD; font-weight: bold\">5</span> <span style=\"color: #333333\">&gt;=</span> <span style=\"color: #0000DD; font-weight: bold\">1</span>\n",
    "<span style=\"color: #008800; font-weight: bold\">print</span>(a, b)\n",
    "</pre></div>\n",
    "\n",
    "<hr>''')\n",
    "display(Javascript('''google.colab.output.setIframeHeight(0, true, {maxHeight: 5000})'''))\n",
    "display(Q1)\n",
    "display(Q2)\n",
    "display(Q3)\n",
    "display(Q4)"
   ]
  },
  {
   "cell_type": "code",
   "execution_count": 4,
   "metadata": {
    "cellView": "form",
    "colab": {
     "base_uri": "https://localhost:8080/",
     "height": 1909,
     "referenced_widgets": [
      "1d8ecc853cbd4aafb69e1caf8180d9ae",
      "7ca6c7a42b7847f88907e29e0aa4bd08",
      "d7791fb7ae084253a0f8b97b95f61fd7",
      "13a03e8064dc46d996195aa23e06b354",
      "deccec85c2f84cd3a12843e6aace7bc5",
      "f4826ee4be234534ba0631f0f5629e5b",
      "51f22b30379443a58c457731a6c9080b",
      "cc700e216b514c18b0ebbdcab200d1ef",
      "f74419fea4c64c7a9f8ccc60c51ab562",
      "159453834944403bafd5d0c0c49ace88",
      "7b7632134adc435da7cb240cc083a69e",
      "3acd7d6fd55c415ca89ee2cbe3a0d475",
      "c81e1e8dd51546d0a0f99b558037323e",
      "0f44520254a34dd9be781fbd1b63b999",
      "d6c1c4ee9f7c4025b4e6b29221686ff9",
      "8bd4038446fd4a82ac06103f66979bc1",
      "de99f1d578234f07a03eeb8dd3c37f76",
      "60bcba7570b042879efa8c6bcdb9891b",
      "b0d9fbb152a648799845ae0fbdb838ba",
      "aaefe45ca8d54e98b595aabc31997b6f",
      "d4f323d3436b486888913eec924dec22",
      "a54d0bcd8c8c4a069e89efa5d745a441",
      "55bed257ac3f44638dfba1d934e88830",
      "9c8195ec97314d96957930bb0f1bbc2f",
      "66185a1c65a84bf8b6e5798b082922ce",
      "37c2ac89f517475eba294ee97516c26e",
      "eed3f3f108f342b795868164b30a017a",
      "2b03d55460e146d2a416c5ccc8cd4fca",
      "acb64f3239594f1faa4ad671668e56b2",
      "06e19a18577e4050b7f5c730c4f74115",
      "b861795ef3d84b8793349d13551af2b6",
      "feff5121f1ee42c0abf34bcb70d37516",
      "88e1dd96960742e08f4357b798866505",
      "ec0598ec91ab4db6abcd90046f5ca167",
      "16be70cd5467477ba9874cc2c0aa96b1",
      "fd2837af43b44f4b97bdca750e9b5a4c",
      "77571da4a3734986845665adfef813c2",
      "d32c86490a004f95b288336c32d79ef3",
      "123a98fde89e46459aa9937a9766702b",
      "0a3759df89ef477b909d43a10962f0a9",
      "ae2d2e8cfa92486b8135d8f441322718",
      "bb78fde3f53545459ed6decd78404a65",
      "ab510433b5c1423f92c3bbd17d0d2445",
      "cf2698f44e3e43caa9feebf71a3b7be6",
      "7bcd623f02ff4070a28494e28013911c",
      "bac2b7ad585947d7b52d794b7608509e",
      "b1f877214099478f87040b72530f5195",
      "a66bca68e7784e44b89d2b5b47324978",
      "679086ac13c74ecba02dce5392448fcb",
      "44e85107e790494ab6c59206bc9fb24a",
      "f978aefc57204534a3d10ec6278a4199",
      "c9135bc46d774f0eba9965f19f7a2e6a",
      "a4711e75d7044c41b0a78bb66e3a0d37",
      "83f0add54c784c27a9c5372756aee0f4",
      "2b9685507e55411fbca882fcc9f694a1",
      "5cedaabb8a0b4da58b1a779bf0172ad7",
      "0dc97ced81434d8f8bf149a0b8894676",
      "9759828f1f0e4eab96431a5c32f28231",
      "74496f2440a74010855beee699599735",
      "997d0d6f1c2545c68d55cf5e5d59fe68",
      "60c88c60f0f64059bba646f6802dd003",
      "7653dabe62f8451e84c5ffce3defae3f",
      "bf582d3b2c084f7fb6daa5fa6e49d47c",
      "e4e8cd9d353d416c8ea2901322680b9d",
      "b0e4221c09234f98a24244f9387c4452",
      "19984dec26da442a81e597f6afde4f6f",
      "99d0db696f8843e7ab4d8b8f2af707a1",
      "e8fafd2c753d44a59c3442b1f5644925",
      "c0624f390c8449dabad7fd90c8ffe442",
      "20c44d402cdf41fda7fd720357886a1a",
      "b1658fe22e44401a88fe113a42e43ce7",
      "3098ad9d9fdf4a1180c23a469cbd07ce",
      "4272aae2779341578ccdc9585eb42e2a",
      "898f7acd9f2a4118980b7ade5c6b9998",
      "ccfd86ec47354a65bd1313eec52b8f25",
      "0f192e50dcfd4b428f67c22818022964",
      "542076c45ea843a4a039a0e9a1dcb583",
      "6f8fa85dc4384ab18f0b4f641a36d793",
      "83f1be31225d4e0aac532212a7b8eb77",
      "a1ac16e627bc41f8a6a62119660038de",
      "9dd08d8224a044bb8dd42d0302495dd4",
      "5a62a1e85d72472b841e31231ad4ec96",
      "cc7f42454f534eb583a5ddbe8a856bf2",
      "06f73a53ad32453eb9bdf22f08cf25e2"
     ]
    },
    "colab_type": "code",
    "executionInfo": {
     "elapsed": 767,
     "status": "ok",
     "timestamp": 1594076767975,
     "user": {
      "displayName": "Noah Beal",
      "photoUrl": "",
      "userId": "01377792101728349059"
     },
     "user_tz": 300
    },
    "id": "cpVoPnsTDesC",
    "jupyter": {
     "source_hidden": true
    },
    "outputId": "4a3ca243-8152-4346-dc1b-3d6a454b6d83"
   },
   "outputs": [
    {
     "data": {
      "application/javascript": [
       "google.colab.output.setIframeHeight(0, true, {maxHeight: 5000})"
      ],
      "text/plain": [
       "<IPython.core.display.Javascript object>"
      ]
     },
     "metadata": {},
     "output_type": "display_data"
    },
    {
     "data": {
      "application/vnd.jupyter.widget-view+json": {
       "model_id": "955d7292b4a84ac3841464b16a5021df",
       "version_major": 2,
       "version_minor": 0
      },
      "text/plain": [
       "VBox(children=(Output(), RadioButtons(options=(('20', 0), ('2', 1), ('0', 2), ('1024', 3)), value=0), Button(d…"
      ]
     },
     "metadata": {},
     "output_type": "display_data"
    },
    {
     "data": {
      "application/vnd.jupyter.widget-view+json": {
       "model_id": "6e30307d85c54525b57a9ee08c89d588",
       "version_major": 2,
       "version_minor": 0
      },
      "text/plain": [
       "VBox(children=(Output(), RadioButtons(options=(('6', 0), ('10', 1), ('5', 2), ('4', 3), ('3', 4)), value=0), B…"
      ]
     },
     "metadata": {},
     "output_type": "display_data"
    },
    {
     "data": {
      "application/vnd.jupyter.widget-view+json": {
       "model_id": "3201f8cebf884e558dd4185ee89c2b25",
       "version_major": 2,
       "version_minor": 0
      },
      "text/plain": [
       "VBox(children=(Output(), RadioButtons(options=(('50', 0), ('49', 1), ('RUNTIME ERROR', 2), ('1', 3)), value=0)…"
      ]
     },
     "metadata": {},
     "output_type": "display_data"
    },
    {
     "data": {
      "application/vnd.jupyter.widget-view+json": {
       "model_id": "d866c73e4198453e80cd612713adcc7d",
       "version_major": 2,
       "version_minor": 0
      },
      "text/plain": [
       "VBox(children=(Output(), RadioButtons(options=(('51', 0), ('50', 1), ('49', 2), ('48', 3)), value=0), Button(d…"
      ]
     },
     "metadata": {},
     "output_type": "display_data"
    },
    {
     "data": {
      "application/vnd.jupyter.widget-view+json": {
       "model_id": "90cf572d2c0a4b41b9f46e1ed3079b5e",
       "version_major": 2,
       "version_minor": 0
      },
      "text/plain": [
       "VBox(children=(Output(), RadioButtons(options=(('3', 0), ('4', 1), ('INFINITE LOOP', 2), ('5', 3)), value=0), …"
      ]
     },
     "metadata": {},
     "output_type": "display_data"
    },
    {
     "data": {
      "application/vnd.jupyter.widget-view+json": {
       "model_id": "6e547ed9f6e3492cbc51e9113aebb891",
       "version_major": 2,
       "version_minor": 0
      },
      "text/plain": [
       "VBox(children=(Output(), RadioButtons(options=(('20', 0), ('1', 1), ('0', 2), ('INFINITE LOOP', 3)), value=0),…"
      ]
     },
     "metadata": {},
     "output_type": "display_data"
    },
    {
     "data": {
      "application/vnd.jupyter.widget-view+json": {
       "model_id": "30e849a2b3d9415ab10a55646dce18d4",
       "version_major": 2,
       "version_minor": 0
      },
      "text/plain": [
       "VBox(children=(Output(), RadioButtons(options=(('0', 0), ('9', 1), ('10', 2), ('11', 3), ('INFINITE LOOP', 4))…"
      ]
     },
     "metadata": {},
     "output_type": "display_data"
    }
   ],
   "source": [
    "#@markdown <h1>Iteration (Loops)</h1>\n",
    "import ipywidgets as widgets\n",
    "import IPython\n",
    "from IPython.display import display, Markdown, clear_output, Javascript, HTML\n",
    "import random\n",
    "# zxzhaixiang https://github.com/jupyter-widgets/ipywidgets/issues/2487#issuecomment-510721436\n",
    "def MultipleChoice(options, correct_option, question='', markdown_code='', explination=''):\n",
    "    # Add correct answer if not included in options\n",
    "    if correct_option not in options:\n",
    "        options.append(correct_option)\n",
    "    \n",
    "    # Scramble the answers list\n",
    "    random.shuffle(options)\n",
    "\n",
    "    # Index of the correct answer\n",
    "    correct_answer_index = options.index(correct_option)\n",
    "\n",
    "    # RadioButton widget groups the options as radio buttons\n",
    "    # Only one radio button can be toggled at any point in time.\n",
    "    option_buttons = widgets.RadioButtons(\n",
    "        options=[(answer, i) for i, answer in enumerate(options)],\n",
    "        question='',\n",
    "        disabled=False\n",
    "    )\n",
    "\n",
    "    # Output for Question\n",
    "    question_out = widgets.Output()\n",
    "    # Display Question and Code snippet in Markdown, if provided\n",
    "    with question_out:\n",
    "        display(Markdown(question))\n",
    "        display(HTML(markdown_code))\n",
    "\n",
    "    # Output for response\n",
    "    response_out = widgets.Output()\n",
    "\n",
    "    # Check student's option submitted with correct_option\n",
    "    def check_selection(button):\n",
    "        student_answer_index = int(option_buttons.value)\n",
    "        if student_answer_index == correct_answer_index:\n",
    "            response = 'Correct! ' + u'\\u2713' + '<br />' + explination\n",
    "        else:\n",
    "            response = 'Incorrect'\n",
    "\n",
    "        # Clear Results\n",
    "        with response_out:\n",
    "            clear_output()\n",
    "            display(HTML(response))\n",
    "            display(HTML('<hr>'))\n",
    "        return\n",
    "\n",
    "    # Create submit button \n",
    "    check = widgets.Button(description=\"submit\")\n",
    "    check.on_click(check_selection)\n",
    "\n",
    "    return widgets.VBox([question_out, option_buttons, check, response_out])\n",
    "# CELL HIDDEN\n",
    "# ITERATION\n",
    "Q1 = MultipleChoice(\n",
    "    ['2', '20', '1024', '0'], \n",
    "    '0', \n",
    "    '### 1. What is output by the following code',\n",
    "    '''<!-- HTML generated using hilite.me --><div style=\"background: #ffffff; overflow:auto;width:auto;border:solid gray;border-width:.1em .1em .1em .8em;padding:.2em .6em;\"><pre style=\"margin: 0; line-height: 125%\">count <span style=\"color: #333333\">=</span> <span style=\"color: #0000DD; font-weight: bold\">0</span>\n",
    "<span style=\"color: #008800; font-weight: bold\">for</span> i <span style=\"color: #000000; font-weight: bold\">in</span> <span style=\"color: #007020\">range</span>(<span style=\"color: #0000DD; font-weight: bold\">0</span>, <span style=\"color: #0000DD; font-weight: bold\">10</span>):\n",
    "    count <span style=\"color: #333333\">*=</span> <span style=\"color: #0000DD; font-weight: bold\">2</span>\n",
    "<span style=\"color: #008800; font-weight: bold\">print</span>(count)\n",
    "</pre></div>\n",
    "\n",
    "<hr>''')\n",
    "\n",
    "Q2 = MultipleChoice(\n",
    "    ['3', '5', '10', '4', '6'], \n",
    "    '4', \n",
    "    '### 2. What is output by the following code',\n",
    "    '''<!-- HTML generated using hilite.me --><div style=\"background: #ffffff; overflow:auto;width:auto;border:solid gray;border-width:.1em .1em .1em .8em;padding:.2em .6em;\"><pre style=\"margin: 0; line-height: 125%\">loop_control <span style=\"color: #333333\">=</span> <span style=\"color: #0000DD; font-weight: bold\">1</span>\n",
    "count <span style=\"color: #333333\">=</span> <span style=\"color: #0000DD; font-weight: bold\">0</span>\n",
    "<span style=\"color: #008800; font-weight: bold\">while</span> loop_control <span style=\"color: #333333\">&lt;</span> <span style=\"color: #0000DD; font-weight: bold\">10</span>:\n",
    "    loop_control <span style=\"color: #333333\">*=</span> <span style=\"color: #0000DD; font-weight: bold\">2</span>\n",
    "    count <span style=\"color: #333333\">+=</span> <span style=\"color: #0000DD; font-weight: bold\">1</span>\n",
    "<span style=\"color: #008800; font-weight: bold\">print</span>(count)\n",
    "</pre></div>\n",
    "\n",
    "<hr>''')\n",
    "\n",
    "Q3 = MultipleChoice(\n",
    "    ['49', 'RUNTIME ERROR', '1', '50'], \n",
    "    '49', \n",
    "    '### 3. What is output by the following code',\n",
    "    '''<!-- HTML generated using hilite.me --><div style=\"background: #ffffff; overflow:auto;width:auto;border:solid gray;border-width:.1em .1em .1em .8em;padding:.2em .6em;\"><pre style=\"margin: 0; line-height: 125%\">what_am_i <span style=\"color: #333333\">=</span> <span style=\"color: #0000DD; font-weight: bold\">0</span>\n",
    "<span style=\"color: #008800; font-weight: bold\">for</span> i <span style=\"color: #000000; font-weight: bold\">in</span> <span style=\"color: #007020\">range</span>(<span style=\"color: #0000DD; font-weight: bold\">50</span>):\n",
    "    what_am_i <span style=\"color: #333333\">=</span> i\n",
    "<span style=\"color: #008800; font-weight: bold\">print</span>(what_am_i)\n",
    "</pre></div>\n",
    "\n",
    "<hr>''')\n",
    "\n",
    "Q4 = MultipleChoice(\n",
    "    ['49', '48', '50', '51'], \n",
    "    '50', \n",
    "    '### 4. What is output by the following code',\n",
    "    '''<!-- HTML generated using hilite.me --><div style=\"background: #ffffff; overflow:auto;width:auto;border:solid gray;border-width:.1em .1em .1em .8em;padding:.2em .6em;\"><pre style=\"margin: 0; line-height: 125%\">loop_control <span style=\"color: #333333\">=</span> <span style=\"color: #333333\">-</span><span style=\"color: #0000DD; font-weight: bold\">2</span>\n",
    "<span style=\"color: #008800; font-weight: bold\">while</span> loop_control <span style=\"color: #333333\">&lt;</span> <span style=\"color: #0000DD; font-weight: bold\">50</span>:\n",
    "    loop_control <span style=\"color: #333333\">+=</span> <span style=\"color: #0000DD; font-weight: bold\">1</span>\n",
    "<span style=\"color: #008800; font-weight: bold\">print</span>(loop_control)\n",
    "</pre></div>\n",
    "\n",
    "<hr>''')\n",
    "\n",
    "Q5 = MultipleChoice(\n",
    "    ['5', 'INFINITE LOOP', '4', '3'], \n",
    "    '4', \n",
    "    '### 5. What is output by the following code',\n",
    "    '''<!-- HTML generated using hilite.me --><div style=\"background: #ffffff; overflow:auto;width:auto;border:solid gray;border-width:.1em .1em .1em .8em;padding:.2em .6em;\"><pre style=\"margin: 0; line-height: 125%\">count <span style=\"color: #333333\">=</span> <span style=\"color: #0000DD; font-weight: bold\">0</span>\n",
    "<span style=\"color: #008800; font-weight: bold\">for</span> i <span style=\"color: #000000; font-weight: bold\">in</span> <span style=\"color: #007020\">range</span>(<span style=\"color: #0000DD; font-weight: bold\">3</span>, <span style=\"color: #0000DD; font-weight: bold\">15</span>, <span style=\"color: #0000DD; font-weight: bold\">3</span>):\n",
    "    count <span style=\"color: #333333\">+=</span> <span style=\"color: #0000DD; font-weight: bold\">1</span>\n",
    "<span style=\"color: #008800; font-weight: bold\">print</span>(count)\n",
    "</pre></div>\n",
    "\n",
    "<hr>''')\n",
    "\n",
    "Q6 = MultipleChoice(\n",
    "    ['0', 'INFINITE LOOP', '1', '20'], \n",
    "    'INFINITE LOOP', \n",
    "    '### 6. What is output by the following code',\n",
    "    '''<!-- HTML generated using hilite.me --><div style=\"background: #ffffff; overflow:auto;width:auto;border:solid gray;border-width:.1em .1em .1em .8em;padding:.2em .6em;\"><pre style=\"margin: 0; line-height: 125%\">loop_control <span style=\"color: #333333\">=</span> <span style=\"color: #333333\">-</span><span style=\"color: #0000DD; font-weight: bold\">10</span>\n",
    "<span style=\"color: #008800; font-weight: bold\">while</span> loop_control <span style=\"color: #333333\">&lt;=</span> <span style=\"color: #0000DD; font-weight: bold\">0</span>:\n",
    "    loop_control <span style=\"color: #333333\">*=</span> <span style=\"color: #0000DD; font-weight: bold\">2</span>\n",
    "<span style=\"color: #008800; font-weight: bold\">print</span>(loop_control)\n",
    "</pre></div>\n",
    "\n",
    "<hr>''')\n",
    "\n",
    "Q7 = MultipleChoice(\n",
    "    ['10', 'INFINITE LOOP', '0', '11', '9'], \n",
    "    '10', \n",
    "    '### 7. What is output by the following code',\n",
    "    '''<!-- HTML generated using hilite.me --><div style=\"background: #ffffff; overflow:auto;width:auto;border:solid gray;border-width:.1em .1em .1em .8em;padding:.2em .6em;\"><pre style=\"margin: 0; line-height: 125%\">count <span style=\"color: #333333\">=</span> <span style=\"color: #0000DD; font-weight: bold\">0</span>\n",
    "<span style=\"color: #008800; font-weight: bold\">for</span> i <span style=\"color: #000000; font-weight: bold\">in</span> <span style=\"color: #007020\">range</span>(<span style=\"color: #0000DD; font-weight: bold\">10</span>, <span style=\"color: #0000DD; font-weight: bold\">0</span>, <span style=\"color: #333333\">-</span><span style=\"color: #0000DD; font-weight: bold\">1</span>):\n",
    "    count <span style=\"color: #333333\">+=</span> <span style=\"color: #0000DD; font-weight: bold\">1</span>\n",
    "<span style=\"color: #008800; font-weight: bold\">print</span>(count)\n",
    "</pre></div>\n",
    "\n",
    "<hr>''')\n",
    "display(Javascript('''google.colab.output.setIframeHeight(0, true, {maxHeight: 5000})'''))\n",
    "display(Q1)\n",
    "display(Q2)\n",
    "display(Q3)\n",
    "display(Q4)\n",
    "display(Q5)\n",
    "display(Q6)\n",
    "display(Q7)"
   ]
  },
  {
   "cell_type": "code",
   "execution_count": 5,
   "metadata": {
    "cellView": "form",
    "colab": {
     "base_uri": "https://localhost:8080/",
     "height": 1158,
     "referenced_widgets": [
      "c343acb56b1a4c119756e7a45ed94dd3",
      "847e92c96b924b1e936ed8bb0df1baaf",
      "3dde289de95140e0b69daeb32d625619",
      "c200654111c8400c985ab21401548605",
      "b7f4f1405367442e9a842a74e2519980",
      "01ee0e4a458946d4bb3a26fa0f0b1cd3",
      "0746879c90cf4d6a8fc7e2c6fe3395e2",
      "dc8883c90cb649d19072c2490f5be4fc",
      "18c5e85db76a447aa9761dafa5db93ce",
      "8fd729e897ce4839bea5a278099c9811",
      "3be9a97d74f447d0a852d54b008a0ab3",
      "1b225be59c8e4f7d931b906cf08bb391",
      "538e9072632b4c9e97b2d297aa3f7134",
      "017e67589f6b41d088214af548789f23",
      "007e7d1aad8641f89ba09bf3aa5fdf45",
      "30062a8ccc3b43568023995c4f24fa1c",
      "3041f3c275f74af3ba118dca01ba4b62",
      "e9f148371fe049a8a519d10f2b0b2993",
      "3e53c5937f2b41548c854eff2ae89da1",
      "69ee53c18010460abbcaa5d4770bb0dd",
      "91bc7618929f4eeabb078ac75bd928dd",
      "3732b847cea4450597e1a922f6698376",
      "56a86e5d1e4a466eadeaaab8b0b4f61e",
      "e8494b9a18ec45d2b44324dc0db034e8",
      "c36e4129435f47adaa0e450f857da14c",
      "2e907cf7c17d4e5fa8eead9b43f85c37",
      "42d4a0e778c84b56a2b8124eb1d2637d",
      "c036ee49c58b4fec8db6a659a6764865",
      "01bb8f34670841a0af1ce418b926a3c3",
      "234cbf1ae4094a70a39a896854eb354e",
      "df8825d8b1c3413f80026b7c6cc04014",
      "df7ca85826ad4c0498ff6c1b3381cce2",
      "d60606208f4e4cd0bc689c2733f47328",
      "8f82bb4e51594de6a592c509aa2d393f",
      "73355208ec7f4b9d875d5cc7f18ecd5a",
      "57848864ce8e42b9b451674662a86265"
     ]
    },
    "colab_type": "code",
    "executionInfo": {
     "elapsed": 513,
     "status": "ok",
     "timestamp": 1594080348010,
     "user": {
      "displayName": "Noah Beal",
      "photoUrl": "",
      "userId": "01377792101728349059"
     },
     "user_tz": 300
    },
    "id": "bY2g4kxKDsZi",
    "jupyter": {
     "source_hidden": true
    },
    "outputId": "6ef2a3ea-56f0-4855-ba35-de0baaa4611d"
   },
   "outputs": [
    {
     "data": {
      "application/javascript": [
       "google.colab.output.setIframeHeight(0, true, {maxHeight: 5000})"
      ],
      "text/plain": [
       "<IPython.core.display.Javascript object>"
      ]
     },
     "metadata": {},
     "output_type": "display_data"
    },
    {
     "data": {
      "application/vnd.jupyter.widget-view+json": {
       "model_id": "1b4b8e97ca0849c7a9534a1d238d0a59",
       "version_major": 2,
       "version_minor": 0
      },
      "text/plain": [
       "VBox(children=(Output(), RadioButtons(options=(('7', 0), ('9', 1), ('12', 2), ('10', 3)), value=0), Button(des…"
      ]
     },
     "metadata": {},
     "output_type": "display_data"
    },
    {
     "data": {
      "application/vnd.jupyter.widget-view+json": {
       "model_id": "75a1221ffc704f7198ae0f5ebb6b9c48",
       "version_major": 2,
       "version_minor": 0
      },
      "text/plain": [
       "VBox(children=(Output(), RadioButtons(options=(('9', 0), ('27', 1), ('18', 2), ('0', 3)), value=0), Button(des…"
      ]
     },
     "metadata": {},
     "output_type": "display_data"
    },
    {
     "data": {
      "application/vnd.jupyter.widget-view+json": {
       "model_id": "7432b2af45dd4fefa7869dffe5bff20a",
       "version_major": 2,
       "version_minor": 0
      },
      "text/plain": [
       "VBox(children=(Output(), RadioButtons(options=(('50 50 0', 0), ('1 50 0', 1), ('50 0 1', 2), ('1 0 1', 3)), va…"
      ]
     },
     "metadata": {},
     "output_type": "display_data"
    }
   ],
   "source": [
    "#@markdown <h1>Programmer Defined Functions</h1>\n",
    "import ipywidgets as widgets\n",
    "import IPython\n",
    "from IPython.display import display, Markdown, clear_output, Javascript, HTML\n",
    "import random\n",
    "# zxzhaixiang https://github.com/jupyter-widgets/ipywidgets/issues/2487#issuecomment-510721436\n",
    "def MultipleChoice(options, correct_option, question='', markdown_code='', explination=''):\n",
    "    # Add correct answer if not included in options\n",
    "    if correct_option not in options:\n",
    "        options.append(correct_option)\n",
    "    \n",
    "    # Scramble the answers list\n",
    "    random.shuffle(options)\n",
    "\n",
    "    # Index of the correct answer\n",
    "    correct_answer_index = options.index(correct_option)\n",
    "\n",
    "    # RadioButton widget groups the options as radio buttons\n",
    "    # Only one radio button can be toggled at any point in time.\n",
    "    option_buttons = widgets.RadioButtons(\n",
    "        options=[(answer, i) for i, answer in enumerate(options)],\n",
    "        question='',\n",
    "        disabled=False\n",
    "    )\n",
    "\n",
    "    # Output for Question\n",
    "    question_out = widgets.Output()\n",
    "    # Display Question and Code snippet in Markdown, if provided\n",
    "    with question_out:\n",
    "        display(Markdown(question))\n",
    "        display(HTML(markdown_code))\n",
    "\n",
    "    # Output for response\n",
    "    response_out = widgets.Output()\n",
    "\n",
    "    # Check student's option submitted with correct_option\n",
    "    def check_selection(button):\n",
    "        student_answer_index = int(option_buttons.value)\n",
    "        if student_answer_index == correct_answer_index:\n",
    "            response = 'Correct! ' + u'\\u2713' + '<br />' + explination\n",
    "        else:\n",
    "            response = 'Incorrect'\n",
    "\n",
    "        # Clear Results\n",
    "        with response_out:\n",
    "            clear_output()\n",
    "            display(HTML(response))\n",
    "            display(HTML('<hr>'))\n",
    "        return\n",
    "\n",
    "    # Create submit button \n",
    "    check = widgets.Button(description=\"submit\")\n",
    "    check.on_click(check_selection)\n",
    "\n",
    "    return widgets.VBox([question_out, option_buttons, check, response_out])\n",
    "# CELL HIDDEN\n",
    "# Functions\n",
    "Q1 = MultipleChoice(\n",
    "    ['9', '7', '12', '10'], \n",
    "    '12', \n",
    "    '### 1. What is output by the following code',\n",
    "    '''<!-- HTML generated using hilite.me --><div style=\"background: #ffffff; overflow:auto;width:auto;border:solid gray;border-width:.1em .1em .1em .8em;padding:.2em .6em;\"><pre style=\"margin: 0; line-height: 125%\"><span style=\"color: #008800; font-weight: bold\">def</span> <span style=\"color: #0066BB; font-weight: bold\">a</span>(x):\n",
    "    x <span style=\"color: #333333\">=</span> b(x)\n",
    "    <span style=\"color: #008800; font-weight: bold\">return</span> x <span style=\"color: #333333\">+</span> <span style=\"color: #0000DD; font-weight: bold\">2</span>\n",
    "\n",
    "<span style=\"color: #008800; font-weight: bold\">def</span> <span style=\"color: #0066BB; font-weight: bold\">b</span>(y):\n",
    "    <span style=\"color: #008800; font-weight: bold\">return</span> y <span style=\"color: #333333\">*</span> <span style=\"color: #0000DD; font-weight: bold\">2</span>\n",
    "\n",
    "what_am_i <span style=\"color: #333333\">=</span> a(<span style=\"color: #0000DD; font-weight: bold\">5</span>)\n",
    "<span style=\"color: #008800; font-weight: bold\">print</span>(what_am_i)\n",
    "</pre></div>\n",
    "\n",
    "\n",
    "<hr>''')\n",
    "\n",
    "Q2 = MultipleChoice(\n",
    "    ['9', '18', '27', '0'], \n",
    "    '18', \n",
    "    '### 2. What is output by the following code',\n",
    "    '''<!-- HTML generated using hilite.me --><div style=\"background: #ffffff; overflow:auto;width:auto;border:solid gray;border-width:.1em .1em .1em .8em;padding:.2em .6em;\"><pre style=\"margin: 0; line-height: 125%\"><span style=\"color: #008800; font-weight: bold\">def</span> <span style=\"color: #0066BB; font-weight: bold\">a</span>(x, y):\n",
    "    x <span style=\"color: #333333\">=</span> <span style=\"color: #0000DD; font-weight: bold\">3</span>\n",
    "    y <span style=\"color: #333333\">=</span> <span style=\"color: #0000DD; font-weight: bold\">3</span>\n",
    "    <span style=\"color: #008800; font-weight: bold\">return</span> x <span style=\"color: #333333\">*</span> y\n",
    "\n",
    "<span style=\"color: #008800; font-weight: bold\">def</span> <span style=\"color: #0066BB; font-weight: bold\">b</span>(z, t):\n",
    "    z <span style=\"color: #333333\">+=</span> <span style=\"color: #0000DD; font-weight: bold\">2</span>\n",
    "    t <span style=\"color: #333333\">=</span> a(z, t)\n",
    "    <span style=\"color: #008800; font-weight: bold\">return</span> z <span style=\"color: #333333\">*</span> t\n",
    "\n",
    "what_am_i <span style=\"color: #333333\">=</span> b(<span style=\"color: #0000DD; font-weight: bold\">0</span>, <span style=\"color: #0000DD; font-weight: bold\">0</span>)\n",
    "<span style=\"color: #008800; font-weight: bold\">print</span>(what_am_i)\n",
    "</pre></div>\n",
    "\n",
    "\n",
    "<hr>''')\n",
    "\n",
    "Q3 = MultipleChoice(\n",
    "    ['1 50 0', '1 0 1', '50 50 0', '50 0 1'], \n",
    "    '1 50 0', \n",
    "    '### 3. What is output by the following code',\n",
    "    '''<!-- HTML generated using hilite.me --><div style=\"background: #ffffff; overflow:auto;width:auto;border:solid gray;border-width:.1em .1em .1em .8em;padding:.2em .6em;\"><pre style=\"margin: 0; line-height: 125%\"><span style=\"color: #008800; font-weight: bold\">def</span> <span style=\"color: #0066BB; font-weight: bold\">a</span>(x, y):\n",
    "    <span style=\"color: #008800; font-weight: bold\">return</span> x <span style=\"color: #333333\">+</span> y\n",
    "\n",
    "<span style=\"color: #008800; font-weight: bold\">def</span> <span style=\"color: #0066BB; font-weight: bold\">b</span>(z, t):\n",
    "    z <span style=\"color: #333333\">=</span> <span style=\"color: #0000DD; font-weight: bold\">0</span>\n",
    "    t <span style=\"color: #333333\">=</span> <span style=\"color: #0000DD; font-weight: bold\">1</span>\n",
    "    <span style=\"color: #008800; font-weight: bold\">return</span> a(z, t)\n",
    "\n",
    "z <span style=\"color: #333333\">=</span> <span style=\"color: #0000DD; font-weight: bold\">50</span>\n",
    "t <span style=\"color: #333333\">=</span> <span style=\"color: #0000DD; font-weight: bold\">0</span>\n",
    "<span style=\"color: #008800; font-weight: bold\">print</span>(b(z, t), z, t)\n",
    "</pre></div>\n",
    "\n",
    "\n",
    "<hr>''')\n",
    "display(Javascript('''google.colab.output.setIframeHeight(0, true, {maxHeight: 5000})'''))\n",
    "display(Q1)\n",
    "display(Q2)\n",
    "display(Q3)"
   ]
  }
 ],
 "metadata": {
  "colab": {
   "authorship_tag": "ABX9TyO5NZGnCkqTFtIMQx93iGnB",
   "collapsed_sections": [],
   "name": "Review.ipynb",
   "provenance": []
  },
  "kernelspec": {
   "display_name": "Python 3 (ipykernel)",
   "language": "python",
   "name": "python3"
  },
  "language_info": {
   "codemirror_mode": {
    "name": "ipython",
    "version": 3
   },
   "file_extension": ".py",
   "mimetype": "text/x-python",
   "name": "python",
   "nbconvert_exporter": "python",
   "pygments_lexer": "ipython3",
   "version": "3.11.9"
  },
  "widgets": {
   "application/vnd.jupyter.widget-state+json": {
    "state": {
     "00c1c019b3ae432cb85352fd096fc938": {
      "model_module": "@jupyter-widgets/base",
      "model_module_version": "2.0.0",
      "model_name": "LayoutModel",
      "state": {}
     },
     "01dac6b34a7948dab15b80c0ba50209d": {
      "model_module": "@jupyter-widgets/base",
      "model_module_version": "2.0.0",
      "model_name": "LayoutModel",
      "state": {}
     },
     "03342937497a4815944974cdd8b5dcef": {
      "model_module": "@jupyter-widgets/base",
      "model_module_version": "2.0.0",
      "model_name": "LayoutModel",
      "state": {}
     },
     "047276e88777401a8cd3a5b933ac0584": {
      "model_module": "@jupyter-widgets/base",
      "model_module_version": "2.0.0",
      "model_name": "LayoutModel",
      "state": {}
     },
     "05360623c6be41cc8ef4426a70251e7a": {
      "model_module": "@jupyter-widgets/base",
      "model_module_version": "2.0.0",
      "model_name": "LayoutModel",
      "state": {}
     },
     "0642242c495b4715adf9b311103f1575": {
      "model_module": "@jupyter-widgets/base",
      "model_module_version": "2.0.0",
      "model_name": "LayoutModel",
      "state": {}
     },
     "0805e973f8c94195bfcc22f9943ca427": {
      "model_module": "@jupyter-widgets/base",
      "model_module_version": "2.0.0",
      "model_name": "LayoutModel",
      "state": {}
     },
     "085853498f1044a3ac6ce86a4a7422ae": {
      "model_module": "@jupyter-widgets/controls",
      "model_module_version": "2.0.0",
      "model_name": "ButtonStyleModel",
      "state": {
       "font_family": null,
       "font_size": null,
       "font_style": null,
       "font_variant": null,
       "font_weight": null,
       "text_color": null,
       "text_decoration": null
      }
     },
     "09ee73bad5364aebb60e0ba114f7ddd0": {
      "model_module": "@jupyter-widgets/base",
      "model_module_version": "2.0.0",
      "model_name": "LayoutModel",
      "state": {}
     },
     "0bd1bfce270744698229b070bd195d2e": {
      "model_module": "@jupyter-widgets/controls",
      "model_module_version": "2.0.0",
      "model_name": "DescriptionStyleModel",
      "state": {
       "description_width": ""
      }
     },
     "0c2eb8047f0845c890d90f471bf4bfdb": {
      "model_module": "@jupyter-widgets/base",
      "model_module_version": "2.0.0",
      "model_name": "LayoutModel",
      "state": {}
     },
     "0d27d03d98b64a1c89007c585826e862": {
      "model_module": "@jupyter-widgets/controls",
      "model_module_version": "2.0.0",
      "model_name": "VBoxModel",
      "state": {
       "children": [
        "IPY_MODEL_1aa929e6995b43e6b8021446c6e2b97a",
        "IPY_MODEL_45965a5b5de449f390596b1d856010ea",
        "IPY_MODEL_92b293c93e7749b5bcaa2dccfcd59e38",
        "IPY_MODEL_104e42fa8fba4094b00a5db69b760b54"
       ],
       "layout": "IPY_MODEL_e1faf2fb099c448cadde82458aa2f6ba"
      }
     },
     "0d581920e06f47e9bc5df9697a6d33eb": {
      "model_module": "@jupyter-widgets/controls",
      "model_module_version": "2.0.0",
      "model_name": "RadioButtonsModel",
      "state": {
       "_options_labels": [
        "0",
        "9",
        "10",
        "11",
        "INFINITE LOOP"
       ],
       "index": 0,
       "layout": "IPY_MODEL_6dc31ee8d8cb4ff3b25a5681b0b640a7",
       "style": "IPY_MODEL_4de8d9b90bed426d85b926268b8e2afe"
      }
     },
     "0d8e81f62ca748c4aae41f020be67c97": {
      "model_module": "@jupyter-widgets/base",
      "model_module_version": "2.0.0",
      "model_name": "LayoutModel",
      "state": {}
     },
     "0e360197cf4f498ca163a1eebac46acc": {
      "model_module": "@jupyter-widgets/controls",
      "model_module_version": "2.0.0",
      "model_name": "DescriptionStyleModel",
      "state": {
       "description_width": ""
      }
     },
     "0f41c29a7052411ca8b390004a3a2118": {
      "model_module": "@jupyter-widgets/base",
      "model_module_version": "2.0.0",
      "model_name": "LayoutModel",
      "state": {}
     },
     "0fb29eff8f264d4e882de0a56fec41c6": {
      "model_module": "@jupyter-widgets/base",
      "model_module_version": "2.0.0",
      "model_name": "LayoutModel",
      "state": {}
     },
     "104daa2ad0b54cbfaffa9d5a12892950": {
      "model_module": "@jupyter-widgets/controls",
      "model_module_version": "2.0.0",
      "model_name": "DescriptionStyleModel",
      "state": {
       "description_width": ""
      }
     },
     "104e42fa8fba4094b00a5db69b760b54": {
      "model_module": "@jupyter-widgets/output",
      "model_module_version": "1.0.0",
      "model_name": "OutputModel",
      "state": {
       "layout": "IPY_MODEL_2bff9486013e4d71a8bbb001a8e38d97"
      }
     },
     "10d7c1fdac0c46f197f36bfbdd6128bb": {
      "model_module": "@jupyter-widgets/base",
      "model_module_version": "2.0.0",
      "model_name": "LayoutModel",
      "state": {}
     },
     "112816a41f874952a7deee047894782e": {
      "model_module": "@jupyter-widgets/base",
      "model_module_version": "2.0.0",
      "model_name": "LayoutModel",
      "state": {}
     },
     "11faad7a4e864cde990a798a05efaac5": {
      "model_module": "@jupyter-widgets/controls",
      "model_module_version": "2.0.0",
      "model_name": "ButtonStyleModel",
      "state": {
       "font_family": null,
       "font_size": null,
       "font_style": null,
       "font_variant": null,
       "font_weight": null,
       "text_color": null,
       "text_decoration": null
      }
     },
     "12265b4c90c54ff388347a0bd1b30589": {
      "model_module": "@jupyter-widgets/output",
      "model_module_version": "1.0.0",
      "model_name": "OutputModel",
      "state": {
       "layout": "IPY_MODEL_354dd96923484067ba150c660369e848",
       "outputs": [
        {
         "data": {
          "text/markdown": "### 3. What is output by the following code",
          "text/plain": "<IPython.core.display.Markdown object>"
         },
         "metadata": {},
         "output_type": "display_data"
        },
        {
         "data": {
          "text/html": "<!-- HTML generated using hilite.me --><div style=\"background: #ffffff; overflow:auto;width:auto;border:solid gray;border-width:.1em .1em .1em .8em;padding:.2em .6em;\"><pre style=\"margin: 0; line-height: 125%\"><span style=\"color: #008800; font-weight: bold\">def</span> <span style=\"color: #0066BB; font-weight: bold\">a</span>(x, y):\n    <span style=\"color: #008800; font-weight: bold\">return</span> x <span style=\"color: #333333\">+</span> y\n\n<span style=\"color: #008800; font-weight: bold\">def</span> <span style=\"color: #0066BB; font-weight: bold\">b</span>(z, t):\n    z <span style=\"color: #333333\">=</span> <span style=\"color: #0000DD; font-weight: bold\">0</span>\n    t <span style=\"color: #333333\">=</span> <span style=\"color: #0000DD; font-weight: bold\">1</span>\n    <span style=\"color: #008800; font-weight: bold\">return</span> a(z, t)\n\nz <span style=\"color: #333333\">=</span> <span style=\"color: #0000DD; font-weight: bold\">50</span>\nt <span style=\"color: #333333\">=</span> <span style=\"color: #0000DD; font-weight: bold\">0</span>\n<span style=\"color: #008800; font-weight: bold\">print</span>(b(z, t), z, t)\n</pre></div>\n\n\n<hr>",
          "text/plain": "<IPython.core.display.HTML object>"
         },
         "metadata": {},
         "output_type": "display_data"
        }
       ]
      }
     },
     "13074eee7c80463989e04d696b27c70f": {
      "model_module": "@jupyter-widgets/output",
      "model_module_version": "1.0.0",
      "model_name": "OutputModel",
      "state": {
       "layout": "IPY_MODEL_b6a7b52d830045a2a913c2263fb16c9b"
      }
     },
     "14e019bbca074d908b7776d40b9f46a5": {
      "model_module": "@jupyter-widgets/output",
      "model_module_version": "1.0.0",
      "model_name": "OutputModel",
      "state": {
       "layout": "IPY_MODEL_8d97b1814ff240c5a03fc83820adef0c"
      }
     },
     "14f617ed20124d849f4a199161be2d7a": {
      "model_module": "@jupyter-widgets/output",
      "model_module_version": "1.0.0",
      "model_name": "OutputModel",
      "state": {
       "layout": "IPY_MODEL_cb86c0912257481cae47feae002a76b5"
      }
     },
     "14f8fbb0a2da4b84aa9884cdd00d1707": {
      "model_module": "@jupyter-widgets/base",
      "model_module_version": "2.0.0",
      "model_name": "LayoutModel",
      "state": {}
     },
     "150e7d1130d54f22924ee40eac831dd5": {
      "model_module": "@jupyter-widgets/base",
      "model_module_version": "2.0.0",
      "model_name": "LayoutModel",
      "state": {}
     },
     "154c833e5360418b949862f1478e6148": {
      "model_module": "@jupyter-widgets/controls",
      "model_module_version": "2.0.0",
      "model_name": "DescriptionStyleModel",
      "state": {
       "description_width": ""
      }
     },
     "16082c7707f14c859673252daa6cbe20": {
      "model_module": "@jupyter-widgets/controls",
      "model_module_version": "2.0.0",
      "model_name": "DescriptionStyleModel",
      "state": {
       "description_width": ""
      }
     },
     "1676207981c14856b04f74b777187925": {
      "model_module": "@jupyter-widgets/controls",
      "model_module_version": "2.0.0",
      "model_name": "VBoxModel",
      "state": {
       "children": [
        "IPY_MODEL_44efbbc1d25e49d9b48847c3c4dcb909",
        "IPY_MODEL_6c5dd721f80a4daaace976fde9b80874",
        "IPY_MODEL_212f863adc784e8c934390ba3f2567e6",
        "IPY_MODEL_b6931828f45944abb5fac881bfdda6da"
       ],
       "layout": "IPY_MODEL_5ab1a2d330874617a5da4f1256e05dc8"
      }
     },
     "17cc0bf687b64391bd08da3722da9f99": {
      "model_module": "@jupyter-widgets/base",
      "model_module_version": "2.0.0",
      "model_name": "LayoutModel",
      "state": {}
     },
     "181053bfaec74dfcbdee251369096212": {
      "model_module": "@jupyter-widgets/controls",
      "model_module_version": "2.0.0",
      "model_name": "DescriptionStyleModel",
      "state": {
       "description_width": ""
      }
     },
     "19cecb18e8ec43a2b185f7fffddcc495": {
      "model_module": "@jupyter-widgets/output",
      "model_module_version": "1.0.0",
      "model_name": "OutputModel",
      "state": {
       "layout": "IPY_MODEL_3708aceaa4f048108cd5c3353db0e589"
      }
     },
     "1a30c3e866aa44929e79b11de252b388": {
      "model_module": "@jupyter-widgets/controls",
      "model_module_version": "2.0.0",
      "model_name": "ButtonModel",
      "state": {
       "description": "submit",
       "layout": "IPY_MODEL_5c257cbd994a492694191a2898c8c03c",
       "style": "IPY_MODEL_11faad7a4e864cde990a798a05efaac5",
       "tooltip": null
      }
     },
     "1aa929e6995b43e6b8021446c6e2b97a": {
      "model_module": "@jupyter-widgets/output",
      "model_module_version": "1.0.0",
      "model_name": "OutputModel",
      "state": {
       "layout": "IPY_MODEL_55a60cf37c164907841038f367618e2d",
       "outputs": [
        {
         "data": {
          "text/markdown": "### 7. What is output by the following code",
          "text/plain": "<IPython.core.display.Markdown object>"
         },
         "metadata": {},
         "output_type": "display_data"
        },
        {
         "data": {
          "text/html": "<!-- HTML generated using hilite.me --><div style=\"background: #ffffff; overflow:auto;width:auto;border:solid gray;border-width:.1em .1em .1em .8em;padding:.2em .6em;\"><pre style=\"margin: 0; line-height: 125%\">f <span style=\"color: #333333\">=</span> <span style=\"color: #0000DD; font-weight: bold\">9</span> <span style=\"color: #333333\">%</span> <span style=\"color: #333333\">-</span><span style=\"color: #0000DD; font-weight: bold\">4</span>\ng <span style=\"color: #333333\">=</span> <span style=\"color: #333333\">-</span><span style=\"color: #0000DD; font-weight: bold\">7</span> <span style=\"color: #333333\">%</span> <span style=\"color: #0000DD; font-weight: bold\">13</span>\n<span style=\"color: #008800; font-weight: bold\">print</span>(f, g)\n</pre></div>\n\n<hr>",
          "text/plain": "<IPython.core.display.HTML object>"
         },
         "metadata": {},
         "output_type": "display_data"
        }
       ]
      }
     },
     "1b3efd38ed0447f286b669017bcbb69d": {
      "model_module": "@jupyter-widgets/base",
      "model_module_version": "2.0.0",
      "model_name": "LayoutModel",
      "state": {}
     },
     "1b4b8e97ca0849c7a9534a1d238d0a59": {
      "model_module": "@jupyter-widgets/controls",
      "model_module_version": "2.0.0",
      "model_name": "VBoxModel",
      "state": {
       "children": [
        "IPY_MODEL_d67c9a1411fc4bb19e34b0ca89356c84",
        "IPY_MODEL_f9b0c87e5b354169b2fc827ca311d300",
        "IPY_MODEL_af623e41cfa641a6952ddffeea905ac0",
        "IPY_MODEL_f8d2a5dd98e340678cb4ac87c386aaeb"
       ],
       "layout": "IPY_MODEL_afd2e8a919c143fab893fe417a382e77"
      }
     },
     "1c5aaf13f0e04976bd4a580a4a682410": {
      "model_module": "@jupyter-widgets/output",
      "model_module_version": "1.0.0",
      "model_name": "OutputModel",
      "state": {
       "layout": "IPY_MODEL_c847e6f6b33a443483696102eefbd0a2",
       "outputs": [
        {
         "data": {
          "text/markdown": "### 3. What is output by the following code",
          "text/plain": "<IPython.core.display.Markdown object>"
         },
         "metadata": {},
         "output_type": "display_data"
        },
        {
         "data": {
          "text/html": "<!-- HTML generated using hilite.me --><div style=\"background: #ffffff; overflow:auto;width:auto;border:solid gray;border-width:.1em .1em .1em .8em;padding:.2em .6em;\"><pre style=\"margin: 0; line-height: 125%\">what_am_i <span style=\"color: #333333\">=</span> <span style=\"color: #0000DD; font-weight: bold\">0</span>\n<span style=\"color: #008800; font-weight: bold\">for</span> i <span style=\"color: #000000; font-weight: bold\">in</span> <span style=\"color: #007020\">range</span>(<span style=\"color: #0000DD; font-weight: bold\">50</span>):\n    what_am_i <span style=\"color: #333333\">=</span> i\n<span style=\"color: #008800; font-weight: bold\">print</span>(what_am_i)\n</pre></div>\n\n<hr>",
          "text/plain": "<IPython.core.display.HTML object>"
         },
         "metadata": {},
         "output_type": "display_data"
        }
       ]
      }
     },
     "1ccbd675ea994a0289cbe0732e57b0b5": {
      "model_module": "@jupyter-widgets/controls",
      "model_module_version": "2.0.0",
      "model_name": "ButtonModel",
      "state": {
       "description": "submit",
       "layout": "IPY_MODEL_00c1c019b3ae432cb85352fd096fc938",
       "style": "IPY_MODEL_6d0aedc4152e49d7ae1845a930ec0e8c",
       "tooltip": null
      }
     },
     "1d6d3f0dbca8403a84a47264b582be6c": {
      "model_module": "@jupyter-widgets/controls",
      "model_module_version": "2.0.0",
      "model_name": "RadioButtonsModel",
      "state": {
       "_options_labels": [
        "10",
        "8",
        "1",
        "2",
        "5"
       ],
       "index": 0,
       "layout": "IPY_MODEL_95e640b9635c4b988ae0803172e70451",
       "style": "IPY_MODEL_0e360197cf4f498ca163a1eebac46acc"
      }
     },
     "1db752af17ea491c8d373ebd1621387e": {
      "model_module": "@jupyter-widgets/controls",
      "model_module_version": "2.0.0",
      "model_name": "RadioButtonsModel",
      "state": {
       "_options_labels": [
        "50",
        "0",
        "Impossible to Determine",
        "1"
       ],
       "index": 0,
       "layout": "IPY_MODEL_a2b55ac920ed45338423982c203244d8",
       "style": "IPY_MODEL_ff85be7fc12e40cba2987f4f0da1fef2"
      }
     },
     "1fc143fd10f6476586cd7043e4ec63d1": {
      "model_module": "@jupyter-widgets/controls",
      "model_module_version": "2.0.0",
      "model_name": "ButtonModel",
      "state": {
       "description": "submit",
       "layout": "IPY_MODEL_450258281fde4b6892a4fbefa2a5cf5b",
       "style": "IPY_MODEL_35528131c5c246dfa3ef7ee71336e178",
       "tooltip": null
      }
     },
     "1fc21eb73ecf494685e5ce5b4da1cc6e": {
      "model_module": "@jupyter-widgets/controls",
      "model_module_version": "2.0.0",
      "model_name": "RadioButtonsModel",
      "state": {
       "_options_labels": [
        "52.0 999.0",
        "52.0 1000.0",
        "52 999",
        "52 1000"
       ],
       "index": 0,
       "layout": "IPY_MODEL_fa8e5331ad7244e092efe39c60175f8f",
       "style": "IPY_MODEL_875d161ca19e43f9806f9136e43ef831"
      }
     },
     "2071a6966d0a4963b1752a503149f125": {
      "model_module": "@jupyter-widgets/output",
      "model_module_version": "1.0.0",
      "model_name": "OutputModel",
      "state": {
       "layout": "IPY_MODEL_17cc0bf687b64391bd08da3722da9f99",
       "outputs": [
        {
         "data": {
          "text/markdown": "### 1. What is output by the following code",
          "text/plain": "<IPython.core.display.Markdown object>"
         },
         "metadata": {},
         "output_type": "display_data"
        },
        {
         "data": {
          "text/html": "<!-- HTML generated using hilite.me --><div style=\"background: #ffffff; overflow:auto;width:auto;border:solid gray;border-width:.1em .1em .1em .8em;padding:.2em .6em;\"><pre style=\"margin: 0; line-height: 125%\">x <span style=\"color: #333333\">=</span> <span style=\"color: #007020\">eval</span>(<span style=\"background-color: #fff0f0\">&#39;4&#39;</span>)\ny <span style=\"color: #333333\">=</span> <span style=\"color: #007020\">int</span>(<span style=\"background-color: #fff0f0\">&#39;-23&#39;</span>)\n<span style=\"color: #008800; font-weight: bold\">print</span>(y, x)\n</pre></div>\n\n<hr>",
          "text/plain": "<IPython.core.display.HTML object>"
         },
         "metadata": {},
         "output_type": "display_data"
        }
       ]
      }
     },
     "207e2549b85c447ca530008b9938e67e": {
      "model_module": "@jupyter-widgets/base",
      "model_module_version": "2.0.0",
      "model_name": "LayoutModel",
      "state": {}
     },
     "2101766e342f45c7a806494d9c4e4bde": {
      "model_module": "@jupyter-widgets/controls",
      "model_module_version": "2.0.0",
      "model_name": "DescriptionStyleModel",
      "state": {
       "description_width": ""
      }
     },
     "212f863adc784e8c934390ba3f2567e6": {
      "model_module": "@jupyter-widgets/controls",
      "model_module_version": "2.0.0",
      "model_name": "ButtonModel",
      "state": {
       "description": "submit",
       "layout": "IPY_MODEL_9033e6b7a5544938bb8a94b2594f79b7",
       "style": "IPY_MODEL_36b89aa036a040519d2cd2a40860446b",
       "tooltip": null
      }
     },
     "22bdea06a2414dea8d417229948ae98c": {
      "model_module": "@jupyter-widgets/controls",
      "model_module_version": "2.0.0",
      "model_name": "ButtonStyleModel",
      "state": {
       "font_family": null,
       "font_size": null,
       "font_style": null,
       "font_variant": null,
       "font_weight": null,
       "text_color": null,
       "text_decoration": null
      }
     },
     "22e8b53513c24fb8b583ba570ceeb2aa": {
      "model_module": "@jupyter-widgets/output",
      "model_module_version": "1.0.0",
      "model_name": "OutputModel",
      "state": {
       "layout": "IPY_MODEL_8d8ee1accb67400b8cf1b1deb434aab0"
      }
     },
     "231c79ce8d5e43f79cbcaa9527a1067a": {
      "model_module": "@jupyter-widgets/controls",
      "model_module_version": "2.0.0",
      "model_name": "ButtonStyleModel",
      "state": {
       "font_family": null,
       "font_size": null,
       "font_style": null,
       "font_variant": null,
       "font_weight": null,
       "text_color": null,
       "text_decoration": null
      }
     },
     "248290c8a91a4ea0a1831a04a752791a": {
      "model_module": "@jupyter-widgets/base",
      "model_module_version": "2.0.0",
      "model_name": "LayoutModel",
      "state": {}
     },
     "25b8eaf3f8ca423c9e6635c189071152": {
      "model_module": "@jupyter-widgets/controls",
      "model_module_version": "2.0.0",
      "model_name": "RadioButtonsModel",
      "state": {
       "_options_labels": [
        "23 -4",
        "4 -23",
        "SYNTAX ERROR",
        "-23 4",
        "RUNTIME ERROR"
       ],
       "index": 0,
       "layout": "IPY_MODEL_791ef781d7c4435eb4f936343b7b7182",
       "style": "IPY_MODEL_f0a393cd6e664537880860cf0c75c567"
      }
     },
     "2617df38df724b38937b83bf48cfc448": {
      "model_module": "@jupyter-widgets/controls",
      "model_module_version": "2.0.0",
      "model_name": "RadioButtonsModel",
      "state": {
       "_options_labels": [
        "20",
        "1",
        "0",
        "INFINITE LOOP"
       ],
       "index": 0,
       "layout": "IPY_MODEL_8bf32d73adad4e2bbf7eca8c0a62bf4d",
       "style": "IPY_MODEL_42bcc6bfbf1a43b0830685248f88d44a"
      }
     },
     "269e43a0d7fe41f9882f70b16410e91b": {
      "model_module": "@jupyter-widgets/output",
      "model_module_version": "1.0.0",
      "model_name": "OutputModel",
      "state": {
       "layout": "IPY_MODEL_0642242c495b4715adf9b311103f1575"
      }
     },
     "27148cb3dd0945a2ba0b6244b1862d3c": {
      "model_module": "@jupyter-widgets/controls",
      "model_module_version": "2.0.0",
      "model_name": "ButtonStyleModel",
      "state": {
       "font_family": null,
       "font_size": null,
       "font_style": null,
       "font_variant": null,
       "font_weight": null,
       "text_color": null,
       "text_decoration": null
      }
     },
     "2bfbbc061a7044cfa2d7d73b206b6e59": {
      "model_module": "@jupyter-widgets/base",
      "model_module_version": "2.0.0",
      "model_name": "LayoutModel",
      "state": {}
     },
     "2bff9486013e4d71a8bbb001a8e38d97": {
      "model_module": "@jupyter-widgets/base",
      "model_module_version": "2.0.0",
      "model_name": "LayoutModel",
      "state": {}
     },
     "2c8b430378f04f1c8d86f6fc1eda3c41": {
      "model_module": "@jupyter-widgets/controls",
      "model_module_version": "2.0.0",
      "model_name": "VBoxModel",
      "state": {
       "children": [
        "IPY_MODEL_510143f2de784948b66232134345728c",
        "IPY_MODEL_f201bd711c294aa4adbadc45c38fbdd0",
        "IPY_MODEL_ace90592de114785a25f0a13109965e6",
        "IPY_MODEL_14e019bbca074d908b7776d40b9f46a5"
       ],
       "layout": "IPY_MODEL_dbb6eecf673844e58f52b30188dc5c83"
      }
     },
     "2ce63312d001472082fbb893a3f49188": {
      "model_module": "@jupyter-widgets/base",
      "model_module_version": "2.0.0",
      "model_name": "LayoutModel",
      "state": {}
     },
     "2d41bfb788c34bc69394abc1b186ca17": {
      "model_module": "@jupyter-widgets/base",
      "model_module_version": "2.0.0",
      "model_name": "LayoutModel",
      "state": {}
     },
     "2dde45b1d1354cd4870257a27ce9c738": {
      "model_module": "@jupyter-widgets/controls",
      "model_module_version": "2.0.0",
      "model_name": "ButtonModel",
      "state": {
       "description": "submit",
       "layout": "IPY_MODEL_5816e34280d14855a69f4e7a5384b3d8",
       "style": "IPY_MODEL_c38d1a3c2bbf476fa697e288601dd64e",
       "tooltip": null
      }
     },
     "2de5daa0717c483d8f68dd8071b6c9ad": {
      "model_module": "@jupyter-widgets/base",
      "model_module_version": "2.0.0",
      "model_name": "LayoutModel",
      "state": {}
     },
     "2e22678826474ec5982d5e1db4d5b94c": {
      "model_module": "@jupyter-widgets/base",
      "model_module_version": "2.0.0",
      "model_name": "LayoutModel",
      "state": {}
     },
     "2f292b2df9754d24a23db094da4f2e57": {
      "model_module": "@jupyter-widgets/base",
      "model_module_version": "2.0.0",
      "model_name": "LayoutModel",
      "state": {}
     },
     "308c9c2a2e864f6cb09392a9e98adaba": {
      "model_module": "@jupyter-widgets/base",
      "model_module_version": "2.0.0",
      "model_name": "LayoutModel",
      "state": {}
     },
     "30e849a2b3d9415ab10a55646dce18d4": {
      "model_module": "@jupyter-widgets/controls",
      "model_module_version": "2.0.0",
      "model_name": "VBoxModel",
      "state": {
       "children": [
        "IPY_MODEL_7b8ea719d9304f9aa0fb38ac14569505",
        "IPY_MODEL_0d581920e06f47e9bc5df9697a6d33eb",
        "IPY_MODEL_f1b397e553de432b87667828473b27c1",
        "IPY_MODEL_757467be38fc416fa5d8d40de744bd5b"
       ],
       "layout": "IPY_MODEL_aea52b7bcc4f45eabc37cb896ba3c25e"
      }
     },
     "30f912fef3fd4f1bb5c3edb37ebbd76f": {
      "model_module": "@jupyter-widgets/controls",
      "model_module_version": "2.0.0",
      "model_name": "RadioButtonsModel",
      "state": {
       "_options_labels": [
        "2.0 0.0",
        "2.0 2",
        "2.0 2.0",
        "2 2",
        "2 0"
       ],
       "index": 0,
       "layout": "IPY_MODEL_de446a91380643c28b1eb356d8e8d1c7",
       "style": "IPY_MODEL_181053bfaec74dfcbdee251369096212"
      }
     },
     "30faf9f8940a485cb3043c2e67dd865b": {
      "model_module": "@jupyter-widgets/controls",
      "model_module_version": "2.0.0",
      "model_name": "DescriptionStyleModel",
      "state": {
       "description_width": ""
      }
     },
     "313720590fae431aaf717287bc8ad733": {
      "model_module": "@jupyter-widgets/controls",
      "model_module_version": "2.0.0",
      "model_name": "ButtonModel",
      "state": {
       "description": "submit",
       "layout": "IPY_MODEL_a4c23bc327c94e409132d5b96a150e99",
       "style": "IPY_MODEL_8491fc42c5d84434ba17b8c2c6225b0c",
       "tooltip": null
      }
     },
     "3201f8cebf884e558dd4185ee89c2b25": {
      "model_module": "@jupyter-widgets/controls",
      "model_module_version": "2.0.0",
      "model_name": "VBoxModel",
      "state": {
       "children": [
        "IPY_MODEL_1c5aaf13f0e04976bd4a580a4a682410",
        "IPY_MODEL_f4f2cbb77c044f1796fb3309dd0fd76e",
        "IPY_MODEL_8f12a534aee541b19dee02cbcf96e23e",
        "IPY_MODEL_8b7c8f934ab04110a584097806d44285"
       ],
       "layout": "IPY_MODEL_5c122cb46b6f49a2badee9fa079a0551"
      }
     },
     "329f40599cc943e8886a61359035d5fd": {
      "model_module": "@jupyter-widgets/output",
      "model_module_version": "1.0.0",
      "model_name": "OutputModel",
      "state": {
       "layout": "IPY_MODEL_b7a40c9110f74e27b6a54743059ef277",
       "outputs": [
        {
         "data": {
          "text/markdown": "### 2. What is output by the following code",
          "text/plain": "<IPython.core.display.Markdown object>"
         },
         "metadata": {},
         "output_type": "display_data"
        },
        {
         "data": {
          "text/html": "<!-- HTML generated using hilite.me --><div style=\"background: #ffffff; overflow:auto;width:auto;border:solid gray;border-width:.1em .1em .1em .8em;padding:.2em .6em;\"><pre style=\"margin: 0; line-height: 125%\"><span style=\"color: #008800; font-weight: bold\">def</span> <span style=\"color: #0066BB; font-weight: bold\">a</span>(x, y):\n    x <span style=\"color: #333333\">=</span> <span style=\"color: #0000DD; font-weight: bold\">3</span>\n    y <span style=\"color: #333333\">=</span> <span style=\"color: #0000DD; font-weight: bold\">3</span>\n    <span style=\"color: #008800; font-weight: bold\">return</span> x <span style=\"color: #333333\">*</span> y\n\n<span style=\"color: #008800; font-weight: bold\">def</span> <span style=\"color: #0066BB; font-weight: bold\">b</span>(z, t):\n    z <span style=\"color: #333333\">+=</span> <span style=\"color: #0000DD; font-weight: bold\">2</span>\n    t <span style=\"color: #333333\">=</span> a(z, t)\n    <span style=\"color: #008800; font-weight: bold\">return</span> z <span style=\"color: #333333\">*</span> t\n\nwhat_am_i <span style=\"color: #333333\">=</span> b(<span style=\"color: #0000DD; font-weight: bold\">0</span>, <span style=\"color: #0000DD; font-weight: bold\">0</span>)\n<span style=\"color: #008800; font-weight: bold\">print</span>(what_am_i)\n</pre></div>\n\n\n<hr>",
          "text/plain": "<IPython.core.display.HTML object>"
         },
         "metadata": {},
         "output_type": "display_data"
        }
       ]
      }
     },
     "34338cebf4954c1dac98ad8b5fa71429": {
      "model_module": "@jupyter-widgets/base",
      "model_module_version": "2.0.0",
      "model_name": "LayoutModel",
      "state": {}
     },
     "351f6b589b9c4205bbab2c4f5122bdfa": {
      "model_module": "@jupyter-widgets/base",
      "model_module_version": "2.0.0",
      "model_name": "LayoutModel",
      "state": {}
     },
     "354dd96923484067ba150c660369e848": {
      "model_module": "@jupyter-widgets/base",
      "model_module_version": "2.0.0",
      "model_name": "LayoutModel",
      "state": {}
     },
     "35528131c5c246dfa3ef7ee71336e178": {
      "model_module": "@jupyter-widgets/controls",
      "model_module_version": "2.0.0",
      "model_name": "ButtonStyleModel",
      "state": {
       "font_family": null,
       "font_size": null,
       "font_style": null,
       "font_variant": null,
       "font_weight": null,
       "text_color": null,
       "text_decoration": null
      }
     },
     "3615533dff0f41648c9b5581c0b41e38": {
      "model_module": "@jupyter-widgets/controls",
      "model_module_version": "2.0.0",
      "model_name": "VBoxModel",
      "state": {
       "children": [
        "IPY_MODEL_6dad15a37c9a4d828533c1c47cb3a25f",
        "IPY_MODEL_30f912fef3fd4f1bb5c3edb37ebbd76f",
        "IPY_MODEL_ff0847fe4d6f46ccb4763da93dfebbdb",
        "IPY_MODEL_9576b9cf06124272bae75840018e2c4c"
       ],
       "layout": "IPY_MODEL_963dc50368b848298a9daefdbd22af50"
      }
     },
     "36b89aa036a040519d2cd2a40860446b": {
      "model_module": "@jupyter-widgets/controls",
      "model_module_version": "2.0.0",
      "model_name": "ButtonStyleModel",
      "state": {
       "font_family": null,
       "font_size": null,
       "font_style": null,
       "font_variant": null,
       "font_weight": null,
       "text_color": null,
       "text_decoration": null
      }
     },
     "3708aceaa4f048108cd5c3353db0e589": {
      "model_module": "@jupyter-widgets/base",
      "model_module_version": "2.0.0",
      "model_name": "LayoutModel",
      "state": {}
     },
     "370aa57c66a04b7b937730a3e11547e5": {
      "model_module": "@jupyter-widgets/output",
      "model_module_version": "1.0.0",
      "model_name": "OutputModel",
      "state": {
       "layout": "IPY_MODEL_f22f244184c745a78c71264a94272319",
       "outputs": [
        {
         "data": {
          "text/markdown": "### 5. What is output by the following code",
          "text/plain": "<IPython.core.display.Markdown object>"
         },
         "metadata": {},
         "output_type": "display_data"
        },
        {
         "data": {
          "text/html": "<!-- HTML generated using hilite.me --><div style=\"background: #ffffff; overflow:auto;width:auto;border:solid gray;border-width:.1em .1em .1em .8em;padding:.2em .6em;\"><pre style=\"margin: 0; line-height: 125%\">count <span style=\"color: #333333\">=</span> <span style=\"color: #0000DD; font-weight: bold\">0</span>\n<span style=\"color: #008800; font-weight: bold\">for</span> i <span style=\"color: #000000; font-weight: bold\">in</span> <span style=\"color: #007020\">range</span>(<span style=\"color: #0000DD; font-weight: bold\">3</span>, <span style=\"color: #0000DD; font-weight: bold\">15</span>, <span style=\"color: #0000DD; font-weight: bold\">3</span>):\n    count <span style=\"color: #333333\">+=</span> <span style=\"color: #0000DD; font-weight: bold\">1</span>\n<span style=\"color: #008800; font-weight: bold\">print</span>(count)\n</pre></div>\n\n<hr>",
          "text/plain": "<IPython.core.display.HTML object>"
         },
         "metadata": {},
         "output_type": "display_data"
        }
       ]
      }
     },
     "390d191b2c444c42a0a2e3224f7054fa": {
      "model_module": "@jupyter-widgets/controls",
      "model_module_version": "2.0.0",
      "model_name": "DescriptionStyleModel",
      "state": {
       "description_width": ""
      }
     },
     "3bb6b790ba43438a904e4db9ddf2a700": {
      "model_module": "@jupyter-widgets/controls",
      "model_module_version": "2.0.0",
      "model_name": "ButtonModel",
      "state": {
       "description": "submit",
       "layout": "IPY_MODEL_2d41bfb788c34bc69394abc1b186ca17",
       "style": "IPY_MODEL_085853498f1044a3ac6ce86a4a7422ae",
       "tooltip": null
      }
     },
     "3c0ca23b3740458793154b9a2f562044": {
      "model_module": "@jupyter-widgets/base",
      "model_module_version": "2.0.0",
      "model_name": "LayoutModel",
      "state": {}
     },
     "3ee258f35568420aa6de1db365b44fa8": {
      "model_module": "@jupyter-widgets/base",
      "model_module_version": "2.0.0",
      "model_name": "LayoutModel",
      "state": {}
     },
     "4016a10907ed44daace05faca14d991c": {
      "model_module": "@jupyter-widgets/controls",
      "model_module_version": "2.0.0",
      "model_name": "RadioButtonsModel",
      "state": {
       "_options_labels": [
        "20",
        "2",
        "0",
        "1024"
       ],
       "index": 0,
       "layout": "IPY_MODEL_4b40b54f61ef46a3a3d85a5eddb082a1",
       "style": "IPY_MODEL_bbaf852bd62844c7bbbe55a1f3c86441"
      }
     },
     "40d4267911b749b9936681a740d32191": {
      "model_module": "@jupyter-widgets/base",
      "model_module_version": "2.0.0",
      "model_name": "LayoutModel",
      "state": {}
     },
     "42bcc6bfbf1a43b0830685248f88d44a": {
      "model_module": "@jupyter-widgets/controls",
      "model_module_version": "2.0.0",
      "model_name": "DescriptionStyleModel",
      "state": {
       "description_width": ""
      }
     },
     "445b7802ee4448c6abb5f2aa4ae00f6d": {
      "model_module": "@jupyter-widgets/base",
      "model_module_version": "2.0.0",
      "model_name": "LayoutModel",
      "state": {}
     },
     "446ab96af5a84144b90aa7d427327963": {
      "model_module": "@jupyter-widgets/controls",
      "model_module_version": "2.0.0",
      "model_name": "DescriptionStyleModel",
      "state": {
       "description_width": ""
      }
     },
     "44efbbc1d25e49d9b48847c3c4dcb909": {
      "model_module": "@jupyter-widgets/output",
      "model_module_version": "1.0.0",
      "model_name": "OutputModel",
      "state": {
       "layout": "IPY_MODEL_047276e88777401a8cd3a5b933ac0584",
       "outputs": [
        {
         "data": {
          "text/markdown": "### 1. What is output by the following code",
          "text/plain": "<IPython.core.display.Markdown object>"
         },
         "metadata": {},
         "output_type": "display_data"
        },
        {
         "data": {
          "text/html": "<!-- HTML generated using hilite.me --><div style=\"background: #ffffff; overflow:auto;width:auto;border:solid gray;border-width:.1em .1em .1em .8em;padding:.2em .6em;\"><pre style=\"margin: 0; line-height: 125%\">x <span style=\"color: #333333\">=</span> <span style=\"color: #0000DD; font-weight: bold\">2</span>\ny <span style=\"color: #333333\">=</span> <span style=\"color: #0000DD; font-weight: bold\">4</span>\nz <span style=\"color: #333333\">=</span> <span style=\"color: #0000DD; font-weight: bold\">9</span>\n<span style=\"color: #008800; font-weight: bold\">if</span> x <span style=\"color: #333333\">&lt;=</span> <span style=\"color: #0000DD; font-weight: bold\">2</span> <span style=\"color: #000000; font-weight: bold\">and</span> y <span style=\"color: #333333\">&gt;</span> <span style=\"color: #0000DD; font-weight: bold\">4</span>:\n    <span style=\"color: #008800; font-weight: bold\">print</span>(<span style=\"background-color: #fff0f0\">&#39;case1&#39;</span>)\n<span style=\"color: #008800; font-weight: bold\">elif</span> z <span style=\"color: #333333\">&lt;</span> <span style=\"color: #0000DD; font-weight: bold\">9</span> <span style=\"color: #000000; font-weight: bold\">or</span> x <span style=\"color: #333333\">&gt;=</span> <span style=\"color: #0000DD; font-weight: bold\">2</span>:\n    <span style=\"color: #008800; font-weight: bold\">print</span>(<span style=\"background-color: #fff0f0\">&#39;case2&#39;</span>)\n<span style=\"color: #008800; font-weight: bold\">else</span>:\n    <span style=\"color: #008800; font-weight: bold\">print</span>(<span style=\"background-color: #fff0f0\">&#39;case3&#39;</span>)\n</pre></div>\n\n<hr>",
          "text/plain": "<IPython.core.display.HTML object>"
         },
         "metadata": {},
         "output_type": "display_data"
        }
       ]
      }
     },
     "450258281fde4b6892a4fbefa2a5cf5b": {
      "model_module": "@jupyter-widgets/base",
      "model_module_version": "2.0.0",
      "model_name": "LayoutModel",
      "state": {}
     },
     "45965a5b5de449f390596b1d856010ea": {
      "model_module": "@jupyter-widgets/controls",
      "model_module_version": "2.0.0",
      "model_name": "RadioButtonsModel",
      "state": {
       "_options_labels": [
        "-3 -6",
        "-1 -7",
        "1 -7",
        "-3 6"
       ],
       "index": 0,
       "layout": "IPY_MODEL_6a9da3d88650415b841f6d03691a21fa",
       "style": "IPY_MODEL_aa04ca73b05642e184923bbb814f0217"
      }
     },
     "45bb0e91d66c4b58b8d2735acada7c46": {
      "model_module": "@jupyter-widgets/base",
      "model_module_version": "2.0.0",
      "model_name": "LayoutModel",
      "state": {}
     },
     "46f126621c70433d8286ac8f55718943": {
      "model_module": "@jupyter-widgets/base",
      "model_module_version": "2.0.0",
      "model_name": "LayoutModel",
      "state": {}
     },
     "471bf4e9587a4d51a002a51f9a94406a": {
      "model_module": "@jupyter-widgets/base",
      "model_module_version": "2.0.0",
      "model_name": "LayoutModel",
      "state": {}
     },
     "47b28583550f4067b98c3ddd52956c94": {
      "model_module": "@jupyter-widgets/base",
      "model_module_version": "2.0.0",
      "model_name": "LayoutModel",
      "state": {}
     },
     "4abf6e22879249059787063b469786c6": {
      "model_module": "@jupyter-widgets/controls",
      "model_module_version": "2.0.0",
      "model_name": "VBoxModel",
      "state": {
       "children": [
        "IPY_MODEL_9200d48a2ac74766a155829cfca5cb41",
        "IPY_MODEL_e8a6ae3ce36345f5a851f6670e543be3",
        "IPY_MODEL_1a30c3e866aa44929e79b11de252b388",
        "IPY_MODEL_bd6a6bf11dac4ce2b57f5c52600bca95"
       ],
       "layout": "IPY_MODEL_4c65584b66b1482a8a76e4a20fa78be5"
      }
     },
     "4b40b54f61ef46a3a3d85a5eddb082a1": {
      "model_module": "@jupyter-widgets/base",
      "model_module_version": "2.0.0",
      "model_name": "LayoutModel",
      "state": {}
     },
     "4bfe396633c2481db09c30695b6fe816": {
      "model_module": "@jupyter-widgets/controls",
      "model_module_version": "2.0.0",
      "model_name": "ButtonModel",
      "state": {
       "description": "submit",
       "layout": "IPY_MODEL_e772a6c65b0c4be1932d32ff084388a3",
       "style": "IPY_MODEL_57f866cce5474c5abfcb6b5edcb45318",
       "tooltip": null
      }
     },
     "4c65584b66b1482a8a76e4a20fa78be5": {
      "model_module": "@jupyter-widgets/base",
      "model_module_version": "2.0.0",
      "model_name": "LayoutModel",
      "state": {}
     },
     "4c92badab8bb48a18b1786aeb666a5f8": {
      "model_module": "@jupyter-widgets/base",
      "model_module_version": "2.0.0",
      "model_name": "LayoutModel",
      "state": {}
     },
     "4d59ef0779e543b19edf6d40bcec8f43": {
      "model_module": "@jupyter-widgets/output",
      "model_module_version": "1.0.0",
      "model_name": "OutputModel",
      "state": {
       "layout": "IPY_MODEL_68f727ba118046819be9879d8b4660fe"
      }
     },
     "4de8d9b90bed426d85b926268b8e2afe": {
      "model_module": "@jupyter-widgets/controls",
      "model_module_version": "2.0.0",
      "model_name": "DescriptionStyleModel",
      "state": {
       "description_width": ""
      }
     },
     "510143f2de784948b66232134345728c": {
      "model_module": "@jupyter-widgets/output",
      "model_module_version": "1.0.0",
      "model_name": "OutputModel",
      "state": {
       "layout": "IPY_MODEL_73222287304f42d784a30ed0360e6efb",
       "outputs": [
        {
         "data": {
          "text/markdown": "### 4. What is output by the following code",
          "text/plain": "<IPython.core.display.Markdown object>"
         },
         "metadata": {},
         "output_type": "display_data"
        },
        {
         "data": {
          "text/html": "<!-- HTML generated using hilite.me --><div style=\"background: #ffffff; overflow:auto;width:auto;border:solid gray;border-width:.1em .1em .1em .8em;padding:.2em .6em;\"><pre style=\"margin: 0; line-height: 125%\">m <span style=\"color: #333333\">=</span> <span style=\"color: #007020\">int</span>(<span style=\"color: #6600EE; font-weight: bold\">52.9</span> <span style=\"color: #333333\">+</span> <span style=\"color: #333333\">.</span><span style=\"color: #0000DD; font-weight: bold\">1</span>)\n<span style=\"color: #008800; font-weight: bold\">print</span>(m)\n</pre></div>\n\n<hr>",
          "text/plain": "<IPython.core.display.HTML object>"
         },
         "metadata": {},
         "output_type": "display_data"
        }
       ]
      }
     },
     "53c1392e5c064bd6abb9a191c8caf8c9": {
      "model_module": "@jupyter-widgets/controls",
      "model_module_version": "2.0.0",
      "model_name": "DescriptionStyleModel",
      "state": {
       "description_width": ""
      }
     },
     "5468c58f18b94b1e8d766145f31a071d": {
      "model_module": "@jupyter-widgets/base",
      "model_module_version": "2.0.0",
      "model_name": "LayoutModel",
      "state": {}
     },
     "553b842b625247c785680aa92f721174": {
      "model_module": "@jupyter-widgets/controls",
      "model_module_version": "2.0.0",
      "model_name": "DescriptionStyleModel",
      "state": {
       "description_width": ""
      }
     },
     "55a60cf37c164907841038f367618e2d": {
      "model_module": "@jupyter-widgets/base",
      "model_module_version": "2.0.0",
      "model_name": "LayoutModel",
      "state": {}
     },
     "56b33ccc47f742f4a3d97303a6c6f1fb": {
      "model_module": "@jupyter-widgets/base",
      "model_module_version": "2.0.0",
      "model_name": "LayoutModel",
      "state": {}
     },
     "572fb50403674ac284c5f95fca61420f": {
      "model_module": "@jupyter-widgets/output",
      "model_module_version": "1.0.0",
      "model_name": "OutputModel",
      "state": {
       "layout": "IPY_MODEL_5cf15841711d4bd384945b0c01e4dfdb",
       "outputs": [
        {
         "data": {
          "text/markdown": "### 3. What is output by the following code",
          "text/plain": "<IPython.core.display.Markdown object>"
         },
         "metadata": {},
         "output_type": "display_data"
        },
        {
         "data": {
          "text/html": "<!-- HTML generated using hilite.me --><div style=\"background: #ffffff; overflow:auto;width:auto;border:solid gray;border-width:.1em .1em .1em .8em;padding:.2em .6em;\"><pre style=\"margin: 0; line-height: 125%\"><span style=\"color: #008800; font-weight: bold\">import</span> <span style=\"color: #0e84b5; font-weight: bold\">random</span>\nnum <span style=\"color: #333333\">=</span> random<span style=\"color: #333333\">.</span>randint(<span style=\"color: #0000DD; font-weight: bold\">0</span>,<span style=\"color: #0000DD; font-weight: bold\">1</span>)\n<span style=\"color: #008800; font-weight: bold\">if</span> num <span style=\"color: #333333\">==</span> <span style=\"color: #0000DD; font-weight: bold\">0</span>:\n    <span style=\"color: #008800; font-weight: bold\">print</span>(num)\n<span style=\"color: #008800; font-weight: bold\">elif</span> num <span style=\"color: #333333\">==</span> <span style=\"color: #0000DD; font-weight: bold\">1</span>:\n    <span style=\"color: #008800; font-weight: bold\">print</span>(num <span style=\"color: #333333\">-</span> <span style=\"color: #0000DD; font-weight: bold\">1</span>)\n<span style=\"color: #008800; font-weight: bold\">else</span>:\n    <span style=\"color: #008800; font-weight: bold\">print</span>(<span style=\"color: #0000DD; font-weight: bold\">50</span>)\n</pre></div>\n\n<hr>",
          "text/plain": "<IPython.core.display.HTML object>"
         },
         "metadata": {},
         "output_type": "display_data"
        }
       ]
      }
     },
     "574d5d54f6814fab97428c26b8552f5a": {
      "model_module": "@jupyter-widgets/controls",
      "model_module_version": "2.0.0",
      "model_name": "ButtonStyleModel",
      "state": {
       "font_family": null,
       "font_size": null,
       "font_style": null,
       "font_variant": null,
       "font_weight": null,
       "text_color": null,
       "text_decoration": null
      }
     },
     "57d449ecb096465f85a3a4db323014cd": {
      "model_module": "@jupyter-widgets/base",
      "model_module_version": "2.0.0",
      "model_name": "LayoutModel",
      "state": {}
     },
     "57f866cce5474c5abfcb6b5edcb45318": {
      "model_module": "@jupyter-widgets/controls",
      "model_module_version": "2.0.0",
      "model_name": "ButtonStyleModel",
      "state": {
       "font_family": null,
       "font_size": null,
       "font_style": null,
       "font_variant": null,
       "font_weight": null,
       "text_color": null,
       "text_decoration": null
      }
     },
     "5816e34280d14855a69f4e7a5384b3d8": {
      "model_module": "@jupyter-widgets/base",
      "model_module_version": "2.0.0",
      "model_name": "LayoutModel",
      "state": {}
     },
     "58445ccce62b4d5f9f23bf83f523b334": {
      "model_module": "@jupyter-widgets/base",
      "model_module_version": "2.0.0",
      "model_name": "LayoutModel",
      "state": {}
     },
     "5ab1a2d330874617a5da4f1256e05dc8": {
      "model_module": "@jupyter-widgets/base",
      "model_module_version": "2.0.0",
      "model_name": "LayoutModel",
      "state": {}
     },
     "5c122cb46b6f49a2badee9fa079a0551": {
      "model_module": "@jupyter-widgets/base",
      "model_module_version": "2.0.0",
      "model_name": "LayoutModel",
      "state": {}
     },
     "5c257cbd994a492694191a2898c8c03c": {
      "model_module": "@jupyter-widgets/base",
      "model_module_version": "2.0.0",
      "model_name": "LayoutModel",
      "state": {}
     },
     "5cf15841711d4bd384945b0c01e4dfdb": {
      "model_module": "@jupyter-widgets/base",
      "model_module_version": "2.0.0",
      "model_name": "LayoutModel",
      "state": {}
     },
     "5dea5c379d194d689c455015d5efa8e9": {
      "model_module": "@jupyter-widgets/base",
      "model_module_version": "2.0.0",
      "model_name": "LayoutModel",
      "state": {}
     },
     "5f20e4b15f334bf2ac05a5538f7a9ef0": {
      "model_module": "@jupyter-widgets/base",
      "model_module_version": "2.0.0",
      "model_name": "LayoutModel",
      "state": {}
     },
     "60156c914e8841c99047f9e28b50ece3": {
      "model_module": "@jupyter-widgets/base",
      "model_module_version": "2.0.0",
      "model_name": "LayoutModel",
      "state": {}
     },
     "6196399849874e49a41f607e5545efb8": {
      "model_module": "@jupyter-widgets/controls",
      "model_module_version": "2.0.0",
      "model_name": "RadioButtonsModel",
      "state": {
       "_options_labels": [
        "3.0 0.0",
        "3 3",
        "3.0 3.0",
        "3 0"
       ],
       "index": 0,
       "layout": "IPY_MODEL_445b7802ee4448c6abb5f2aa4ae00f6d",
       "style": "IPY_MODEL_e3a11a5c7b6742478949a232dbf44019"
      }
     },
     "61db0744e6854e91b18374e7d63cf621": {
      "model_module": "@jupyter-widgets/base",
      "model_module_version": "2.0.0",
      "model_name": "LayoutModel",
      "state": {}
     },
     "63616ee743b442a8bbbd1d63c3ed933c": {
      "model_module": "@jupyter-widgets/controls",
      "model_module_version": "2.0.0",
      "model_name": "RadioButtonsModel",
      "state": {
       "_options_labels": [
        "9 + 1",
        "RUNTIME ERROR",
        "10",
        "10.0",
        "SYNTAX ERROR"
       ],
       "index": 0,
       "layout": "IPY_MODEL_bb39743a910b46ca91574df7601cf43a",
       "style": "IPY_MODEL_0bd1bfce270744698229b070bd195d2e"
      }
     },
     "6427268d90384f10953b82aae9056544": {
      "model_module": "@jupyter-widgets/controls",
      "model_module_version": "2.0.0",
      "model_name": "VBoxModel",
      "state": {
       "children": [
        "IPY_MODEL_e8d0b68129cc482a85bad888c3300028",
        "IPY_MODEL_b0e566499566470ba5c773f842db6252",
        "IPY_MODEL_1fc143fd10f6476586cd7043e4ec63d1",
        "IPY_MODEL_14f617ed20124d849f4a199161be2d7a"
       ],
       "layout": "IPY_MODEL_14f8fbb0a2da4b84aa9884cdd00d1707"
      }
     },
     "68f727ba118046819be9879d8b4660fe": {
      "model_module": "@jupyter-widgets/base",
      "model_module_version": "2.0.0",
      "model_name": "LayoutModel",
      "state": {}
     },
     "6a9da3d88650415b841f6d03691a21fa": {
      "model_module": "@jupyter-widgets/base",
      "model_module_version": "2.0.0",
      "model_name": "LayoutModel",
      "state": {}
     },
     "6b78c17427084bf390e91f1a1fbe6cfe": {
      "model_module": "@jupyter-widgets/output",
      "model_module_version": "1.0.0",
      "model_name": "OutputModel",
      "state": {
       "layout": "IPY_MODEL_f6f9dee1051d47aead7a8f2af19168fb",
       "outputs": [
        {
         "data": {
          "text/markdown": "### 5. What is output by the following code",
          "text/plain": "<IPython.core.display.Markdown object>"
         },
         "metadata": {},
         "output_type": "display_data"
        },
        {
         "data": {
          "text/html": "<!-- HTML generated using hilite.me --><div style=\"background: #ffffff; overflow:auto;width:auto;border:solid gray;border-width:.1em .1em .1em .8em;padding:.2em .6em;\"><pre style=\"margin: 0; line-height: 125%\">p <span style=\"color: #333333\">=</span> <span style=\"color: #0000DD; font-weight: bold\">10</span> <span style=\"color: #333333\">//</span> <span style=\"color: #0000DD; font-weight: bold\">3</span>\nq <span style=\"color: #333333\">=</span> <span style=\"color: #0000DD; font-weight: bold\">3</span> <span style=\"color: #333333\">//</span> <span style=\"color: #0000DD; font-weight: bold\">10</span>\n<span style=\"color: #008800; font-weight: bold\">print</span>(p, q)\n</pre></div>\n\n<hr>",
          "text/plain": "<IPython.core.display.HTML object>"
         },
         "metadata": {},
         "output_type": "display_data"
        }
       ]
      }
     },
     "6c5dd721f80a4daaace976fde9b80874": {
      "model_module": "@jupyter-widgets/controls",
      "model_module_version": "2.0.0",
      "model_name": "RadioButtonsModel",
      "state": {
       "_options_labels": [
        "case2",
        "case3",
        "case1"
       ],
       "index": 0,
       "layout": "IPY_MODEL_810a2311c3d640ab9d3178d6a2ccc1a9",
       "style": "IPY_MODEL_30faf9f8940a485cb3043c2e67dd865b"
      }
     },
     "6d048950423849fbaf67a66d58efbc90": {
      "model_module": "@jupyter-widgets/base",
      "model_module_version": "2.0.0",
      "model_name": "LayoutModel",
      "state": {}
     },
     "6d0aedc4152e49d7ae1845a930ec0e8c": {
      "model_module": "@jupyter-widgets/controls",
      "model_module_version": "2.0.0",
      "model_name": "ButtonStyleModel",
      "state": {
       "font_family": null,
       "font_size": null,
       "font_style": null,
       "font_variant": null,
       "font_weight": null,
       "text_color": null,
       "text_decoration": null
      }
     },
     "6dad15a37c9a4d828533c1c47cb3a25f": {
      "model_module": "@jupyter-widgets/output",
      "model_module_version": "1.0.0",
      "model_name": "OutputModel",
      "state": {
       "layout": "IPY_MODEL_e6f6a1a2ab9c491f95b5180d52d012c1",
       "outputs": [
        {
         "data": {
          "text/markdown": "### 6. What is output by the following code",
          "text/plain": "<IPython.core.display.Markdown object>"
         },
         "metadata": {},
         "output_type": "display_data"
        },
        {
         "data": {
          "text/html": "<!-- HTML generated using hilite.me --><div style=\"background: #ffffff; overflow:auto;width:auto;border:solid gray;border-width:.1em .1em .1em .8em;padding:.2em .6em;\"><pre style=\"margin: 0; line-height: 125%\">y <span style=\"color: #333333\">=</span> <span style=\"color: #0000DD; font-weight: bold\">4</span> <span style=\"color: #333333\">/</span> <span style=\"color: #0000DD; font-weight: bold\">2</span>\na <span style=\"color: #333333\">=</span> <span style=\"color: #0000DD; font-weight: bold\">2</span> <span style=\"color: #333333\">%</span> <span style=\"color: #0000DD; font-weight: bold\">6</span>\n<span style=\"color: #008800; font-weight: bold\">print</span>(y, a)\n</pre></div>\n\n<hr>",
          "text/plain": "<IPython.core.display.HTML object>"
         },
         "metadata": {},
         "output_type": "display_data"
        }
       ]
      }
     },
     "6dc31ee8d8cb4ff3b25a5681b0b640a7": {
      "model_module": "@jupyter-widgets/base",
      "model_module_version": "2.0.0",
      "model_name": "LayoutModel",
      "state": {}
     },
     "6e30307d85c54525b57a9ee08c89d588": {
      "model_module": "@jupyter-widgets/controls",
      "model_module_version": "2.0.0",
      "model_name": "VBoxModel",
      "state": {
       "children": [
        "IPY_MODEL_dee8a9743112470e9ccce155cc63b360",
        "IPY_MODEL_f1dd62fba5604c90a70c8b35ba6ac0b1",
        "IPY_MODEL_eaa6f310c9734b9bbcdeab51c31c147e",
        "IPY_MODEL_c1181c78e4474870b0fb2a826d85c788"
       ],
       "layout": "IPY_MODEL_2f292b2df9754d24a23db094da4f2e57"
      }
     },
     "6e547ed9f6e3492cbc51e9113aebb891": {
      "model_module": "@jupyter-widgets/controls",
      "model_module_version": "2.0.0",
      "model_name": "VBoxModel",
      "state": {
       "children": [
        "IPY_MODEL_e32b06b35d5c4190805d3f1b257d7ebe",
        "IPY_MODEL_2617df38df724b38937b83bf48cfc448",
        "IPY_MODEL_bc34017e8c194576b20d1887e2524224",
        "IPY_MODEL_af8ece1927be43049de369e702674240"
       ],
       "layout": "IPY_MODEL_8d069a46f7b34a75b58392bbc7527b05"
      }
     },
     "6f4ca06c9f7141698053fe858c181176": {
      "model_module": "@jupyter-widgets/output",
      "model_module_version": "1.0.0",
      "model_name": "OutputModel",
      "state": {
       "layout": "IPY_MODEL_2e22678826474ec5982d5e1db4d5b94c"
      }
     },
     "6f914aaaea1c46b3b4b209693d6b7edb": {
      "model_module": "@jupyter-widgets/base",
      "model_module_version": "2.0.0",
      "model_name": "LayoutModel",
      "state": {}
     },
     "7152934c783442e492f6fdd113a6849d": {
      "model_module": "@jupyter-widgets/base",
      "model_module_version": "2.0.0",
      "model_name": "LayoutModel",
      "state": {}
     },
     "7273c07145524f8bbc2b193cc385656b": {
      "model_module": "@jupyter-widgets/controls",
      "model_module_version": "2.0.0",
      "model_name": "VBoxModel",
      "state": {
       "children": [
        "IPY_MODEL_c2bc432a4bb74972b8391e47297953fa",
        "IPY_MODEL_1d6d3f0dbca8403a84a47264b582be6c",
        "IPY_MODEL_4bfe396633c2481db09c30695b6fe816",
        "IPY_MODEL_6f4ca06c9f7141698053fe858c181176"
       ],
       "layout": "IPY_MODEL_bb27cd19c964443f8b62f232d79ce729"
      }
     },
     "73222287304f42d784a30ed0360e6efb": {
      "model_module": "@jupyter-widgets/base",
      "model_module_version": "2.0.0",
      "model_name": "LayoutModel",
      "state": {}
     },
     "7432b2af45dd4fefa7869dffe5bff20a": {
      "model_module": "@jupyter-widgets/controls",
      "model_module_version": "2.0.0",
      "model_name": "VBoxModel",
      "state": {
       "children": [
        "IPY_MODEL_12265b4c90c54ff388347a0bd1b30589",
        "IPY_MODEL_f8b82d86b4634762a4c4139d20b5d825",
        "IPY_MODEL_bfd4d8420a1d47cbb083404d2b879d0c",
        "IPY_MODEL_eb35f85819e849669ab6ffeeb6f0df11"
       ],
       "layout": "IPY_MODEL_b4f32b7361e94614b388b105ea7b40ca"
      }
     },
     "749f4e4f5aef45649a0fea767bb029e5": {
      "model_module": "@jupyter-widgets/controls",
      "model_module_version": "2.0.0",
      "model_name": "ButtonModel",
      "state": {
       "description": "submit",
       "layout": "IPY_MODEL_112816a41f874952a7deee047894782e",
       "style": "IPY_MODEL_981d410a033f45be842bc421e425ec9f",
       "tooltip": null
      }
     },
     "757467be38fc416fa5d8d40de744bd5b": {
      "model_module": "@jupyter-widgets/output",
      "model_module_version": "1.0.0",
      "model_name": "OutputModel",
      "state": {
       "layout": "IPY_MODEL_1b3efd38ed0447f286b669017bcbb69d"
      }
     },
     "759707a68dd34d6b81971f143a7b94a8": {
      "model_module": "@jupyter-widgets/controls",
      "model_module_version": "2.0.0",
      "model_name": "VBoxModel",
      "state": {
       "children": [
        "IPY_MODEL_be897024455741d5b3c438d14d1e8353",
        "IPY_MODEL_76b65a67060a4b788d77c5a0698a794a",
        "IPY_MODEL_f7b5771d032142cd9b41f41ae8464e05",
        "IPY_MODEL_9463430e27c5400c96388258083fdc74"
       ],
       "layout": "IPY_MODEL_6d048950423849fbaf67a66d58efbc90"
      }
     },
     "75a1221ffc704f7198ae0f5ebb6b9c48": {
      "model_module": "@jupyter-widgets/controls",
      "model_module_version": "2.0.0",
      "model_name": "VBoxModel",
      "state": {
       "children": [
        "IPY_MODEL_329f40599cc943e8886a61359035d5fd",
        "IPY_MODEL_95067d93fd5e4bc580a2aa4b3ba20384",
        "IPY_MODEL_7d62bf0aaa15432c893ccfbc968909f9",
        "IPY_MODEL_19cecb18e8ec43a2b185f7fffddcc495"
       ],
       "layout": "IPY_MODEL_308c9c2a2e864f6cb09392a9e98adaba"
      }
     },
     "76b65a67060a4b788d77c5a0698a794a": {
      "model_module": "@jupyter-widgets/controls",
      "model_module_version": "2.0.0",
      "model_name": "RadioButtonsModel",
      "state": {
       "_options_labels": [
        "True True",
        "True False",
        "False True",
        "False False"
       ],
       "index": 0,
       "layout": "IPY_MODEL_5468c58f18b94b1e8d766145f31a071d",
       "style": "IPY_MODEL_d2ca4d89160c435dba357d1426fe6999"
      }
     },
     "77155e877fa64543a6dbcd9260797cbe": {
      "model_module": "@jupyter-widgets/base",
      "model_module_version": "2.0.0",
      "model_name": "LayoutModel",
      "state": {}
     },
     "77c37987b2ed4e1cb0a47d801878deda": {
      "model_module": "@jupyter-widgets/base",
      "model_module_version": "2.0.0",
      "model_name": "LayoutModel",
      "state": {}
     },
     "78efa697e26f465187251def7812277a": {
      "model_module": "@jupyter-widgets/controls",
      "model_module_version": "2.0.0",
      "model_name": "ButtonStyleModel",
      "state": {
       "font_family": null,
       "font_size": null,
       "font_style": null,
       "font_variant": null,
       "font_weight": null,
       "text_color": null,
       "text_decoration": null
      }
     },
     "791ef781d7c4435eb4f936343b7b7182": {
      "model_module": "@jupyter-widgets/base",
      "model_module_version": "2.0.0",
      "model_name": "LayoutModel",
      "state": {}
     },
     "79da66e9c2a74c5f80afdfabdfdc03bb": {
      "model_module": "@jupyter-widgets/base",
      "model_module_version": "2.0.0",
      "model_name": "LayoutModel",
      "state": {}
     },
     "7a979ea012d24f6eb33b6177c08e7e79": {
      "model_module": "@jupyter-widgets/base",
      "model_module_version": "2.0.0",
      "model_name": "LayoutModel",
      "state": {}
     },
     "7b454bac5358449c8a0018c0f32794f6": {
      "model_module": "@jupyter-widgets/base",
      "model_module_version": "2.0.0",
      "model_name": "LayoutModel",
      "state": {}
     },
     "7b8ea719d9304f9aa0fb38ac14569505": {
      "model_module": "@jupyter-widgets/output",
      "model_module_version": "1.0.0",
      "model_name": "OutputModel",
      "state": {
       "layout": "IPY_MODEL_0fb29eff8f264d4e882de0a56fec41c6",
       "outputs": [
        {
         "data": {
          "text/markdown": "### 7. What is output by the following code",
          "text/plain": "<IPython.core.display.Markdown object>"
         },
         "metadata": {},
         "output_type": "display_data"
        },
        {
         "data": {
          "text/html": "<!-- HTML generated using hilite.me --><div style=\"background: #ffffff; overflow:auto;width:auto;border:solid gray;border-width:.1em .1em .1em .8em;padding:.2em .6em;\"><pre style=\"margin: 0; line-height: 125%\">count <span style=\"color: #333333\">=</span> <span style=\"color: #0000DD; font-weight: bold\">0</span>\n<span style=\"color: #008800; font-weight: bold\">for</span> i <span style=\"color: #000000; font-weight: bold\">in</span> <span style=\"color: #007020\">range</span>(<span style=\"color: #0000DD; font-weight: bold\">10</span>, <span style=\"color: #0000DD; font-weight: bold\">0</span>, <span style=\"color: #333333\">-</span><span style=\"color: #0000DD; font-weight: bold\">1</span>):\n    count <span style=\"color: #333333\">+=</span> <span style=\"color: #0000DD; font-weight: bold\">1</span>\n<span style=\"color: #008800; font-weight: bold\">print</span>(count)\n</pre></div>\n\n<hr>",
          "text/plain": "<IPython.core.display.HTML object>"
         },
         "metadata": {},
         "output_type": "display_data"
        }
       ]
      }
     },
     "7c79de9ef1394898951949559105dd11": {
      "model_module": "@jupyter-widgets/controls",
      "model_module_version": "2.0.0",
      "model_name": "VBoxModel",
      "state": {
       "children": [
        "IPY_MODEL_572fb50403674ac284c5f95fca61420f",
        "IPY_MODEL_1db752af17ea491c8d373ebd1621387e",
        "IPY_MODEL_d6ae58dc4c9e4ab7a38e6716c9225d6b",
        "IPY_MODEL_bc8a76d4d1884e218e149b27c2be0640"
       ],
       "layout": "IPY_MODEL_4c92badab8bb48a18b1786aeb666a5f8"
      }
     },
     "7d62bf0aaa15432c893ccfbc968909f9": {
      "model_module": "@jupyter-widgets/controls",
      "model_module_version": "2.0.0",
      "model_name": "ButtonModel",
      "state": {
       "description": "submit",
       "layout": "IPY_MODEL_f300248b0d434adba09fdc59d71685f4",
       "style": "IPY_MODEL_b056dcd427c94cd7b4d2fc3fc387ac1d",
       "tooltip": null
      }
     },
     "7e9b105c4bca4f51b5eb31c05c13cd0f": {
      "model_module": "@jupyter-widgets/base",
      "model_module_version": "2.0.0",
      "model_name": "LayoutModel",
      "state": {}
     },
     "8041cd17e91f41a7b96d05ee858a99b2": {
      "model_module": "@jupyter-widgets/controls",
      "model_module_version": "2.0.0",
      "model_name": "DescriptionStyleModel",
      "state": {
       "description_width": ""
      }
     },
     "80fe606e2f864c99989d0b3e97b0da64": {
      "model_module": "@jupyter-widgets/base",
      "model_module_version": "2.0.0",
      "model_name": "LayoutModel",
      "state": {}
     },
     "810a2311c3d640ab9d3178d6a2ccc1a9": {
      "model_module": "@jupyter-widgets/base",
      "model_module_version": "2.0.0",
      "model_name": "LayoutModel",
      "state": {}
     },
     "83313490b1ea4b969fa9e0c796a103d8": {
      "model_module": "@jupyter-widgets/base",
      "model_module_version": "2.0.0",
      "model_name": "LayoutModel",
      "state": {}
     },
     "83f66fdeb03c4040b4b983b93eda80d8": {
      "model_module": "@jupyter-widgets/controls",
      "model_module_version": "2.0.0",
      "model_name": "ButtonModel",
      "state": {
       "description": "submit",
       "layout": "IPY_MODEL_ce75ffa7645c495381be2395f42d6a9d",
       "style": "IPY_MODEL_c0f0cc9917bc49f28d878d4dc0e2ab75",
       "tooltip": null
      }
     },
     "8491fc42c5d84434ba17b8c2c6225b0c": {
      "model_module": "@jupyter-widgets/controls",
      "model_module_version": "2.0.0",
      "model_name": "ButtonStyleModel",
      "state": {
       "font_family": null,
       "font_size": null,
       "font_style": null,
       "font_variant": null,
       "font_weight": null,
       "text_color": null,
       "text_decoration": null
      }
     },
     "872a0bb382434e99aa9c69c12dbdb985": {
      "model_module": "@jupyter-widgets/output",
      "model_module_version": "1.0.0",
      "model_name": "OutputModel",
      "state": {
       "layout": "IPY_MODEL_bda8cd7799494cd4954b298d4acbf103"
      }
     },
     "875d161ca19e43f9806f9136e43ef831": {
      "model_module": "@jupyter-widgets/controls",
      "model_module_version": "2.0.0",
      "model_name": "DescriptionStyleModel",
      "state": {
       "description_width": ""
      }
     },
     "880c8a1b8f944a8c9c306717ab19f010": {
      "model_module": "@jupyter-widgets/controls",
      "model_module_version": "2.0.0",
      "model_name": "RadioButtonsModel",
      "state": {
       "_options_labels": [
        "RUNTIME ERROR",
        "-4 5",
        "-4 6",
        "-3 5",
        "-3 6"
       ],
       "index": 0,
       "layout": "IPY_MODEL_aa67328c581544e7b0dd34c114bb607e",
       "style": "IPY_MODEL_c556764a703848228502646a44aec15a"
      }
     },
     "8a8821ec107445e99796507ef98afab8": {
      "model_module": "@jupyter-widgets/controls",
      "model_module_version": "2.0.0",
      "model_name": "VBoxModel",
      "state": {
       "children": [
        "IPY_MODEL_cdce036c834246d683d032fe14d0b24f",
        "IPY_MODEL_880c8a1b8f944a8c9c306717ab19f010",
        "IPY_MODEL_bf91dce73da04a1d944be2b8aa82166e",
        "IPY_MODEL_22e8b53513c24fb8b583ba570ceeb2aa"
       ],
       "layout": "IPY_MODEL_0f41c29a7052411ca8b390004a3a2118"
      }
     },
     "8b7c8f934ab04110a584097806d44285": {
      "model_module": "@jupyter-widgets/output",
      "model_module_version": "1.0.0",
      "model_name": "OutputModel",
      "state": {
       "layout": "IPY_MODEL_47b28583550f4067b98c3ddd52956c94"
      }
     },
     "8bf32d73adad4e2bbf7eca8c0a62bf4d": {
      "model_module": "@jupyter-widgets/base",
      "model_module_version": "2.0.0",
      "model_name": "LayoutModel",
      "state": {}
     },
     "8d069a46f7b34a75b58392bbc7527b05": {
      "model_module": "@jupyter-widgets/base",
      "model_module_version": "2.0.0",
      "model_name": "LayoutModel",
      "state": {}
     },
     "8d8ee1accb67400b8cf1b1deb434aab0": {
      "model_module": "@jupyter-widgets/base",
      "model_module_version": "2.0.0",
      "model_name": "LayoutModel",
      "state": {}
     },
     "8d97b1814ff240c5a03fc83820adef0c": {
      "model_module": "@jupyter-widgets/base",
      "model_module_version": "2.0.0",
      "model_name": "LayoutModel",
      "state": {}
     },
     "8f12a534aee541b19dee02cbcf96e23e": {
      "model_module": "@jupyter-widgets/controls",
      "model_module_version": "2.0.0",
      "model_name": "ButtonModel",
      "state": {
       "description": "submit",
       "layout": "IPY_MODEL_2bfbbc061a7044cfa2d7d73b206b6e59",
       "style": "IPY_MODEL_574d5d54f6814fab97428c26b8552f5a",
       "tooltip": null
      }
     },
     "8febb851de2947d3bfc780145838edd5": {
      "model_module": "@jupyter-widgets/base",
      "model_module_version": "2.0.0",
      "model_name": "LayoutModel",
      "state": {}
     },
     "9033e6b7a5544938bb8a94b2594f79b7": {
      "model_module": "@jupyter-widgets/base",
      "model_module_version": "2.0.0",
      "model_name": "LayoutModel",
      "state": {}
     },
     "90cf572d2c0a4b41b9f46e1ed3079b5e": {
      "model_module": "@jupyter-widgets/controls",
      "model_module_version": "2.0.0",
      "model_name": "VBoxModel",
      "state": {
       "children": [
        "IPY_MODEL_370aa57c66a04b7b937730a3e11547e5",
        "IPY_MODEL_cb18f5f173724a71b2adbefd5028403d",
        "IPY_MODEL_749f4e4f5aef45649a0fea767bb029e5",
        "IPY_MODEL_872a0bb382434e99aa9c69c12dbdb985"
       ],
       "layout": "IPY_MODEL_98ee15fef42b40a49bca7e557d8c1910"
      }
     },
     "91266dcb5ac24940a8cfbb0e36c42f35": {
      "model_module": "@jupyter-widgets/base",
      "model_module_version": "2.0.0",
      "model_name": "LayoutModel",
      "state": {}
     },
     "91cfd754f7ac47f2a72624d19995fab2": {
      "model_module": "@jupyter-widgets/base",
      "model_module_version": "2.0.0",
      "model_name": "LayoutModel",
      "state": {}
     },
     "9200d48a2ac74766a155829cfca5cb41": {
      "model_module": "@jupyter-widgets/output",
      "model_module_version": "1.0.0",
      "model_name": "OutputModel",
      "state": {
       "layout": "IPY_MODEL_0805e973f8c94195bfcc22f9943ca427",
       "outputs": [
        {
         "data": {
          "text/markdown": "### 4. What is output by the following code",
          "text/plain": "<IPython.core.display.Markdown object>"
         },
         "metadata": {},
         "output_type": "display_data"
        },
        {
         "data": {
          "text/html": "<!-- HTML generated using hilite.me --><div style=\"background: #ffffff; overflow:auto;width:auto;border:solid gray;border-width:.1em .1em .1em .8em;padding:.2em .6em;\"><pre style=\"margin: 0; line-height: 125%\">k <span style=\"color: #333333\">=</span> <span style=\"color: #007020\">eval</span>(<span style=\"background-color: #fff0f0\">&#39;99.0 + 1&#39;</span>)\n<span style=\"color: #008800; font-weight: bold\">print</span>(k)\n</pre></div>\n\n<hr>",
          "text/plain": "<IPython.core.display.HTML object>"
         },
         "metadata": {},
         "output_type": "display_data"
        }
       ]
      }
     },
     "92b293c93e7749b5bcaa2dccfcd59e38": {
      "model_module": "@jupyter-widgets/controls",
      "model_module_version": "2.0.0",
      "model_name": "ButtonModel",
      "state": {
       "description": "submit",
       "layout": "IPY_MODEL_2ce63312d001472082fbb893a3f49188",
       "style": "IPY_MODEL_e9aecf7d5a0d4884b197d8aaffd2659b",
       "tooltip": null
      }
     },
     "93c7d00431e34da7b244a904251185c6": {
      "model_module": "@jupyter-widgets/base",
      "model_module_version": "2.0.0",
      "model_name": "LayoutModel",
      "state": {}
     },
     "9463430e27c5400c96388258083fdc74": {
      "model_module": "@jupyter-widgets/output",
      "model_module_version": "1.0.0",
      "model_name": "OutputModel",
      "state": {
       "layout": "IPY_MODEL_f17f691a9ee74ade921d2c8f0be21a0e"
      }
     },
     "95067d93fd5e4bc580a2aa4b3ba20384": {
      "model_module": "@jupyter-widgets/controls",
      "model_module_version": "2.0.0",
      "model_name": "RadioButtonsModel",
      "state": {
       "_options_labels": [
        "9",
        "27",
        "18",
        "0"
       ],
       "index": 0,
       "layout": "IPY_MODEL_91cfd754f7ac47f2a72624d19995fab2",
       "style": "IPY_MODEL_2101766e342f45c7a806494d9c4e4bde"
      }
     },
     "955d7292b4a84ac3841464b16a5021df": {
      "model_module": "@jupyter-widgets/controls",
      "model_module_version": "2.0.0",
      "model_name": "VBoxModel",
      "state": {
       "children": [
        "IPY_MODEL_ada19e564f6a410880df352d558d73f9",
        "IPY_MODEL_4016a10907ed44daace05faca14d991c",
        "IPY_MODEL_83f66fdeb03c4040b4b983b93eda80d8",
        "IPY_MODEL_d1d6d261042448ccb3629395a8d47a7b"
       ],
       "layout": "IPY_MODEL_8febb851de2947d3bfc780145838edd5"
      }
     },
     "9576b9cf06124272bae75840018e2c4c": {
      "model_module": "@jupyter-widgets/output",
      "model_module_version": "1.0.0",
      "model_name": "OutputModel",
      "state": {
       "layout": "IPY_MODEL_77c37987b2ed4e1cb0a47d801878deda"
      }
     },
     "95e640b9635c4b988ae0803172e70451": {
      "model_module": "@jupyter-widgets/base",
      "model_module_version": "2.0.0",
      "model_name": "LayoutModel",
      "state": {}
     },
     "963dc50368b848298a9daefdbd22af50": {
      "model_module": "@jupyter-widgets/base",
      "model_module_version": "2.0.0",
      "model_name": "LayoutModel",
      "state": {}
     },
     "96f096236a1b4351af14de6f34b52e33": {
      "model_module": "@jupyter-widgets/output",
      "model_module_version": "1.0.0",
      "model_name": "OutputModel",
      "state": {
       "layout": "IPY_MODEL_ff7799197dba489e9b8f1bf1b2df9118"
      }
     },
     "973c9ebdae72435fbf95f0e2b29797e7": {
      "model_module": "@jupyter-widgets/base",
      "model_module_version": "2.0.0",
      "model_name": "LayoutModel",
      "state": {}
     },
     "981d410a033f45be842bc421e425ec9f": {
      "model_module": "@jupyter-widgets/controls",
      "model_module_version": "2.0.0",
      "model_name": "ButtonStyleModel",
      "state": {
       "font_family": null,
       "font_size": null,
       "font_style": null,
       "font_variant": null,
       "font_weight": null,
       "text_color": null,
       "text_decoration": null
      }
     },
     "9853e01822e2403dbea6f902ad14f283": {
      "model_module": "@jupyter-widgets/output",
      "model_module_version": "1.0.0",
      "model_name": "OutputModel",
      "state": {
       "layout": "IPY_MODEL_248290c8a91a4ea0a1831a04a752791a"
      }
     },
     "98ee15fef42b40a49bca7e557d8c1910": {
      "model_module": "@jupyter-widgets/base",
      "model_module_version": "2.0.0",
      "model_name": "LayoutModel",
      "state": {}
     },
     "99304691983649b8b175530bf13bd292": {
      "model_module": "@jupyter-widgets/controls",
      "model_module_version": "2.0.0",
      "model_name": "VBoxModel",
      "state": {
       "children": [
        "IPY_MODEL_2071a6966d0a4963b1752a503149f125",
        "IPY_MODEL_25b8eaf3f8ca423c9e6635c189071152",
        "IPY_MODEL_9cb57a0809f34cb38f5f06edda6184fc",
        "IPY_MODEL_b26a304809934d548e6b9253738726db"
       ],
       "layout": "IPY_MODEL_03342937497a4815944974cdd8b5dcef"
      }
     },
     "9cb57a0809f34cb38f5f06edda6184fc": {
      "model_module": "@jupyter-widgets/controls",
      "model_module_version": "2.0.0",
      "model_name": "ButtonModel",
      "state": {
       "description": "submit",
       "layout": "IPY_MODEL_fc15ecb05b5b426eb1332fde3abae17f",
       "style": "IPY_MODEL_78efa697e26f465187251def7812277a",
       "tooltip": null
      }
     },
     "9e6c1fee919c4b5fb090d6b84098009b": {
      "model_module": "@jupyter-widgets/base",
      "model_module_version": "2.0.0",
      "model_name": "LayoutModel",
      "state": {}
     },
     "a02843bb732044a39c5283fe80746091": {
      "model_module": "@jupyter-widgets/base",
      "model_module_version": "2.0.0",
      "model_name": "LayoutModel",
      "state": {}
     },
     "a2b55ac920ed45338423982c203244d8": {
      "model_module": "@jupyter-widgets/base",
      "model_module_version": "2.0.0",
      "model_name": "LayoutModel",
      "state": {}
     },
     "a4c23bc327c94e409132d5b96a150e99": {
      "model_module": "@jupyter-widgets/base",
      "model_module_version": "2.0.0",
      "model_name": "LayoutModel",
      "state": {}
     },
     "a6a8dcbb64e24444886a315a74ee31d1": {
      "model_module": "@jupyter-widgets/output",
      "model_module_version": "1.0.0",
      "model_name": "OutputModel",
      "state": {
       "layout": "IPY_MODEL_61db0744e6854e91b18374e7d63cf621",
       "outputs": [
        {
         "data": {
          "text/markdown": "### 1. What is output by the following code",
          "text/plain": "<IPython.core.display.Markdown object>"
         },
         "metadata": {},
         "output_type": "display_data"
        },
        {
         "data": {
          "text/html": "<!-- HTML generated using hilite.me --><div style=\"background: #ffffff; overflow:auto;width:auto;border:solid gray;border-width:.1em .1em .1em .8em;padding:.2em .6em;\"><pre style=\"margin: 0; line-height: 125%\">x <span style=\"color: #333333\">=</span> <span style=\"color: #007020\">int</span>(<span style=\"color: #6600EE; font-weight: bold\">52.2</span>)\ny <span style=\"color: #333333\">=</span> math<span style=\"color: #333333\">.</span>floor(<span style=\"color: #6600EE; font-weight: bold\">999.9</span>)\n<span style=\"color: #008800; font-weight: bold\">print</span>(x, y)\n</pre></div>\n\n<hr>",
          "text/plain": "<IPython.core.display.HTML object>"
         },
         "metadata": {},
         "output_type": "display_data"
        }
       ]
      }
     },
     "a6b45b6794f64e2386296a6efe2f2854": {
      "model_module": "@jupyter-widgets/controls",
      "model_module_version": "2.0.0",
      "model_name": "RadioButtonsModel",
      "state": {
       "_options_labels": [
        "51",
        "50",
        "49",
        "48"
       ],
       "index": 0,
       "layout": "IPY_MODEL_0d8e81f62ca748c4aae41f020be67c97",
       "style": "IPY_MODEL_16082c7707f14c859673252daa6cbe20"
      }
     },
     "a8939c2852064a10aafb04dc3dd1789d": {
      "model_module": "@jupyter-widgets/controls",
      "model_module_version": "2.0.0",
      "model_name": "ButtonModel",
      "state": {
       "description": "submit",
       "layout": "IPY_MODEL_40d4267911b749b9936681a740d32191",
       "style": "IPY_MODEL_eb96a2d4001d42a0b05591cd546b2767",
       "tooltip": null
      }
     },
     "aa04ca73b05642e184923bbb814f0217": {
      "model_module": "@jupyter-widgets/controls",
      "model_module_version": "2.0.0",
      "model_name": "DescriptionStyleModel",
      "state": {
       "description_width": ""
      }
     },
     "aa67328c581544e7b0dd34c114bb607e": {
      "model_module": "@jupyter-widgets/base",
      "model_module_version": "2.0.0",
      "model_name": "LayoutModel",
      "state": {}
     },
     "aaf2466995f148a4880257cf24e8d9b7": {
      "model_module": "@jupyter-widgets/output",
      "model_module_version": "1.0.0",
      "model_name": "OutputModel",
      "state": {
       "layout": "IPY_MODEL_351f6b589b9c4205bbab2c4f5122bdfa",
       "outputs": [
        {
         "data": {
          "text/markdown": "### 2. What is output by the following code",
          "text/plain": "<IPython.core.display.Markdown object>"
         },
         "metadata": {},
         "output_type": "display_data"
        },
        {
         "data": {
          "text/html": "<!-- HTML generated using hilite.me --><div style=\"background: #ffffff; overflow:auto;width:auto;border:solid gray;border-width:.1em .1em .1em .8em;padding:.2em .6em;\"><pre style=\"margin: 0; line-height: 125%\"><span style=\"color: #008800; font-weight: bold\">import</span> <span style=\"color: #0e84b5; font-weight: bold\">math</span>\n\nt <span style=\"color: #333333\">=</span> math<span style=\"color: #333333\">.</span>floor(<span style=\"color: #333333\">-</span><span style=\"color: #6600EE; font-weight: bold\">909.1</span>)\na <span style=\"color: #333333\">=</span> <span style=\"color: #007020\">int</span>(<span style=\"color: #333333\">-</span><span style=\"color: #6600EE; font-weight: bold\">49.1</span>)\n<span style=\"color: #008800; font-weight: bold\">print</span>(t, a)\n</pre></div>\n\n<hr>",
          "text/plain": "<IPython.core.display.HTML object>"
         },
         "metadata": {},
         "output_type": "display_data"
        }
       ]
      }
     },
     "ac17a71a5bfc4b4d8b336f515e1ae201": {
      "model_module": "@jupyter-widgets/controls",
      "model_module_version": "2.0.0",
      "model_name": "VBoxModel",
      "state": {
       "children": [
        "IPY_MODEL_aaf2466995f148a4880257cf24e8d9b7",
        "IPY_MODEL_b54e8890c06644dbaf95bfa07ad0d545",
        "IPY_MODEL_3bb6b790ba43438a904e4db9ddf2a700",
        "IPY_MODEL_4d59ef0779e543b19edf6d40bcec8f43"
       ],
       "layout": "IPY_MODEL_bbb493e4f6d542f4ab0e879302464572"
      }
     },
     "ace90592de114785a25f0a13109965e6": {
      "model_module": "@jupyter-widgets/controls",
      "model_module_version": "2.0.0",
      "model_name": "ButtonModel",
      "state": {
       "description": "submit",
       "layout": "IPY_MODEL_93c7d00431e34da7b244a904251185c6",
       "style": "IPY_MODEL_27148cb3dd0945a2ba0b6244b1862d3c",
       "tooltip": null
      }
     },
     "ada19e564f6a410880df352d558d73f9": {
      "model_module": "@jupyter-widgets/output",
      "model_module_version": "1.0.0",
      "model_name": "OutputModel",
      "state": {
       "layout": "IPY_MODEL_b4123256e94349ed860f4de753b0949d",
       "outputs": [
        {
         "data": {
          "text/markdown": "### 1. What is output by the following code",
          "text/plain": "<IPython.core.display.Markdown object>"
         },
         "metadata": {},
         "output_type": "display_data"
        },
        {
         "data": {
          "text/html": "<!-- HTML generated using hilite.me --><div style=\"background: #ffffff; overflow:auto;width:auto;border:solid gray;border-width:.1em .1em .1em .8em;padding:.2em .6em;\"><pre style=\"margin: 0; line-height: 125%\">count <span style=\"color: #333333\">=</span> <span style=\"color: #0000DD; font-weight: bold\">0</span>\n<span style=\"color: #008800; font-weight: bold\">for</span> i <span style=\"color: #000000; font-weight: bold\">in</span> <span style=\"color: #007020\">range</span>(<span style=\"color: #0000DD; font-weight: bold\">0</span>, <span style=\"color: #0000DD; font-weight: bold\">10</span>):\n    count <span style=\"color: #333333\">*=</span> <span style=\"color: #0000DD; font-weight: bold\">2</span>\n<span style=\"color: #008800; font-weight: bold\">print</span>(count)\n</pre></div>\n\n<hr>",
          "text/plain": "<IPython.core.display.HTML object>"
         },
         "metadata": {},
         "output_type": "display_data"
        }
       ]
      }
     },
     "aea52b7bcc4f45eabc37cb896ba3c25e": {
      "model_module": "@jupyter-widgets/base",
      "model_module_version": "2.0.0",
      "model_name": "LayoutModel",
      "state": {}
     },
     "af623e41cfa641a6952ddffeea905ac0": {
      "model_module": "@jupyter-widgets/controls",
      "model_module_version": "2.0.0",
      "model_name": "ButtonModel",
      "state": {
       "description": "submit",
       "layout": "IPY_MODEL_e1450409c7024858baf37e4c810c7a9c",
       "style": "IPY_MODEL_fb73069e6e2343adb0e5f1cc3ccfed3a",
       "tooltip": null
      }
     },
     "af63d46e35a34361b08e145039cacc73": {
      "model_module": "@jupyter-widgets/controls",
      "model_module_version": "2.0.0",
      "model_name": "RadioButtonsModel",
      "state": {
       "_options_labels": [
        "4 -1",
        "0 1",
        "4 1",
        "0 -1"
       ],
       "index": 0,
       "layout": "IPY_MODEL_7e9b105c4bca4f51b5eb31c05c13cd0f",
       "style": "IPY_MODEL_8041cd17e91f41a7b96d05ee858a99b2"
      }
     },
     "af8ece1927be43049de369e702674240": {
      "model_module": "@jupyter-widgets/output",
      "model_module_version": "1.0.0",
      "model_name": "OutputModel",
      "state": {
       "layout": "IPY_MODEL_471bf4e9587a4d51a002a51f9a94406a"
      }
     },
     "afd2e8a919c143fab893fe417a382e77": {
      "model_module": "@jupyter-widgets/base",
      "model_module_version": "2.0.0",
      "model_name": "LayoutModel",
      "state": {}
     },
     "b056dcd427c94cd7b4d2fc3fc387ac1d": {
      "model_module": "@jupyter-widgets/controls",
      "model_module_version": "2.0.0",
      "model_name": "ButtonStyleModel",
      "state": {
       "font_family": null,
       "font_size": null,
       "font_style": null,
       "font_variant": null,
       "font_weight": null,
       "text_color": null,
       "text_decoration": null
      }
     },
     "b0e566499566470ba5c773f842db6252": {
      "model_module": "@jupyter-widgets/controls",
      "model_module_version": "2.0.0",
      "model_name": "RadioButtonsModel",
      "state": {
       "_options_labels": [
        "0.0",
        "0",
        "SYNTAX ERROR",
        "RUNTIME ERROR",
        "1 - 1"
       ],
       "index": 0,
       "layout": "IPY_MODEL_6f914aaaea1c46b3b4b209693d6b7edb",
       "style": "IPY_MODEL_f6d7ea91be2f4268893d8a9cf507940a"
      }
     },
     "b13accd5b376432cadff9ab2d2cc38c6": {
      "model_module": "@jupyter-widgets/base",
      "model_module_version": "2.0.0",
      "model_name": "LayoutModel",
      "state": {}
     },
     "b1ef6248a2c6462796af865157045c08": {
      "model_module": "@jupyter-widgets/controls",
      "model_module_version": "2.0.0",
      "model_name": "VBoxModel",
      "state": {
       "children": [
        "IPY_MODEL_a6a8dcbb64e24444886a315a74ee31d1",
        "IPY_MODEL_1fc21eb73ecf494685e5ce5b4da1cc6e",
        "IPY_MODEL_313720590fae431aaf717287bc8ad733",
        "IPY_MODEL_9853e01822e2403dbea6f902ad14f283"
       ],
       "layout": "IPY_MODEL_9e6c1fee919c4b5fb090d6b84098009b"
      }
     },
     "b26a304809934d548e6b9253738726db": {
      "model_module": "@jupyter-widgets/output",
      "model_module_version": "1.0.0",
      "model_name": "OutputModel",
      "state": {
       "layout": "IPY_MODEL_150e7d1130d54f22924ee40eac831dd5"
      }
     },
     "b3084f52012047ce94897fa61536c511": {
      "model_module": "@jupyter-widgets/controls",
      "model_module_version": "2.0.0",
      "model_name": "ButtonStyleModel",
      "state": {
       "font_family": null,
       "font_size": null,
       "font_style": null,
       "font_variant": null,
       "font_weight": null,
       "text_color": null,
       "text_decoration": null
      }
     },
     "b326188f3e2b45c69087c32774c2978b": {
      "model_module": "@jupyter-widgets/controls",
      "model_module_version": "2.0.0",
      "model_name": "VBoxModel",
      "state": {
       "children": [
        "IPY_MODEL_c7e6aeb8a3af42babae16ddff8305194",
        "IPY_MODEL_af63d46e35a34361b08e145039cacc73",
        "IPY_MODEL_bc7a1a258f7b4da4a8917a18d530f649",
        "IPY_MODEL_bd08c48b9d9e43bebe771eb325c9980a"
       ],
       "layout": "IPY_MODEL_dfe0a4f7e85e47219a681687c067d534"
      }
     },
     "b342af2363ec4fc8b8150e82804b2440": {
      "model_module": "@jupyter-widgets/base",
      "model_module_version": "2.0.0",
      "model_name": "LayoutModel",
      "state": {}
     },
     "b4123256e94349ed860f4de753b0949d": {
      "model_module": "@jupyter-widgets/base",
      "model_module_version": "2.0.0",
      "model_name": "LayoutModel",
      "state": {}
     },
     "b4adfb58539541a988913d97688e55ac": {
      "model_module": "@jupyter-widgets/base",
      "model_module_version": "2.0.0",
      "model_name": "LayoutModel",
      "state": {}
     },
     "b4f32b7361e94614b388b105ea7b40ca": {
      "model_module": "@jupyter-widgets/base",
      "model_module_version": "2.0.0",
      "model_name": "LayoutModel",
      "state": {}
     },
     "b54e8890c06644dbaf95bfa07ad0d545": {
      "model_module": "@jupyter-widgets/controls",
      "model_module_version": "2.0.0",
      "model_name": "RadioButtonsModel",
      "state": {
       "_options_labels": [
        "-909 -50",
        "-908 -50",
        "-910 -49",
        "-908 -49",
        "-910 -50",
        "-909 -49"
       ],
       "index": 0,
       "layout": "IPY_MODEL_5f20e4b15f334bf2ac05a5538f7a9ef0",
       "style": "IPY_MODEL_e5e818e571ad4a4c9e15c657d06e3ae2"
      }
     },
     "b6931828f45944abb5fac881bfdda6da": {
      "model_module": "@jupyter-widgets/output",
      "model_module_version": "1.0.0",
      "model_name": "OutputModel",
      "state": {
       "layout": "IPY_MODEL_45bb0e91d66c4b58b8d2735acada7c46"
      }
     },
     "b6a7b52d830045a2a913c2263fb16c9b": {
      "model_module": "@jupyter-widgets/base",
      "model_module_version": "2.0.0",
      "model_name": "LayoutModel",
      "state": {}
     },
     "b7a40c9110f74e27b6a54743059ef277": {
      "model_module": "@jupyter-widgets/base",
      "model_module_version": "2.0.0",
      "model_name": "LayoutModel",
      "state": {}
     },
     "ba84085799c14f92a3cc3685f6f5dd27": {
      "model_module": "@jupyter-widgets/base",
      "model_module_version": "2.0.0",
      "model_name": "LayoutModel",
      "state": {}
     },
     "bb27cd19c964443f8b62f232d79ce729": {
      "model_module": "@jupyter-widgets/base",
      "model_module_version": "2.0.0",
      "model_name": "LayoutModel",
      "state": {}
     },
     "bb39743a910b46ca91574df7601cf43a": {
      "model_module": "@jupyter-widgets/base",
      "model_module_version": "2.0.0",
      "model_name": "LayoutModel",
      "state": {}
     },
     "bbaf852bd62844c7bbbe55a1f3c86441": {
      "model_module": "@jupyter-widgets/controls",
      "model_module_version": "2.0.0",
      "model_name": "DescriptionStyleModel",
      "state": {
       "description_width": ""
      }
     },
     "bbb493e4f6d542f4ab0e879302464572": {
      "model_module": "@jupyter-widgets/base",
      "model_module_version": "2.0.0",
      "model_name": "LayoutModel",
      "state": {}
     },
     "bc34017e8c194576b20d1887e2524224": {
      "model_module": "@jupyter-widgets/controls",
      "model_module_version": "2.0.0",
      "model_name": "ButtonModel",
      "state": {
       "description": "submit",
       "layout": "IPY_MODEL_5dea5c379d194d689c455015d5efa8e9",
       "style": "IPY_MODEL_22bdea06a2414dea8d417229948ae98c",
       "tooltip": null
      }
     },
     "bc7a1a258f7b4da4a8917a18d530f649": {
      "model_module": "@jupyter-widgets/controls",
      "model_module_version": "2.0.0",
      "model_name": "ButtonModel",
      "state": {
       "description": "submit",
       "layout": "IPY_MODEL_60156c914e8841c99047f9e28b50ece3",
       "style": "IPY_MODEL_c2b1368a5131409db10e473d3f9f689c",
       "tooltip": null
      }
     },
     "bc8a76d4d1884e218e149b27c2be0640": {
      "model_module": "@jupyter-widgets/output",
      "model_module_version": "1.0.0",
      "model_name": "OutputModel",
      "state": {
       "layout": "IPY_MODEL_7a979ea012d24f6eb33b6177c08e7e79"
      }
     },
     "bd08c48b9d9e43bebe771eb325c9980a": {
      "model_module": "@jupyter-widgets/output",
      "model_module_version": "1.0.0",
      "model_name": "OutputModel",
      "state": {
       "layout": "IPY_MODEL_2de5daa0717c483d8f68dd8071b6c9ad"
      }
     },
     "bd6a6bf11dac4ce2b57f5c52600bca95": {
      "model_module": "@jupyter-widgets/output",
      "model_module_version": "1.0.0",
      "model_name": "OutputModel",
      "state": {
       "layout": "IPY_MODEL_09ee73bad5364aebb60e0ba114f7ddd0"
      }
     },
     "bda8cd7799494cd4954b298d4acbf103": {
      "model_module": "@jupyter-widgets/base",
      "model_module_version": "2.0.0",
      "model_name": "LayoutModel",
      "state": {}
     },
     "be897024455741d5b3c438d14d1e8353": {
      "model_module": "@jupyter-widgets/output",
      "model_module_version": "1.0.0",
      "model_name": "OutputModel",
      "state": {
       "layout": "IPY_MODEL_d1e16d4fa0074a0aa5c97ef0dd24d238",
       "outputs": [
        {
         "data": {
          "text/markdown": "### 4. What is output by the following code",
          "text/plain": "<IPython.core.display.Markdown object>"
         },
         "metadata": {},
         "output_type": "display_data"
        },
        {
         "data": {
          "text/html": "<!-- HTML generated using hilite.me --><div style=\"background: #ffffff; overflow:auto;width:auto;border:solid gray;border-width:.1em .1em .1em .8em;padding:.2em .6em;\"><pre style=\"margin: 0; line-height: 125%\">x <span style=\"color: #333333\">=</span> <span style=\"color: #0000DD; font-weight: bold\">1</span>\ny <span style=\"color: #333333\">=</span> <span style=\"background-color: #fff0f0\">&#39;1&#39;</span>\na <span style=\"color: #333333\">=</span> x <span style=\"color: #333333\">==</span> y <span style=\"color: #000000; font-weight: bold\">and</span> x <span style=\"color: #333333\">&gt;</span> <span style=\"color: #0000DD; font-weight: bold\">0</span>\nb <span style=\"color: #333333\">=</span> y <span style=\"color: #333333\">!=</span> <span style=\"background-color: #fff0f0\">&#39;1&#39;</span> <span style=\"color: #000000; font-weight: bold\">or</span> x <span style=\"color: #333333\">%</span> <span style=\"color: #0000DD; font-weight: bold\">5</span> <span style=\"color: #333333\">&gt;=</span> <span style=\"color: #0000DD; font-weight: bold\">1</span>\n<span style=\"color: #008800; font-weight: bold\">print</span>(a, b)\n</pre></div>\n\n<hr>",
          "text/plain": "<IPython.core.display.HTML object>"
         },
         "metadata": {},
         "output_type": "display_data"
        }
       ]
      }
     },
     "bf91dce73da04a1d944be2b8aa82166e": {
      "model_module": "@jupyter-widgets/controls",
      "model_module_version": "2.0.0",
      "model_name": "ButtonModel",
      "state": {
       "description": "submit",
       "layout": "IPY_MODEL_b342af2363ec4fc8b8150e82804b2440",
       "style": "IPY_MODEL_c56ed45266be4806b5b0f94d0ade44a0",
       "tooltip": null
      }
     },
     "bfd4d8420a1d47cbb083404d2b879d0c": {
      "model_module": "@jupyter-widgets/controls",
      "model_module_version": "2.0.0",
      "model_name": "ButtonModel",
      "state": {
       "description": "submit",
       "layout": "IPY_MODEL_a02843bb732044a39c5283fe80746091",
       "style": "IPY_MODEL_ce076530b1c84ae8bb2103c88c32a2ee",
       "tooltip": null
      }
     },
     "c0f0cc9917bc49f28d878d4dc0e2ab75": {
      "model_module": "@jupyter-widgets/controls",
      "model_module_version": "2.0.0",
      "model_name": "ButtonStyleModel",
      "state": {
       "font_family": null,
       "font_size": null,
       "font_style": null,
       "font_variant": null,
       "font_weight": null,
       "text_color": null,
       "text_decoration": null
      }
     },
     "c1181c78e4474870b0fb2a826d85c788": {
      "model_module": "@jupyter-widgets/output",
      "model_module_version": "1.0.0",
      "model_name": "OutputModel",
      "state": {
       "layout": "IPY_MODEL_05360623c6be41cc8ef4426a70251e7a"
      }
     },
     "c2b1368a5131409db10e473d3f9f689c": {
      "model_module": "@jupyter-widgets/controls",
      "model_module_version": "2.0.0",
      "model_name": "ButtonStyleModel",
      "state": {
       "font_family": null,
       "font_size": null,
       "font_style": null,
       "font_variant": null,
       "font_weight": null,
       "text_color": null,
       "text_decoration": null
      }
     },
     "c2bc432a4bb74972b8391e47297953fa": {
      "model_module": "@jupyter-widgets/output",
      "model_module_version": "1.0.0",
      "model_name": "OutputModel",
      "state": {
       "layout": "IPY_MODEL_46f126621c70433d8286ac8f55718943",
       "outputs": [
        {
         "data": {
          "text/markdown": "### 2. What is output by the following code",
          "text/plain": "<IPython.core.display.Markdown object>"
         },
         "metadata": {},
         "output_type": "display_data"
        },
        {
         "data": {
          "text/html": "<!-- HTML generated using hilite.me --><div style=\"background: #ffffff; overflow:auto;width:auto;border:solid gray;border-width:.1em .1em .1em .8em;padding:.2em .6em;\"><pre style=\"margin: 0; line-height: 125%\">count <span style=\"color: #333333\">=</span> <span style=\"color: #0000DD; font-weight: bold\">0</span>\nx <span style=\"color: #333333\">=</span> <span style=\"background-color: #fff0f0\">&#39;A&#39;</span>\ny <span style=\"color: #333333\">=</span> <span style=\"background-color: #fff0f0\">&#39;B&#39;</span>\n<span style=\"color: #008800; font-weight: bold\">if</span> x <span style=\"color: #333333\">==</span> <span style=\"background-color: #fff0f0\">&#39;X&#39;</span> <span style=\"color: #000000; font-weight: bold\">or</span> y <span style=\"color: #333333\">==</span> x:\n    count <span style=\"color: #333333\">+=</span> <span style=\"color: #0000DD; font-weight: bold\">1</span>\n<span style=\"color: #008800; font-weight: bold\">elif</span> count <span style=\"color: #333333\">&lt;</span> <span style=\"color: #0000DD; font-weight: bold\">50</span> <span style=\"color: #000000; font-weight: bold\">and</span> y <span style=\"color: #333333\">==</span> <span style=\"background-color: #fff0f0\">&#39;B&#39;</span>:\n    count <span style=\"color: #333333\">+=</span> <span style=\"color: #0000DD; font-weight: bold\">5</span>\n<span style=\"color: #008800; font-weight: bold\">else</span>:\n    count <span style=\"color: #333333\">*=</span> <span style=\"color: #0000DD; font-weight: bold\">3</span>\ncount <span style=\"color: #333333\">*=</span> <span style=\"color: #0000DD; font-weight: bold\">2</span>\n<span style=\"color: #008800; font-weight: bold\">print</span>(count)\n</pre></div>\n\n<hr>",
          "text/plain": "<IPython.core.display.HTML object>"
         },
         "metadata": {},
         "output_type": "display_data"
        }
       ]
      }
     },
     "c38d1a3c2bbf476fa697e288601dd64e": {
      "model_module": "@jupyter-widgets/controls",
      "model_module_version": "2.0.0",
      "model_name": "ButtonStyleModel",
      "state": {
       "font_family": null,
       "font_size": null,
       "font_style": null,
       "font_variant": null,
       "font_weight": null,
       "text_color": null,
       "text_decoration": null
      }
     },
     "c556764a703848228502646a44aec15a": {
      "model_module": "@jupyter-widgets/controls",
      "model_module_version": "2.0.0",
      "model_name": "DescriptionStyleModel",
      "state": {
       "description_width": ""
      }
     },
     "c56ed45266be4806b5b0f94d0ade44a0": {
      "model_module": "@jupyter-widgets/controls",
      "model_module_version": "2.0.0",
      "model_name": "ButtonStyleModel",
      "state": {
       "font_family": null,
       "font_size": null,
       "font_style": null,
       "font_variant": null,
       "font_weight": null,
       "text_color": null,
       "text_decoration": null
      }
     },
     "c5b2d193b39e46a38abc56ad746989c8": {
      "model_module": "@jupyter-widgets/output",
      "model_module_version": "1.0.0",
      "model_name": "OutputModel",
      "state": {
       "layout": "IPY_MODEL_b4adfb58539541a988913d97688e55ac",
       "outputs": [
        {
         "data": {
          "text/markdown": "### 2. What is output by the following code",
          "text/plain": "<IPython.core.display.Markdown object>"
         },
         "metadata": {},
         "output_type": "display_data"
        },
        {
         "data": {
          "text/html": "<!-- HTML generated using hilite.me --><div style=\"background: #ffffff; overflow:auto;width:auto;border:solid gray;border-width:.1em .1em .1em .8em;padding:.2em .6em;\"><pre style=\"margin: 0; line-height: 125%\">a <span style=\"color: #333333\">=</span> <span style=\"color: #007020\">eval</span>(<span style=\"background-color: #fff0f0\">&#39;9 + 1&#39;</span>)\n<span style=\"color: #008800; font-weight: bold\">print</span>(a)\n</pre></div>\n\n<hr>",
          "text/plain": "<IPython.core.display.HTML object>"
         },
         "metadata": {},
         "output_type": "display_data"
        }
       ]
      }
     },
     "c648b22937d843f2a0c92ef9f3ae37cd": {
      "model_module": "@jupyter-widgets/base",
      "model_module_version": "2.0.0",
      "model_name": "LayoutModel",
      "state": {}
     },
     "c7b6c2cb6c374e7db51c7bc87a1e8af8": {
      "model_module": "@jupyter-widgets/controls",
      "model_module_version": "2.0.0",
      "model_name": "ButtonStyleModel",
      "state": {
       "font_family": null,
       "font_size": null,
       "font_style": null,
       "font_variant": null,
       "font_weight": null,
       "text_color": null,
       "text_decoration": null
      }
     },
     "c7e6aeb8a3af42babae16ddff8305194": {
      "model_module": "@jupyter-widgets/output",
      "model_module_version": "1.0.0",
      "model_name": "OutputModel",
      "state": {
       "layout": "IPY_MODEL_80fe606e2f864c99989d0b3e97b0da64",
       "outputs": [
        {
         "data": {
          "text/markdown": "### 8. What is output by the following code",
          "text/plain": "<IPython.core.display.Markdown object>"
         },
         "metadata": {},
         "output_type": "display_data"
        },
        {
         "data": {
          "text/html": "<!-- HTML generated using hilite.me --><div style=\"background: #ffffff; overflow:auto;width:auto;border:solid gray;border-width:.1em .1em .1em .8em;padding:.2em .6em;\"><pre style=\"margin: 0; line-height: 125%\">x <span style=\"color: #333333\">=</span> <span style=\"color: #0000DD; font-weight: bold\">2</span>\ny <span style=\"color: #333333\">=</span> x <span style=\"color: #333333\">-</span> <span style=\"color: #0000DD; font-weight: bold\">2</span>\nx <span style=\"color: #333333\">*=</span> <span style=\"color: #0000DD; font-weight: bold\">2</span>\ny <span style=\"color: #333333\">+=</span> <span style=\"color: #333333\">-</span><span style=\"color: #0000DD; font-weight: bold\">1</span>\n<span style=\"color: #008800; font-weight: bold\">print</span>(x, y)\n</pre></div>\n\n<hr>",
          "text/plain": "<IPython.core.display.HTML object>"
         },
         "metadata": {},
         "output_type": "display_data"
        }
       ]
      }
     },
     "c847e6f6b33a443483696102eefbd0a2": {
      "model_module": "@jupyter-widgets/base",
      "model_module_version": "2.0.0",
      "model_name": "LayoutModel",
      "state": {}
     },
     "cae76fe54e91481e900be1345031bd26": {
      "model_module": "@jupyter-widgets/controls",
      "model_module_version": "2.0.0",
      "model_name": "ButtonStyleModel",
      "state": {
       "font_family": null,
       "font_size": null,
       "font_style": null,
       "font_variant": null,
       "font_weight": null,
       "text_color": null,
       "text_decoration": null
      }
     },
     "cb18f5f173724a71b2adbefd5028403d": {
      "model_module": "@jupyter-widgets/controls",
      "model_module_version": "2.0.0",
      "model_name": "RadioButtonsModel",
      "state": {
       "_options_labels": [
        "3",
        "4",
        "INFINITE LOOP",
        "5"
       ],
       "index": 0,
       "layout": "IPY_MODEL_91266dcb5ac24940a8cfbb0e36c42f35",
       "style": "IPY_MODEL_e621cf7b68ea4586a7fa486824167f5e"
      }
     },
     "cb86c0912257481cae47feae002a76b5": {
      "model_module": "@jupyter-widgets/base",
      "model_module_version": "2.0.0",
      "model_name": "LayoutModel",
      "state": {}
     },
     "cdce036c834246d683d032fe14d0b24f": {
      "model_module": "@jupyter-widgets/output",
      "model_module_version": "1.0.0",
      "model_name": "OutputModel",
      "state": {
       "layout": "IPY_MODEL_eeefd95d7b874fab89984fa46435eac8",
       "outputs": [
        {
         "data": {
          "text/markdown": "### 3. What is output by the following code",
          "text/plain": "<IPython.core.display.Markdown object>"
         },
         "metadata": {},
         "output_type": "display_data"
        },
        {
         "data": {
          "text/html": "<!-- HTML generated using hilite.me --><div style=\"background: #ffffff; overflow:auto;width:auto;border:solid gray;border-width:.1em .1em .1em .8em;padding:.2em .6em;\"><pre style=\"margin: 0; line-height: 125%\"><span style=\"color: #008800; font-weight: bold\">import</span> <span style=\"color: #0e84b5; font-weight: bold\">math</span>\n\ny <span style=\"color: #333333\">=</span> math<span style=\"color: #333333\">.</span>floor(<span style=\"color: #333333\">-</span><span style=\"color: #6600EE; font-weight: bold\">3.99</span> <span style=\"color: #333333\">-</span> <span style=\"color: #333333\">.</span><span style=\"color: #4400EE; font-weight: bold\">01</span>)\nj <span style=\"color: #333333\">=</span> math<span style=\"color: #333333\">.</span>floor(<span style=\"color: #6600EE; font-weight: bold\">5.99</span> <span style=\"color: #333333\">+</span> <span style=\"color: #333333\">.</span><span style=\"color: #0000DD; font-weight: bold\">1</span>)\n<span style=\"color: #008800; font-weight: bold\">print</span>(y, j)\n</pre></div>\n\n<hr>",
          "text/plain": "<IPython.core.display.HTML object>"
         },
         "metadata": {},
         "output_type": "display_data"
        }
       ]
      }
     },
     "ce076530b1c84ae8bb2103c88c32a2ee": {
      "model_module": "@jupyter-widgets/controls",
      "model_module_version": "2.0.0",
      "model_name": "ButtonStyleModel",
      "state": {
       "font_family": null,
       "font_size": null,
       "font_style": null,
       "font_variant": null,
       "font_weight": null,
       "text_color": null,
       "text_decoration": null
      }
     },
     "ce75ffa7645c495381be2395f42d6a9d": {
      "model_module": "@jupyter-widgets/base",
      "model_module_version": "2.0.0",
      "model_name": "LayoutModel",
      "state": {}
     },
     "cfa63fc1d40847cc898a4855b1f7431b": {
      "model_module": "@jupyter-widgets/controls",
      "model_module_version": "2.0.0",
      "model_name": "VBoxModel",
      "state": {
       "children": [
        "IPY_MODEL_c5b2d193b39e46a38abc56ad746989c8",
        "IPY_MODEL_63616ee743b442a8bbbd1d63c3ed933c",
        "IPY_MODEL_a8939c2852064a10aafb04dc3dd1789d",
        "IPY_MODEL_269e43a0d7fe41f9882f70b16410e91b"
       ],
       "layout": "IPY_MODEL_7152934c783442e492f6fdd113a6849d"
      }
     },
     "d19dc325240d4ca3b1a8a49f05d9fd7f": {
      "model_module": "@jupyter-widgets/base",
      "model_module_version": "2.0.0",
      "model_name": "LayoutModel",
      "state": {}
     },
     "d1d6d261042448ccb3629395a8d47a7b": {
      "model_module": "@jupyter-widgets/output",
      "model_module_version": "1.0.0",
      "model_name": "OutputModel",
      "state": {
       "layout": "IPY_MODEL_10d7c1fdac0c46f197f36bfbdd6128bb"
      }
     },
     "d1e16d4fa0074a0aa5c97ef0dd24d238": {
      "model_module": "@jupyter-widgets/base",
      "model_module_version": "2.0.0",
      "model_name": "LayoutModel",
      "state": {}
     },
     "d2ca4d89160c435dba357d1426fe6999": {
      "model_module": "@jupyter-widgets/controls",
      "model_module_version": "2.0.0",
      "model_name": "DescriptionStyleModel",
      "state": {
       "description_width": ""
      }
     },
     "d44299e8192d4cd3af9f72993171f59c": {
      "model_module": "@jupyter-widgets/base",
      "model_module_version": "2.0.0",
      "model_name": "LayoutModel",
      "state": {}
     },
     "d67c9a1411fc4bb19e34b0ca89356c84": {
      "model_module": "@jupyter-widgets/output",
      "model_module_version": "1.0.0",
      "model_name": "OutputModel",
      "state": {
       "layout": "IPY_MODEL_207e2549b85c447ca530008b9938e67e",
       "outputs": [
        {
         "data": {
          "text/markdown": "### 1. What is output by the following code",
          "text/plain": "<IPython.core.display.Markdown object>"
         },
         "metadata": {},
         "output_type": "display_data"
        },
        {
         "data": {
          "text/html": "<!-- HTML generated using hilite.me --><div style=\"background: #ffffff; overflow:auto;width:auto;border:solid gray;border-width:.1em .1em .1em .8em;padding:.2em .6em;\"><pre style=\"margin: 0; line-height: 125%\"><span style=\"color: #008800; font-weight: bold\">def</span> <span style=\"color: #0066BB; font-weight: bold\">a</span>(x):\n    x <span style=\"color: #333333\">=</span> b(x)\n    <span style=\"color: #008800; font-weight: bold\">return</span> x <span style=\"color: #333333\">+</span> <span style=\"color: #0000DD; font-weight: bold\">2</span>\n\n<span style=\"color: #008800; font-weight: bold\">def</span> <span style=\"color: #0066BB; font-weight: bold\">b</span>(y):\n    <span style=\"color: #008800; font-weight: bold\">return</span> y <span style=\"color: #333333\">*</span> <span style=\"color: #0000DD; font-weight: bold\">2</span>\n\nwhat_am_i <span style=\"color: #333333\">=</span> a(<span style=\"color: #0000DD; font-weight: bold\">5</span>)\n<span style=\"color: #008800; font-weight: bold\">print</span>(what_am_i)\n</pre></div>\n\n\n<hr>",
          "text/plain": "<IPython.core.display.HTML object>"
         },
         "metadata": {},
         "output_type": "display_data"
        }
       ]
      }
     },
     "d6ae58dc4c9e4ab7a38e6716c9225d6b": {
      "model_module": "@jupyter-widgets/controls",
      "model_module_version": "2.0.0",
      "model_name": "ButtonModel",
      "state": {
       "description": "submit",
       "layout": "IPY_MODEL_ba84085799c14f92a3cc3685f6f5dd27",
       "style": "IPY_MODEL_b3084f52012047ce94897fa61536c511",
       "tooltip": null
      }
     },
     "d866c73e4198453e80cd612713adcc7d": {
      "model_module": "@jupyter-widgets/controls",
      "model_module_version": "2.0.0",
      "model_name": "VBoxModel",
      "state": {
       "children": [
        "IPY_MODEL_e7f312157d3a48d6930097934e0271c3",
        "IPY_MODEL_a6b45b6794f64e2386296a6efe2f2854",
        "IPY_MODEL_1ccbd675ea994a0289cbe0732e57b0b5",
        "IPY_MODEL_13074eee7c80463989e04d696b27c70f"
       ],
       "layout": "IPY_MODEL_0c2eb8047f0845c890d90f471bf4bfdb"
      }
     },
     "daad0d4b4e9d46188890ea8ad7d9f400": {
      "model_module": "@jupyter-widgets/controls",
      "model_module_version": "2.0.0",
      "model_name": "ButtonStyleModel",
      "state": {
       "font_family": null,
       "font_size": null,
       "font_style": null,
       "font_variant": null,
       "font_weight": null,
       "text_color": null,
       "text_decoration": null
      }
     },
     "dbb6eecf673844e58f52b30188dc5c83": {
      "model_module": "@jupyter-widgets/base",
      "model_module_version": "2.0.0",
      "model_name": "LayoutModel",
      "state": {}
     },
     "de446a91380643c28b1eb356d8e8d1c7": {
      "model_module": "@jupyter-widgets/base",
      "model_module_version": "2.0.0",
      "model_name": "LayoutModel",
      "state": {}
     },
     "dee8a9743112470e9ccce155cc63b360": {
      "model_module": "@jupyter-widgets/output",
      "model_module_version": "1.0.0",
      "model_name": "OutputModel",
      "state": {
       "layout": "IPY_MODEL_58445ccce62b4d5f9f23bf83f523b334",
       "outputs": [
        {
         "data": {
          "text/markdown": "### 2. What is output by the following code",
          "text/plain": "<IPython.core.display.Markdown object>"
         },
         "metadata": {},
         "output_type": "display_data"
        },
        {
         "data": {
          "text/html": "<!-- HTML generated using hilite.me --><div style=\"background: #ffffff; overflow:auto;width:auto;border:solid gray;border-width:.1em .1em .1em .8em;padding:.2em .6em;\"><pre style=\"margin: 0; line-height: 125%\">loop_control <span style=\"color: #333333\">=</span> <span style=\"color: #0000DD; font-weight: bold\">1</span>\ncount <span style=\"color: #333333\">=</span> <span style=\"color: #0000DD; font-weight: bold\">0</span>\n<span style=\"color: #008800; font-weight: bold\">while</span> loop_control <span style=\"color: #333333\">&lt;</span> <span style=\"color: #0000DD; font-weight: bold\">10</span>:\n    loop_control <span style=\"color: #333333\">*=</span> <span style=\"color: #0000DD; font-weight: bold\">2</span>\n    count <span style=\"color: #333333\">+=</span> <span style=\"color: #0000DD; font-weight: bold\">1</span>\n<span style=\"color: #008800; font-weight: bold\">print</span>(count)\n</pre></div>\n\n<hr>",
          "text/plain": "<IPython.core.display.HTML object>"
         },
         "metadata": {},
         "output_type": "display_data"
        }
       ]
      }
     },
     "dfe0a4f7e85e47219a681687c067d534": {
      "model_module": "@jupyter-widgets/base",
      "model_module_version": "2.0.0",
      "model_name": "LayoutModel",
      "state": {}
     },
     "e1450409c7024858baf37e4c810c7a9c": {
      "model_module": "@jupyter-widgets/base",
      "model_module_version": "2.0.0",
      "model_name": "LayoutModel",
      "state": {}
     },
     "e1faf2fb099c448cadde82458aa2f6ba": {
      "model_module": "@jupyter-widgets/base",
      "model_module_version": "2.0.0",
      "model_name": "LayoutModel",
      "state": {}
     },
     "e32b06b35d5c4190805d3f1b257d7ebe": {
      "model_module": "@jupyter-widgets/output",
      "model_module_version": "1.0.0",
      "model_name": "OutputModel",
      "state": {
       "layout": "IPY_MODEL_d44299e8192d4cd3af9f72993171f59c",
       "outputs": [
        {
         "data": {
          "text/markdown": "### 6. What is output by the following code",
          "text/plain": "<IPython.core.display.Markdown object>"
         },
         "metadata": {},
         "output_type": "display_data"
        },
        {
         "data": {
          "text/html": "<!-- HTML generated using hilite.me --><div style=\"background: #ffffff; overflow:auto;width:auto;border:solid gray;border-width:.1em .1em .1em .8em;padding:.2em .6em;\"><pre style=\"margin: 0; line-height: 125%\">loop_control <span style=\"color: #333333\">=</span> <span style=\"color: #333333\">-</span><span style=\"color: #0000DD; font-weight: bold\">10</span>\n<span style=\"color: #008800; font-weight: bold\">while</span> loop_control <span style=\"color: #333333\">&lt;=</span> <span style=\"color: #0000DD; font-weight: bold\">0</span>:\n    loop_control <span style=\"color: #333333\">*=</span> <span style=\"color: #0000DD; font-weight: bold\">2</span>\n<span style=\"color: #008800; font-weight: bold\">print</span>(loop_control)\n</pre></div>\n\n<hr>",
          "text/plain": "<IPython.core.display.HTML object>"
         },
         "metadata": {},
         "output_type": "display_data"
        }
       ]
      }
     },
     "e3a11a5c7b6742478949a232dbf44019": {
      "model_module": "@jupyter-widgets/controls",
      "model_module_version": "2.0.0",
      "model_name": "DescriptionStyleModel",
      "state": {
       "description_width": ""
      }
     },
     "e5e818e571ad4a4c9e15c657d06e3ae2": {
      "model_module": "@jupyter-widgets/controls",
      "model_module_version": "2.0.0",
      "model_name": "DescriptionStyleModel",
      "state": {
       "description_width": ""
      }
     },
     "e621cf7b68ea4586a7fa486824167f5e": {
      "model_module": "@jupyter-widgets/controls",
      "model_module_version": "2.0.0",
      "model_name": "DescriptionStyleModel",
      "state": {
       "description_width": ""
      }
     },
     "e6f6a1a2ab9c491f95b5180d52d012c1": {
      "model_module": "@jupyter-widgets/base",
      "model_module_version": "2.0.0",
      "model_name": "LayoutModel",
      "state": {}
     },
     "e772a6c65b0c4be1932d32ff084388a3": {
      "model_module": "@jupyter-widgets/base",
      "model_module_version": "2.0.0",
      "model_name": "LayoutModel",
      "state": {}
     },
     "e7f312157d3a48d6930097934e0271c3": {
      "model_module": "@jupyter-widgets/output",
      "model_module_version": "1.0.0",
      "model_name": "OutputModel",
      "state": {
       "layout": "IPY_MODEL_79da66e9c2a74c5f80afdfabdfdc03bb",
       "outputs": [
        {
         "data": {
          "text/markdown": "### 4. What is output by the following code",
          "text/plain": "<IPython.core.display.Markdown object>"
         },
         "metadata": {},
         "output_type": "display_data"
        },
        {
         "data": {
          "text/html": "<!-- HTML generated using hilite.me --><div style=\"background: #ffffff; overflow:auto;width:auto;border:solid gray;border-width:.1em .1em .1em .8em;padding:.2em .6em;\"><pre style=\"margin: 0; line-height: 125%\">loop_control <span style=\"color: #333333\">=</span> <span style=\"color: #333333\">-</span><span style=\"color: #0000DD; font-weight: bold\">2</span>\n<span style=\"color: #008800; font-weight: bold\">while</span> loop_control <span style=\"color: #333333\">&lt;</span> <span style=\"color: #0000DD; font-weight: bold\">50</span>:\n    loop_control <span style=\"color: #333333\">+=</span> <span style=\"color: #0000DD; font-weight: bold\">1</span>\n<span style=\"color: #008800; font-weight: bold\">print</span>(loop_control)\n</pre></div>\n\n<hr>",
          "text/plain": "<IPython.core.display.HTML object>"
         },
         "metadata": {},
         "output_type": "display_data"
        }
       ]
      }
     },
     "e8a6ae3ce36345f5a851f6670e543be3": {
      "model_module": "@jupyter-widgets/controls",
      "model_module_version": "2.0.0",
      "model_name": "RadioButtonsModel",
      "state": {
       "_options_labels": [
        "SYNTAX ERROR",
        "100.0",
        "100",
        "RUNTIME ERROR"
       ],
       "index": 0,
       "layout": "IPY_MODEL_7b454bac5358449c8a0018c0f32794f6",
       "style": "IPY_MODEL_446ab96af5a84144b90aa7d427327963"
      }
     },
     "e8d0b68129cc482a85bad888c3300028": {
      "model_module": "@jupyter-widgets/output",
      "model_module_version": "1.0.0",
      "model_name": "OutputModel",
      "state": {
       "layout": "IPY_MODEL_34338cebf4954c1dac98ad8b5fa71429",
       "outputs": [
        {
         "data": {
          "text/markdown": "### 3. What is output by the following code",
          "text/plain": "<IPython.core.display.Markdown object>"
         },
         "metadata": {},
         "output_type": "display_data"
        },
        {
         "data": {
          "text/html": "<!-- HTML generated using hilite.me --><div style=\"background: #ffffff; overflow:auto;width:auto;border:solid gray;border-width:.1em .1em .1em .8em;padding:.2em .6em;\"><pre style=\"margin: 0; line-height: 125%\">t <span style=\"color: #333333\">=</span> <span style=\"color: #007020\">int</span>(<span style=\"background-color: #fff0f0\">&#39;1 - 1&#39;</span>)\n<span style=\"color: #008800; font-weight: bold\">print</span>(t)\n</pre></div>\n\n<hr>",
          "text/plain": "<IPython.core.display.HTML object>"
         },
         "metadata": {},
         "output_type": "display_data"
        }
       ]
      }
     },
     "e9aecf7d5a0d4884b197d8aaffd2659b": {
      "model_module": "@jupyter-widgets/controls",
      "model_module_version": "2.0.0",
      "model_name": "ButtonStyleModel",
      "state": {
       "font_family": null,
       "font_size": null,
       "font_style": null,
       "font_variant": null,
       "font_weight": null,
       "text_color": null,
       "text_decoration": null
      }
     },
     "eaa6f310c9734b9bbcdeab51c31c147e": {
      "model_module": "@jupyter-widgets/controls",
      "model_module_version": "2.0.0",
      "model_name": "ButtonModel",
      "state": {
       "description": "submit",
       "layout": "IPY_MODEL_01dac6b34a7948dab15b80c0ba50209d",
       "style": "IPY_MODEL_c7b6c2cb6c374e7db51c7bc87a1e8af8",
       "tooltip": null
      }
     },
     "eb35f85819e849669ab6ffeeb6f0df11": {
      "model_module": "@jupyter-widgets/output",
      "model_module_version": "1.0.0",
      "model_name": "OutputModel",
      "state": {
       "layout": "IPY_MODEL_3ee258f35568420aa6de1db365b44fa8"
      }
     },
     "eb96a2d4001d42a0b05591cd546b2767": {
      "model_module": "@jupyter-widgets/controls",
      "model_module_version": "2.0.0",
      "model_name": "ButtonStyleModel",
      "state": {
       "font_family": null,
       "font_size": null,
       "font_style": null,
       "font_variant": null,
       "font_weight": null,
       "text_color": null,
       "text_decoration": null
      }
     },
     "eeefd95d7b874fab89984fa46435eac8": {
      "model_module": "@jupyter-widgets/base",
      "model_module_version": "2.0.0",
      "model_name": "LayoutModel",
      "state": {}
     },
     "f0a393cd6e664537880860cf0c75c567": {
      "model_module": "@jupyter-widgets/controls",
      "model_module_version": "2.0.0",
      "model_name": "DescriptionStyleModel",
      "state": {
       "description_width": ""
      }
     },
     "f17f691a9ee74ade921d2c8f0be21a0e": {
      "model_module": "@jupyter-widgets/base",
      "model_module_version": "2.0.0",
      "model_name": "LayoutModel",
      "state": {}
     },
     "f1b397e553de432b87667828473b27c1": {
      "model_module": "@jupyter-widgets/controls",
      "model_module_version": "2.0.0",
      "model_name": "ButtonModel",
      "state": {
       "description": "submit",
       "layout": "IPY_MODEL_57d449ecb096465f85a3a4db323014cd",
       "style": "IPY_MODEL_daad0d4b4e9d46188890ea8ad7d9f400",
       "tooltip": null
      }
     },
     "f1dd62fba5604c90a70c8b35ba6ac0b1": {
      "model_module": "@jupyter-widgets/controls",
      "model_module_version": "2.0.0",
      "model_name": "RadioButtonsModel",
      "state": {
       "_options_labels": [
        "6",
        "10",
        "5",
        "4",
        "3"
       ],
       "index": 0,
       "layout": "IPY_MODEL_c648b22937d843f2a0c92ef9f3ae37cd",
       "style": "IPY_MODEL_104daa2ad0b54cbfaffa9d5a12892950"
      }
     },
     "f201bd711c294aa4adbadc45c38fbdd0": {
      "model_module": "@jupyter-widgets/controls",
      "model_module_version": "2.0.0",
      "model_name": "RadioButtonsModel",
      "state": {
       "_options_labels": [
        "53",
        "53.0",
        "52.0",
        "RUNTIME ERROR",
        "52"
       ],
       "index": 0,
       "layout": "IPY_MODEL_d19dc325240d4ca3b1a8a49f05d9fd7f",
       "style": "IPY_MODEL_154c833e5360418b949862f1478e6148"
      }
     },
     "f22f244184c745a78c71264a94272319": {
      "model_module": "@jupyter-widgets/base",
      "model_module_version": "2.0.0",
      "model_name": "LayoutModel",
      "state": {}
     },
     "f300248b0d434adba09fdc59d71685f4": {
      "model_module": "@jupyter-widgets/base",
      "model_module_version": "2.0.0",
      "model_name": "LayoutModel",
      "state": {}
     },
     "f4f2cbb77c044f1796fb3309dd0fd76e": {
      "model_module": "@jupyter-widgets/controls",
      "model_module_version": "2.0.0",
      "model_name": "RadioButtonsModel",
      "state": {
       "_options_labels": [
        "50",
        "49",
        "RUNTIME ERROR",
        "1"
       ],
       "index": 0,
       "layout": "IPY_MODEL_f4fac622230b4e68aa768033dd9edd49",
       "style": "IPY_MODEL_553b842b625247c785680aa92f721174"
      }
     },
     "f4fac622230b4e68aa768033dd9edd49": {
      "model_module": "@jupyter-widgets/base",
      "model_module_version": "2.0.0",
      "model_name": "LayoutModel",
      "state": {}
     },
     "f6d7ea91be2f4268893d8a9cf507940a": {
      "model_module": "@jupyter-widgets/controls",
      "model_module_version": "2.0.0",
      "model_name": "DescriptionStyleModel",
      "state": {
       "description_width": ""
      }
     },
     "f6f9dee1051d47aead7a8f2af19168fb": {
      "model_module": "@jupyter-widgets/base",
      "model_module_version": "2.0.0",
      "model_name": "LayoutModel",
      "state": {}
     },
     "f7b5771d032142cd9b41f41ae8464e05": {
      "model_module": "@jupyter-widgets/controls",
      "model_module_version": "2.0.0",
      "model_name": "ButtonModel",
      "state": {
       "description": "submit",
       "layout": "IPY_MODEL_83313490b1ea4b969fa9e0c796a103d8",
       "style": "IPY_MODEL_231c79ce8d5e43f79cbcaa9527a1067a",
       "tooltip": null
      }
     },
     "f7d21130832d4dc999388853e0cdd072": {
      "model_module": "@jupyter-widgets/controls",
      "model_module_version": "2.0.0",
      "model_name": "VBoxModel",
      "state": {
       "children": [
        "IPY_MODEL_6b78c17427084bf390e91f1a1fbe6cfe",
        "IPY_MODEL_6196399849874e49a41f607e5545efb8",
        "IPY_MODEL_2dde45b1d1354cd4870257a27ce9c738",
        "IPY_MODEL_96f096236a1b4351af14de6f34b52e33"
       ],
       "layout": "IPY_MODEL_56b33ccc47f742f4a3d97303a6c6f1fb"
      }
     },
     "f8b82d86b4634762a4c4139d20b5d825": {
      "model_module": "@jupyter-widgets/controls",
      "model_module_version": "2.0.0",
      "model_name": "RadioButtonsModel",
      "state": {
       "_options_labels": [
        "50 50 0",
        "1 50 0",
        "50 0 1",
        "1 0 1"
       ],
       "index": 0,
       "layout": "IPY_MODEL_77155e877fa64543a6dbcd9260797cbe",
       "style": "IPY_MODEL_390d191b2c444c42a0a2e3224f7054fa"
      }
     },
     "f8d2a5dd98e340678cb4ac87c386aaeb": {
      "model_module": "@jupyter-widgets/output",
      "model_module_version": "1.0.0",
      "model_name": "OutputModel",
      "state": {
       "layout": "IPY_MODEL_973c9ebdae72435fbf95f0e2b29797e7"
      }
     },
     "f9b0c87e5b354169b2fc827ca311d300": {
      "model_module": "@jupyter-widgets/controls",
      "model_module_version": "2.0.0",
      "model_name": "RadioButtonsModel",
      "state": {
       "_options_labels": [
        "7",
        "9",
        "12",
        "10"
       ],
       "index": 0,
       "layout": "IPY_MODEL_3c0ca23b3740458793154b9a2f562044",
       "style": "IPY_MODEL_53c1392e5c064bd6abb9a191c8caf8c9"
      }
     },
     "fa8e5331ad7244e092efe39c60175f8f": {
      "model_module": "@jupyter-widgets/base",
      "model_module_version": "2.0.0",
      "model_name": "LayoutModel",
      "state": {}
     },
     "fb73069e6e2343adb0e5f1cc3ccfed3a": {
      "model_module": "@jupyter-widgets/controls",
      "model_module_version": "2.0.0",
      "model_name": "ButtonStyleModel",
      "state": {
       "font_family": null,
       "font_size": null,
       "font_style": null,
       "font_variant": null,
       "font_weight": null,
       "text_color": null,
       "text_decoration": null
      }
     },
     "fc15ecb05b5b426eb1332fde3abae17f": {
      "model_module": "@jupyter-widgets/base",
      "model_module_version": "2.0.0",
      "model_name": "LayoutModel",
      "state": {}
     },
     "ff0847fe4d6f46ccb4763da93dfebbdb": {
      "model_module": "@jupyter-widgets/controls",
      "model_module_version": "2.0.0",
      "model_name": "ButtonModel",
      "state": {
       "description": "submit",
       "layout": "IPY_MODEL_b13accd5b376432cadff9ab2d2cc38c6",
       "style": "IPY_MODEL_cae76fe54e91481e900be1345031bd26",
       "tooltip": null
      }
     },
     "ff7799197dba489e9b8f1bf1b2df9118": {
      "model_module": "@jupyter-widgets/base",
      "model_module_version": "2.0.0",
      "model_name": "LayoutModel",
      "state": {}
     },
     "ff85be7fc12e40cba2987f4f0da1fef2": {
      "model_module": "@jupyter-widgets/controls",
      "model_module_version": "2.0.0",
      "model_name": "DescriptionStyleModel",
      "state": {
       "description_width": ""
      }
     }
    },
    "version_major": 2,
    "version_minor": 0
   }
  }
 },
 "nbformat": 4,
 "nbformat_minor": 4
}
