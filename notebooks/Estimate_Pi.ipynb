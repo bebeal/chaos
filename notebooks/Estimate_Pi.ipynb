{
  "nbformat": 4,
  "nbformat_minor": 0,
  "metadata": {
    "kernelspec": {
      "display_name": "Python 3",
      "language": "python",
      "name": "python3"
    },
    "language_info": {
      "codemirror_mode": {
        "name": "ipython",
        "version": 3
      },
      "file_extension": ".py",
      "mimetype": "text/x-python",
      "name": "python",
      "nbconvert_exporter": "python",
      "pygments_lexer": "ipython3",
      "version": "3.7.3"
    },
    "colab": {
      "provenance": []
    }
  },
  "cells": [
    {
      "cell_type": "markdown",
      "metadata": {
        "id": "DeZo5DaVdMxn"
      },
      "source": [
        "# Estimate Pi\n",
        "\n",
        "Given *n* random samples from a uniform distribution, the goal is to approximate Pi as well as possible.\n",
        "\n",
        "Rules:\n",
        " * No functions other than elementary operations (`+`, `-`, `*`, `/`, `**`, `sqrt`, `<`, `>`, `==`)\n",
        " * No numpy\n",
        " * No direct computation of pi, or constants that produce pi\n",
        " * for loops are allowed\n",
        " * Can use `.mean()` to compute an average\n",
        " * Can use `.float()` to cast to float (if `<`, `>` or `==` are used)"
      ]
    },
    {
      "cell_type": "code",
      "metadata": {
        "id": "wAgzGqzndMxo",
        "colab": {
          "base_uri": "https://localhost:8080/"
        },
        "outputId": "76d92331-5ff8-4c94-9b43-99d52b265b8f"
      },
      "source": [
        "import torch\n",
        "\n",
        "def estimate_pi_over_4(n):\n",
        "    \"\"\"\n",
        "    Not a very good estimate but eh\n",
        "\n",
        "    Inputs:\n",
        "        n (int) number of samples to use. You are guaranteed that n>0 and even.\n",
        "\n",
        "    Returns:\n",
        "        (float) pi/4 approximation (ideally 0.78539816339).\n",
        "    \"\"\"\n",
        "    # Ranges from [0, 1].\n",
        "    x_samples = torch.rand(n//2)\n",
        "    y_samples = torch.rand(n//2)\n",
        "    num_in_circle = 0\n",
        "    # 0.5 in expectation.\n",
        "    for i in range(n//2):\n",
        "        x = x_samples[i]\n",
        "        y = y_samples[i]\n",
        "        dist = (x ** 2 + y ** 2) ** 0.5\n",
        "        if dist <= 1:\n",
        "            num_in_circle += 1\n",
        "\n",
        "    return num_in_circle / (n/2)\n",
        "\n",
        "estimate_pi_over_4(1000)"
      ],
      "execution_count": null,
      "outputs": [
        {
          "output_type": "execute_result",
          "data": {
            "text/plain": [
              "0.772"
            ]
          },
          "metadata": {},
          "execution_count": 16
        }
      ]
    },
    {
      "cell_type": "markdown",
      "metadata": {
        "id": "w5pcazJIdMxr"
      },
      "source": [
        "### Evaluation\n",
        "\n",
        "The estimation function will be evaluated on squared error from the actual value of pi.  \n",
        "We will run your code for varying values of *n*,\n",
        "to see how the approximation (hopefully) gets better as _n_ grows.\n",
        "**Do not modify the code below.**"
      ]
    },
    {
      "cell_type": "code",
      "metadata": {
        "id": "moWqo3eAdMxs"
      },
      "source": [
        "M_REPETITIONS = 1000\n",
        "\n",
        "\n",
        "def squared_error(pi_func, n_samples):\n",
        "    \"\"\"\n",
        "    Averages estimate of pi over M_REPETITIONS and computes the squared error from pi.\n",
        "\n",
        "    Inputs:\n",
        "        pi_func (function) given n_samples, returns approximation of pi.\n",
        "        n_samples (int) number of samples to draw from a uniform distribution.\n",
        "\n",
        "    Returns:\n",
        "        (float) mean absolute error.\n",
        "    \"\"\"\n",
        "    from numpy import mean, pi\n",
        "\n",
        "    return mean([abs(pi/4 - pi_func(n_samples)) for _ in range(M_REPETITIONS)])\n",
        "\n",
        "\n",
        "def evaluate(pi_func, plot=True):\n",
        "    import numpy as np\n",
        "    import matplotlib.pyplot as plt\n",
        "\n",
        "    ns = (torch.logspace(0, 3, 15)+0.99).int()*2\n",
        "    errors = [squared_error(pi_func, n) for n in ns]\n",
        "\n",
        "    if plot:\n",
        "        plt.title('Error: %.4f %s' % (np.mean(errors), pi_func))\n",
        "        plt.gca().set_ylabel('Estimation Error')\n",
        "        plt.gca().set_xlabel('n Samples (log)')\n",
        "        plt.gca().set_xscale('log')\n",
        "        plt.plot(ns, errors, 'o--')\n",
        "        plt.show()\n",
        "\n",
        "    # A good solution should obtain about 0.1 error,\n",
        "    # a great solution can reach 0.025 error\n",
        "    return errors"
      ],
      "execution_count": null,
      "outputs": []
    },
    {
      "cell_type": "code",
      "metadata": {
        "id": "HOyhw1_4DVRv",
        "colab": {
          "base_uri": "https://localhost:8080/",
          "height": 625
        },
        "outputId": "965dfd9a-b82c-4770-c497-a0c35792b089"
      },
      "source": [
        "# Let's test our solution here\n",
        "evaluate(estimate_pi_over_4)"
      ],
      "execution_count": null,
      "outputs": [
        {
          "output_type": "stream",
          "text": [
            "/usr/local/lib/python3.7/dist-packages/torch/_tensor.py:575: UserWarning: floor_divide is deprecated, and will be removed in a future version of pytorch. It currently rounds toward 0 (like the 'trunc' function NOT 'floor'). This results in incorrect rounding for negative values.\n",
            "To keep the current behavior, use torch.div(a, b, rounding_mode='trunc'), or for actual floor division, use torch.div(a, b, rounding_mode='floor'). (Triggered internally at  /pytorch/aten/src/ATen/native/BinaryOps.cpp:467.)\n",
            "  return torch.floor_divide(self, other)\n"
          ],
          "name": "stderr"
        },
        {
          "output_type": "display_data",
          "data": {
            "image/png": "[encoded data removed]",
            "text/plain": [
              "<Figure size 432x288 with 1 Axes>"
            ]
          },
          "metadata": {
            "needs_background": "light"
          }
        },
        {
          "output_type": "execute_result",
          "data": {
            "text/plain": [
              "[0.34988055,\n",
              " 0.26534954,\n",
              " 0.20274924,\n",
              " 0.133854,\n",
              " 0.11850221,\n",
              " 0.09805017,\n",
              " 0.074585415,\n",
              " 0.058764927,\n",
              " 0.04391373,\n",
              " 0.036438312,\n",
              " 0.02719536,\n",
              " 0.021877656,\n",
              " 0.017136041,\n",
              " 0.013116914,\n",
              " 0.010535202]"
            ]
          },
          "metadata": {},
          "execution_count": 14
        }
      ]
    }
  ]
}