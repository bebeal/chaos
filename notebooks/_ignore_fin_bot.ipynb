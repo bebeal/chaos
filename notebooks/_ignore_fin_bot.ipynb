{
  "cells": [
    {
      "cell_type": "code",
      "execution_count": null,
      "id": "2fca0c73",
      "metadata": {
        "id": "2fca0c73"
      },
      "outputs": [],
      "source": [
        "from datetime import datetime, date, timedelta\n",
        "import json\n",
        "import numpy as np\n",
        "import pandas as pd\n",
        "import simfin as sf\n",
        "from simfin.names import *\n",
        "from simfin.datasets import *\n",
        "import matplotlib.pyplot as plt\n",
        "import os\n",
        "\n",
        "sf.set_api_key(os.environ['SIMFIN_API_KEY'])\n",
        "sf.set_data_dir('~/simfin_data/')\n",
        "\n",
        "pd.set_option('display.max_rows', None)\n",
        "pd.set_option('display.expand_frame_repr', False)\n",
        "pd.set_option('max_colwidth', None)\n",
        "pd.set_option('display.float_format', lambda x: '%.3f' % x)"
      ]
    },
    {
      "cell_type": "code",
      "execution_count": null,
      "id": "c92f0437",
      "metadata": {
        "id": "c92f0437",
        "outputId": "e766cd5a-0901-4465-fe97-942deb237b80"
      },
      "outputs": [
        {
          "name": "stdout",
          "output_type": "stream",
          "text": [
            "Dataset \"us-income-ttm\" on disk (0 days old).\n",
            "- Loading from disk ... Done!\n",
            "Dataset \"us-balance-ttm\" on disk (0 days old).\n",
            "- Loading from disk ... Done!\n",
            "Dataset \"us-cashflow-ttm\" on disk (0 days old).\n",
            "- Loading from disk ... Done!\n",
            "Dataset \"us-shareprices-daily\" on disk (0 days old).\n",
            "- Loading from disk ... Done!\n",
            "Cache-file 'fin_signals-b1050b9e.pickle' on disk (0 days old).\n",
            "- Loading from disk ... Done!\n",
            "Dataset \"us-income-quarterly\" on disk (0 days old).\n",
            "- Loading from disk ... Done!\n",
            "Dataset \"us-balance-quarterly\" on disk (0 days old).\n",
            "- Loading from disk ... Done!\n",
            "Dataset \"us-cashflow-quarterly\" on disk (0 days old).\n",
            "- Loading from disk ... Done!\n",
            "Cache-file 'growth_signals-b1050b9e.pickle' on disk (0 days old).\n",
            "- Loading from disk ... Done!\n",
            "Cache-file 'val_signals-67c6b2dc.pickle' on disk (0 days old).\n",
            "- Loading from disk ... Done!\n",
            "Columns Dropped:\n",
            " Index(['Dividend', 'Dividend Yield'], dtype='object')\n",
            "\n",
            "Rows Dropped:\n",
            "              Date   Open    Low   High  Close  Adj. Close        Volume  Shares Outstanding  (Dividends + Share Buyback) / FCF  Asset Turnover  ...  FCF Yield  Market-Cap  P/Cash  P/E  P/FCF  P/NCAV  P/NetNet  P/Sales  Price to Book Value     _merge\n",
            "0  1483430400.000 14.320 14.060 14.690 14.470      14.470  88848810.000      2423415000.000                                NaN             NaN  ...        NaN         NaN     NaN  NaN    NaN     NaN       NaN      NaN                  NaN  left_only\n",
            "1  1483516800.000 14.320 14.290 15.200 15.130      15.130 168202065.000      2423415000.000                                NaN             NaN  ...        NaN         NaN     NaN  NaN    NaN     NaN       NaN      NaN                  NaN  left_only\n",
            "2  1483603200.000 15.090 14.800 15.170 15.120      15.120  88675425.000      2423415000.000                                NaN             NaN  ...        NaN         NaN     NaN  NaN    NaN     NaN       NaN      NaN                  NaN  left_only\n",
            "3  1483689600.000 15.130 15.030 15.350 15.270      15.270  82918395.000      2423415000.000                                NaN             NaN  ...        NaN         NaN     NaN  NaN    NaN     NaN       NaN      NaN                  NaN  left_only\n",
            "4  1483948800.000 15.260 15.200 15.460 15.420      15.420  59692260.000      2423415000.000                                NaN             NaN  ...        NaN         NaN     NaN  NaN    NaN     NaN       NaN      NaN                  NaN  left_only\n",
            "5  1484035200.000 15.470 15.130 15.470 15.320      15.320  54899325.000      2423415000.000                                NaN             NaN  ...        NaN         NaN     NaN  NaN    NaN     NaN       NaN      NaN                  NaN  left_only\n",
            "6  1484121600.000 15.270 15.110 15.330 15.320      15.320  54762375.000      2423415000.000                                NaN             NaN  ...        NaN         NaN     NaN  NaN    NaN     NaN       NaN      NaN                  NaN  left_only\n",
            "7  1484208000.000 15.270 15.040 15.380 15.310      15.310  56853435.000      2423415000.000                                NaN             NaN  ...        NaN         NaN     NaN  NaN    NaN     NaN       NaN      NaN                  NaN  left_only\n",
            "8  1484294400.000 15.330 15.310 15.860 15.850      15.850  91394400.000      2423415000.000                                NaN             NaN  ...        NaN         NaN     NaN  NaN    NaN     NaN       NaN      NaN                  NaN  left_only\n",
            "9  1484640000.000 15.780 15.620 16.000 15.710      15.710  69262830.000      2423415000.000                                NaN             NaN  ...        NaN         NaN     NaN  NaN    NaN     NaN       NaN      NaN                  NaN  left_only\n",
            "10 1484726400.000 15.780 15.710 15.980 15.890      15.890  56534505.000      2423415000.000                                NaN             NaN  ...        NaN         NaN     NaN  NaN    NaN     NaN       NaN      NaN                  NaN  left_only\n",
            "11 1484812800.000 16.480 16.050 16.580 16.250      16.250 115984545.000      2423415000.000                                NaN             NaN  ...        NaN         NaN     NaN  NaN    NaN     NaN       NaN      NaN                  NaN  left_only\n",
            "12 1484899200.000 16.360 16.200 16.400 16.320      16.320  63064125.000      2423415000.000                                NaN             NaN  ...        NaN         NaN     NaN  NaN    NaN     NaN       NaN      NaN                  NaN  left_only\n",
            "13 1485158400.000 16.390 16.370 16.730 16.590      16.590  93944070.000      2423415000.000                                NaN             NaN  ...        NaN         NaN     NaN  NaN    NaN     NaN       NaN      NaN                  NaN  left_only\n",
            "14 1485244800.000 16.670 16.640 16.990 16.970      16.970  74481765.000      2423415000.000                                NaN             NaN  ...        NaN         NaN     NaN  NaN    NaN     NaN       NaN      NaN                  NaN  left_only\n",
            "15 1485331200.000 17.150 16.790 17.230 16.960      16.960  77195415.000      2423415000.000                                NaN             NaN  ...        NaN         NaN     NaN  NaN    NaN     NaN       NaN      NaN                  NaN  left_only\n",
            "16 1485417600.000 16.950 16.720 17.050 16.830      16.830  47281845.000      2423415000.000                                NaN             NaN  ...        NaN         NaN     NaN  NaN    NaN     NaN       NaN      NaN                  NaN  left_only\n",
            "17 1485504000.000 16.760 16.570 16.870 16.860      16.860  47495040.000      2423415000.000                                NaN             NaN  ...        NaN         NaN     NaN  NaN    NaN     NaN       NaN      NaN                  NaN  left_only\n",
            "18 1485763200.000 16.840 16.470 17.020 16.710      16.710  57016110.000      2423415000.000                                NaN             NaN  ...        NaN         NaN     NaN  NaN    NaN     NaN       NaN      NaN                  NaN  left_only\n",
            "19 1485849600.000 16.620 16.510 17.060 16.800      16.800  61741560.000      2425056420.000                                NaN             NaN  ...        NaN         NaN     NaN  NaN    NaN     NaN       NaN      NaN                  NaN  left_only\n",
            "20 1485936000.000 16.870 16.600 16.880 16.620      16.620  59382435.000      2425056420.000                                NaN             NaN  ...        NaN         NaN     NaN  NaN    NaN     NaN       NaN      NaN                  NaN  left_only\n",
            "21 1486022400.000 16.560 16.510 16.830 16.770      16.770  37496625.000      2425056420.000                                NaN             NaN  ...        NaN         NaN     NaN  NaN    NaN     NaN       NaN      NaN                  NaN  left_only\n",
            "22 1486108800.000 16.790 16.650 16.810 16.760      16.760  32800845.000      2425056420.000                                NaN             NaN  ...        NaN         NaN     NaN  NaN    NaN     NaN       NaN      NaN                  NaN  left_only\n",
            "23 1486368000.000 16.730 16.710 17.190 17.180      17.180  53437755.000      2425056420.000                                NaN             NaN  ...        NaN         NaN     NaN  NaN    NaN     NaN       NaN      NaN                  NaN  left_only\n",
            "24 1486454400.000 17.210 17.090 17.330 17.170      17.170  63671625.000      2425056420.000                                NaN             NaN  ...        NaN         NaN     NaN  NaN    NaN     NaN       NaN      NaN                  NaN  left_only\n",
            "25 1486540800.000 17.160 17.080 17.560 17.470      17.470  58995210.000      2425056420.000                                NaN             NaN  ...        NaN         NaN     NaN  NaN    NaN     NaN       NaN      NaN                  NaN  left_only\n",
            "26 1486627200.000 17.750 17.740 18.080 17.950      17.950 117303330.000      2425056420.000                                NaN             NaN  ...        NaN         NaN     NaN  NaN    NaN     NaN       NaN      NaN                  NaN  left_only\n",
            "27 1486713600.000 17.990 17.740 18.060 17.950      17.950  54296085.000      2425056420.000                                NaN             NaN  ...        NaN         NaN     NaN  NaN    NaN     NaN       NaN      NaN                  NaN  left_only\n",
            "28 1486972800.000 18.050 18.030 18.720 18.710      18.710 105444075.000      2425056420.000                                NaN             NaN  ...        NaN         NaN     NaN  NaN    NaN     NaN       NaN      NaN                  NaN  left_only\n",
            "29 1487059200.000 18.600 18.570 19.160 18.730      18.730 110178360.000      2425056420.000                                NaN             NaN  ...        NaN         NaN     NaN  NaN    NaN     NaN       NaN      NaN                  NaN  left_only\n",
            "30 1487145600.000 18.670 18.430 18.820 18.650      18.650  74217840.000      2425056420.000                                NaN             NaN  ...        NaN         NaN     NaN  NaN    NaN     NaN       NaN      NaN                  NaN  left_only\n",
            "31 1487232000.000 18.510 17.900 18.670 17.930      17.930 106159830.000      2425056420.000                                NaN             NaN  ...        NaN         NaN     NaN  NaN    NaN     NaN       NaN      NaN                  NaN  left_only\n",
            "32 1487318400.000 17.720 17.610 18.190 18.150      18.150  93857235.000      2425056420.000                                NaN             NaN  ...        NaN         NaN     NaN  NaN    NaN     NaN       NaN      NaN                  NaN  left_only\n",
            "33 1487664000.000 18.360 18.270 18.760 18.490      18.490  85151205.000      2425056420.000                                NaN             NaN  ...        NaN         NaN     NaN  NaN    NaN     NaN       NaN      NaN                  NaN  left_only\n",
            "34 1487750400.000 18.690 18.170 18.900 18.230      18.230 131324625.000      2425056420.000                                NaN             NaN  ...        NaN         NaN     NaN  NaN    NaN     NaN       NaN      NaN                  NaN  left_only\n",
            "35 1487836800.000 17.600 17.040 17.640 17.070      17.070 223728735.000      2425056420.000                                NaN             NaN  ...        NaN         NaN     NaN  NaN    NaN     NaN       NaN      NaN                  NaN  left_only\n",
            "36 1487923200.000 16.840 16.680 17.220 17.130      17.130 122574390.000      2425056420.000                                NaN             NaN  ...        NaN         NaN     NaN  NaN    NaN     NaN       NaN      NaN                  NaN  left_only\n",
            "37 1488182400.000 16.540 16.130 16.560 16.420      16.420 171912150.000      2425056420.000                                NaN             NaN  ...        NaN         NaN     NaN  NaN    NaN     NaN       NaN      NaN                  NaN  left_only\n",
            "38 1488268800.000 16.280 16.260 16.730 16.670      16.670  91172175.000      2425056420.000                                NaN             NaN  ...        NaN         NaN     NaN  NaN    NaN     NaN       NaN      NaN                  NaN  left_only\n",
            "39 1488355200.000 16.950 16.610 16.990 16.670      16.670  72142320.000      2425056420.000                                NaN             NaN  ...        NaN         NaN     NaN  NaN    NaN     NaN       NaN      NaN                  NaN  left_only\n",
            "40 1488441600.000 16.650 16.550 16.890 16.700      16.700  50277495.000      2425056420.000                                NaN             NaN  ...        NaN         NaN     NaN  NaN    NaN     NaN       NaN      NaN                  NaN  left_only\n",
            "41 1488528000.000 16.720 16.600 16.790 16.770      16.770  43938510.000      2425056420.000                                NaN             NaN  ...        NaN         NaN     NaN  NaN    NaN     NaN       NaN      NaN                  NaN  left_only\n",
            "42 1488787200.000 16.530 16.500 16.780 16.750      16.750  50332500.000      2425056420.000                                NaN             NaN  ...        NaN         NaN     NaN  NaN    NaN     NaN       NaN      NaN                  NaN  left_only\n",
            "43 1488873600.000 16.790 16.550 16.930 16.570      16.570  51892050.000      2425056420.000                                NaN             NaN  ...        NaN         NaN     NaN  NaN    NaN     NaN       NaN      NaN                  NaN  left_only\n",
            "44 1488960000.000 16.470 16.350 16.670 16.460      16.460  55929735.000      2425056420.000                                NaN             NaN  ...        NaN         NaN     NaN  NaN    NaN     NaN       NaN      NaN                  NaN  left_only\n",
            "45 1489046400.000 16.510 16.200 16.580 16.330      16.330  58189395.000      2425056420.000                                NaN             NaN  ...        NaN         NaN     NaN  NaN    NaN     NaN       NaN      NaN                  NaN  left_only\n",
            "46 1489132800.000 16.410 16.200 16.430 16.250      16.250  45994080.000      2425056420.000                                NaN             NaN  ...        NaN         NaN     NaN  NaN    NaN     NaN       NaN      NaN                  NaN  left_only\n",
            "47 1489388400.000 16.320 16.190 16.460 16.410      16.410  45339375.000      2425056420.000                                NaN             NaN  ...        NaN         NaN     NaN  NaN    NaN     NaN       NaN      NaN                  NaN  left_only\n",
            "48 1489474800.000 16.410 16.400 17.210 17.200      17.200 113976690.000      2425056420.000                                NaN             NaN  ...        NaN         NaN     NaN  NaN    NaN     NaN       NaN      NaN                  NaN  left_only\n",
            "49 1489561200.000 17.130 16.950 17.400 17.050      17.050  79962090.000      2425056420.000                                NaN             NaN  ...        NaN         NaN     NaN  NaN    NaN     NaN       NaN      NaN                  NaN  left_only\n",
            "50 1489647600.000 17.490 17.270 17.720 17.470      17.470 106982295.000      2425056420.000                                NaN             NaN  ...        NaN         NaN     NaN  NaN    NaN     NaN       NaN      NaN                  NaN  left_only\n",
            "51 1489734000.000 17.600 17.410 17.690 17.430      17.430  97462440.000      2425056420.000                                NaN             NaN  ...        NaN         NaN     NaN  NaN    NaN     NaN       NaN      NaN                  NaN  left_only\n",
            "52 1489993200.000 17.370 17.250 17.640 17.460      17.460  54214410.000      2425056420.000                                NaN             NaN  ...        NaN         NaN     NaN  NaN    NaN     NaN       NaN      NaN                  NaN  left_only\n",
            "53 1490079600.000 17.520 16.680 17.650 16.710      16.710 103628310.000      2425056420.000                                NaN             NaN  ...        NaN         NaN     NaN  NaN    NaN     NaN       NaN      NaN                  NaN  left_only\n",
            "54 1490166000.000 16.770 16.700 17.000 17.000      17.000  60889455.000      2425056420.000                                NaN             NaN  ...        NaN         NaN     NaN  NaN    NaN     NaN       NaN      NaN                  NaN  left_only\n",
            "55 1490252400.000 17.030 16.890 17.180 16.990      16.990  49803675.000      2425056420.000                                NaN             NaN  ...        NaN         NaN     NaN  NaN    NaN     NaN       NaN      NaN                  NaN  left_only\n",
            "56 1490338800.000 17.050 17.000 17.590 17.540      17.540  84708795.000      2425056420.000                                NaN             NaN  ...        NaN         NaN     NaN  NaN    NaN     NaN       NaN      NaN                  NaN  left_only\n",
            "57 1490598000.000 17.370 17.320 18.040 18.010      18.010  93461925.000      2425056420.000                                NaN             NaN  ...        NaN         NaN     NaN  NaN    NaN     NaN       NaN      NaN                  NaN  left_only\n",
            "58 1490684400.000 18.470 18.330 18.710 18.500      18.500 119814060.000      2425056420.000                                NaN             NaN  ...        NaN         NaN     NaN  NaN    NaN     NaN       NaN      NaN                  NaN  left_only\n",
            "59 1490770800.000 18.560 18.370 18.640 18.490      18.490  55142355.000      2425056420.000                                NaN             NaN  ...        NaN         NaN     NaN  NaN    NaN     NaN       NaN      NaN                  NaN  left_only\n",
            "60 1490857200.000 18.540 18.480 18.800 18.530      18.530  62226390.000      2425056420.000                                NaN             NaN  ...        NaN         NaN     NaN  NaN    NaN     NaN       NaN      NaN                  NaN  left_only\n",
            "\n",
            "[61 rows x 50 columns]\n",
            "\n"
          ]
        }
      ],
      "source": [
        "class Ticker:\n",
        "    def __init__(self, ticker, variant='daily', refresh_days=1, refresh_days_shareprices=1,):\n",
        "        super(Ticker).__init__()\n",
        "        self.ticker = ticker\n",
        "        self.hub = sf.StockHub(market='us',\n",
        "                  tickers=[ticker],\n",
        "                  refresh_days=refresh_days,\n",
        "                  refresh_days_shareprices=refresh_days_shareprices)\n",
        "\n",
        "        df_fin_signals = self.hub.fin_signals(variant=variant)\n",
        "        df_growth_signals = self.hub.growth_signals(variant=variant)\n",
        "        df_val_signals = self.hub.val_signals(variant=variant)\n",
        "        df_prices = self.hub.load_shareprices(variant=variant)\n",
        "\n",
        "        self.df_fin_signals = df_fin_signals\n",
        "        self.df_growth_signals = df_growth_signals\n",
        "        self.df_val_signals = df_val_signals\n",
        "        self.df_prices = df_prices\n",
        "\n",
        "\n",
        "        self.df = pd.concat([df_prices, df_fin_signals, df_growth_signals, df_val_signals], axis=1)\n",
        "        self.df.reset_index(inplace=True)\n",
        "\n",
        "        # drop useless columns\n",
        "        self.df.drop('Ticker', inplace=True, axis=1)\n",
        "        self.df.drop('SimFinId', inplace=True, axis=1)\n",
        "\n",
        "        # convert date to integer\n",
        "        self.df['Date'] = pd.to_datetime(self.df['Date']).apply(datetime.timestamp)\n",
        "\n",
        "        # convert all values to float\n",
        "        self.df = self.df.astype('float')\n",
        "\n",
        "        self.drop_columns_if_nans_more_than()\n",
        "        self.drop_rows_if_nans_more_than()\n",
        "        self.df.fillna(0)\n",
        "\n",
        "    def drop_columns_if_nans_more_than(self, thresh=0.5):\n",
        "        columns_before = self.df.columns\n",
        "        self.df.dropna(axis=1, thresh=thresh * self.df.shape[0], inplace=True)\n",
        "        columns_after = self.df.columns\n",
        "        diff = columns_before.difference(columns_after)\n",
        "\n",
        "        print(\"Columns Dropped:\\n\", diff)\n",
        "        print()\n",
        "        return diff\n",
        "\n",
        "    def drop_rows_if_nans_more_than(self, thresh=0.5):\n",
        "        rows_before = self.df.copy()\n",
        "        self.df.dropna(axis=0, thresh=thresh * self.df.shape[1], inplace=True)\n",
        "        rows_after = self.df.copy()\n",
        "        diff = rows_before.merge(rows_after,indicator = True, how='left').loc[lambda x : x['_merge']!='both']\n",
        "\n",
        "        print(\"Rows Dropped:\\n\", diff)\n",
        "        print()\n",
        "        return diff\n",
        "\n",
        "    def percentage_columns_null(self):\n",
        "        print((self.df.isnull().sum() / len(self.df)).sort_values(ascending=False))\n",
        "\n",
        "    def get_data_up_to(self, date):\n",
        "        return self.df[self.df['Date'] <= datetime.fromisoformat(date).timestamp()]\n",
        "\n",
        "    def get_open_price_on(self, date):\n",
        "        return self.df[self.df['Date'] <= datetime.fromisoformat(date).timestamp()].tail(1)['Open'].values[0]\n",
        "\n",
        "tsla = Ticker('TSLA')\n",
        "\n",
        "# tsla.df.info()\n",
        "# tsla.percentage_columns_null()\n",
        "# tsla.df.head()"
      ]
    },
    {
      "cell_type": "code",
      "execution_count": null,
      "id": "8fc1cd1c",
      "metadata": {
        "id": "8fc1cd1c",
        "outputId": "ef969ba2-046d-4ae8-f38f-96fd73e12bfa"
      },
      "outputs": [
        {
          "name": "stdout",
          "output_type": "stream",
          "text": [
            "2020-01-01 27.0\n",
            "2020-01-02 28.3\n",
            "2020-01-03 29.37\n",
            "2020-01-04 29.37\n",
            "2020-01-05 29.37\n",
            "2020-01-06 29.36\n",
            "2020-01-07 30.76\n",
            "2020-01-08 31.58\n",
            "2020-01-09 33.14\n"
          ]
        }
      ],
      "source": [
        "def daterange(start_date, end_date):\n",
        "    for n in range(int((end_date - start_date).days)):\n",
        "        yield start_date + timedelta(n)\n",
        "\n",
        "start_date = date(2020, 1, 1)\n",
        "end_date = date(2020, 1, 10)\n",
        "for single_date in daterange(start_date, end_date):\n",
        "    print(single_date, tsla.get_open_price_on(single_date.strftime(\"%Y-%m-%d\")))"
      ]
    },
    {
      "cell_type": "code",
      "execution_count": null,
      "id": "a4097b9b",
      "metadata": {
        "id": "a4097b9b",
        "outputId": "2a406719-65cb-4081-e138-de531b5d2c53"
      },
      "outputs": [
        {
          "data": {
            "text/plain": [
              "datetime.date(2017, 3, 31)"
            ]
          },
          "execution_count": 41,
          "metadata": {},
          "output_type": "execute_result"
        }
      ],
      "source": [
        "start = date.fromtimestamp(tsla.df.iloc[0]['Date'])\n",
        "start"
      ]
    },
    {
      "cell_type": "code",
      "execution_count": null,
      "id": "3fe492c6",
      "metadata": {
        "id": "3fe492c6",
        "outputId": "2cd6e99a-71ad-4c2d-af1d-d59f72a160df"
      },
      "outputs": [
        {
          "data": {
            "text/plain": [
              "datetime.date(2021, 12, 31)"
            ]
          },
          "execution_count": 42,
          "metadata": {},
          "output_type": "execute_result"
        }
      ],
      "source": [
        "end = date.fromtimestamp(tsla.df.iloc[-1]['Date'])\n",
        "end"
      ]
    },
    {
      "cell_type": "code",
      "execution_count": null,
      "id": "d17c5bb0",
      "metadata": {
        "id": "d17c5bb0",
        "outputId": "d7a6b9bb-cf2b-49c6-d8d5-638996982099"
      },
      "outputs": [
        {
          "data": {
            "text/plain": [
              "1736"
            ]
          },
          "execution_count": 44,
          "metadata": {},
          "output_type": "execute_result"
        }
      ],
      "source": [
        "(end - start).days"
      ]
    },
    {
      "cell_type": "code",
      "execution_count": null,
      "id": "b2fb26df",
      "metadata": {
        "id": "b2fb26df"
      },
      "outputs": [],
      "source": []
    }
  ],
  "metadata": {
    "colab": {
      "provenance": []
    },
    "kernelspec": {
      "display_name": "Python 3 (ipykernel)",
      "language": "python",
      "name": "python3"
    },
    "language_info": {
      "codemirror_mode": {
        "name": "ipython",
        "version": 3
      },
      "file_extension": ".py",
      "mimetype": "text/x-python",
      "name": "python",
      "nbconvert_exporter": "python",
      "pygments_lexer": "ipython3",
      "version": "3.8.15"
    }
  },
  "nbformat": 4,
  "nbformat_minor": 5
}
